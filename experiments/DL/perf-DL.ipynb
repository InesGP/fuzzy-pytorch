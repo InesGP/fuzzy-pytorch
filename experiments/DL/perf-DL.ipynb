{
 "cells": [
  {
   "cell_type": "code",
   "execution_count": null,
   "id": "20a3dff6",
   "metadata": {},
   "outputs": [],
   "source": [
    "%pip install --upgrade plotly numpy nbformat kaleido pandas "
   ]
  },
  {
   "cell_type": "code",
   "execution_count": null,
   "id": "3a2a15c7",
   "metadata": {},
   "outputs": [],
   "source": [
    "import plotly.express as px\n",
    "import pandas as pd"
   ]
  },
  {
   "cell_type": "code",
   "execution_count": null,
   "id": "5dd515a8",
   "metadata": {},
   "outputs": [],
   "source": [
    "colors_map = {\n",
    "    \"IEEE\": \"#a80ca8\",\n",
    "    \"Verrou\": \"#ff7f0e\",\n",
    "    \"PRISM\": \"#1f77b4\",\n",
    "    \"CESTAC\": \"#1fb438\",\n",
    "    \"FM SR\": \"#26b7e4\",\n",
    "    \"MCA RR\": \"#f10202\",\n",
    "}"
   ]
  },
  {
   "cell_type": "code",
   "execution_count": null,
   "id": "9262cba4",
   "metadata": {},
   "outputs": [
    {
     "data": {
      "application/vnd.plotly.v1+json": {
       "config": {
        "plotlyServerURL": "https://plot.ly"
       },
       "data": [
        {
         "alignmentgroup": "True",
         "error_y": {
          "array": {
           "bdata": "B/AWSFD8eD8AAAAAADypQHsUrkfheihA",
           "dtype": "f8"
          }
         },
         "hovertemplate": "Tool=IEEE<br>Variant= <br>Benchmark=%{x}<br>Mean=%{y}<extra></extra>",
         "legendgroup": "IEEE",
         "marker": {
          "color": "#a80ca8",
          "pattern": {
           "shape": ""
          }
         },
         "name": "IEEE",
         "offsetgroup": "IEEE,  ",
         "orientation": "v",
         "showlegend": true,
         "textposition": "auto",
         "type": "bar",
         "x": [
          "MNIST",
          "FastSurfer",
          "WavLM"
         ],
         "xaxis": "x",
         "y": {
          "bdata": "hetRuB4FLEAAAAAAAGzBQGZmZmZm9lJA",
          "dtype": "f8"
         },
         "yaxis": "y"
        },
        {
         "alignmentgroup": "True",
         "error_y": {
          "array": {
           "bdata": "AAAAAACgZkAAAAAAAGiKQAAAAAAAIGpA",
           "dtype": "f8"
          }
         },
         "hovertemplate": "Tool=Verrou<br>Variant=CESTAC<br>Benchmark=%{x}<br>Mean=%{y}<extra></extra>",
         "legendgroup": "Verrou",
         "marker": {
          "color": "#ff7f0e",
          "pattern": {
           "shape": "/"
          }
         },
         "name": "Verrou CESTAC",
         "offsetgroup": "Verrou, CESTAC",
         "orientation": "v",
         "showlegend": true,
         "textposition": "auto",
         "type": "bar",
         "x": [
          "MNIST",
          "FastSurfer",
          "WavLM"
         ],
         "xaxis": "x",
         "y": {
          "bdata": "AAAAAAAIsUAAAAAA8CQ9QQAAAAAAzNBA",
          "dtype": "f8"
         },
         "yaxis": "y"
        },
        {
         "alignmentgroup": "True",
         "error_y": {
          "array": {
           "bdata": "AAAAAAAgc0AAAAAAANrWQAAAAAAAAF9A",
           "dtype": "f8"
          }
         },
         "hovertemplate": "Tool=Verrou<br>Variant=SR<br>Benchmark=%{x}<br>Mean=%{y}<extra></extra>",
         "legendgroup": "Verrou",
         "marker": {
          "color": "#ff7f0e",
          "pattern": {
           "shape": "\\"
          }
         },
         "name": "Verrou SR",
         "offsetgroup": "Verrou, SR",
         "orientation": "v",
         "showlegend": true,
         "textposition": "auto",
         "type": "bar",
         "x": [
          "MNIST",
          "FastSurfer",
          "WavLM"
         ],
         "xaxis": "x",
         "y": {
          "bdata": "AAAAAABcskAAAAAAANs6QQAAAAAAVtNA",
          "dtype": "f8"
         },
         "yaxis": "y"
        },
        {
         "alignmentgroup": "True",
         "error_y": {
          "array": {
           "bdata": "UrgehetR/D8AAAAAAGyxQOF6FK5HYURA",
           "dtype": "f8"
          }
         },
         "hovertemplate": "Tool=PRISM<br>Variant=UD<br>Benchmark=%{x}<br>Mean=%{y}<extra></extra>",
         "legendgroup": "PRISM",
         "marker": {
          "color": "#1f77b4",
          "pattern": {
           "shape": "/"
          }
         },
         "name": "PRISM UD",
         "offsetgroup": "PRISM, UD",
         "orientation": "v",
         "showlegend": true,
         "textposition": "auto",
         "type": "bar",
         "x": [
          "MNIST",
          "FastSurfer",
          "WavLM"
         ],
         "xaxis": "x",
         "y": {
          "bdata": "AAAAAADAW0AAAAAAAKTfQAAAAAAAXKxA",
          "dtype": "f8"
         },
         "yaxis": "y"
        },
        {
         "alignmentgroup": "True",
         "error_y": {
          "array": {
           "bdata": "PQrXo3A9AkAAAAAAAICrQMP1KFyPokpA",
           "dtype": "f8"
          }
         },
         "hovertemplate": "Tool=PRISM<br>Variant=SR<br>Benchmark=%{x}<br>Mean=%{y}<extra></extra>",
         "legendgroup": "PRISM",
         "marker": {
          "color": "#1f77b4",
          "pattern": {
           "shape": "\\"
          }
         },
         "name": "PRISM SR",
         "offsetgroup": "PRISM, SR",
         "orientation": "v",
         "showlegend": true,
         "textposition": "auto",
         "type": "bar",
         "x": [
          "MNIST",
          "FastSurfer",
          "WavLM"
         ],
         "xaxis": "x",
         "y": {
          "bdata": "AAAAAAAAY0AAAAAAgLnhQAAAAAAAJLNA",
          "dtype": "f8"
         },
         "yaxis": "y"
        }
       ],
       "layout": {
        "barmode": "group",
        "font": {
         "family": "Helvetica",
         "size": 20
        },
        "height": 600,
        "legend": {
         "orientation": "h",
         "title": {
          "side": "left",
          "text": "Method"
         },
         "tracegroupgap": 0,
         "valign": "middle",
         "x": 0.5,
         "xanchor": "center",
         "y": 1.02,
         "yanchor": "bottom"
        },
        "margin": {
         "b": 0,
         "l": 50,
         "r": 0,
         "t": 50
        },
        "template": {
         "data": {
          "bar": [
           {
            "error_x": {
             "color": "#2a3f5f"
            },
            "error_y": {
             "color": "#2a3f5f"
            },
            "marker": {
             "line": {
              "color": "#E5ECF6",
              "width": 0.5
             },
             "pattern": {
              "fillmode": "overlay",
              "size": 10,
              "solidity": 0.2
             }
            },
            "type": "bar"
           }
          ],
          "barpolar": [
           {
            "marker": {
             "line": {
              "color": "#E5ECF6",
              "width": 0.5
             },
             "pattern": {
              "fillmode": "overlay",
              "size": 10,
              "solidity": 0.2
             }
            },
            "type": "barpolar"
           }
          ],
          "carpet": [
           {
            "aaxis": {
             "endlinecolor": "#2a3f5f",
             "gridcolor": "white",
             "linecolor": "white",
             "minorgridcolor": "white",
             "startlinecolor": "#2a3f5f"
            },
            "baxis": {
             "endlinecolor": "#2a3f5f",
             "gridcolor": "white",
             "linecolor": "white",
             "minorgridcolor": "white",
             "startlinecolor": "#2a3f5f"
            },
            "type": "carpet"
           }
          ],
          "choropleth": [
           {
            "colorbar": {
             "outlinewidth": 0,
             "ticks": ""
            },
            "type": "choropleth"
           }
          ],
          "contour": [
           {
            "colorbar": {
             "outlinewidth": 0,
             "ticks": ""
            },
            "colorscale": [
             [
              0,
              "#0d0887"
             ],
             [
              0.1111111111111111,
              "#46039f"
             ],
             [
              0.2222222222222222,
              "#7201a8"
             ],
             [
              0.3333333333333333,
              "#9c179e"
             ],
             [
              0.4444444444444444,
              "#bd3786"
             ],
             [
              0.5555555555555556,
              "#d8576b"
             ],
             [
              0.6666666666666666,
              "#ed7953"
             ],
             [
              0.7777777777777778,
              "#fb9f3a"
             ],
             [
              0.8888888888888888,
              "#fdca26"
             ],
             [
              1,
              "#f0f921"
             ]
            ],
            "type": "contour"
           }
          ],
          "contourcarpet": [
           {
            "colorbar": {
             "outlinewidth": 0,
             "ticks": ""
            },
            "type": "contourcarpet"
           }
          ],
          "heatmap": [
           {
            "colorbar": {
             "outlinewidth": 0,
             "ticks": ""
            },
            "colorscale": [
             [
              0,
              "#0d0887"
             ],
             [
              0.1111111111111111,
              "#46039f"
             ],
             [
              0.2222222222222222,
              "#7201a8"
             ],
             [
              0.3333333333333333,
              "#9c179e"
             ],
             [
              0.4444444444444444,
              "#bd3786"
             ],
             [
              0.5555555555555556,
              "#d8576b"
             ],
             [
              0.6666666666666666,
              "#ed7953"
             ],
             [
              0.7777777777777778,
              "#fb9f3a"
             ],
             [
              0.8888888888888888,
              "#fdca26"
             ],
             [
              1,
              "#f0f921"
             ]
            ],
            "type": "heatmap"
           }
          ],
          "histogram": [
           {
            "marker": {
             "pattern": {
              "fillmode": "overlay",
              "size": 10,
              "solidity": 0.2
             }
            },
            "type": "histogram"
           }
          ],
          "histogram2d": [
           {
            "colorbar": {
             "outlinewidth": 0,
             "ticks": ""
            },
            "colorscale": [
             [
              0,
              "#0d0887"
             ],
             [
              0.1111111111111111,
              "#46039f"
             ],
             [
              0.2222222222222222,
              "#7201a8"
             ],
             [
              0.3333333333333333,
              "#9c179e"
             ],
             [
              0.4444444444444444,
              "#bd3786"
             ],
             [
              0.5555555555555556,
              "#d8576b"
             ],
             [
              0.6666666666666666,
              "#ed7953"
             ],
             [
              0.7777777777777778,
              "#fb9f3a"
             ],
             [
              0.8888888888888888,
              "#fdca26"
             ],
             [
              1,
              "#f0f921"
             ]
            ],
            "type": "histogram2d"
           }
          ],
          "histogram2dcontour": [
           {
            "colorbar": {
             "outlinewidth": 0,
             "ticks": ""
            },
            "colorscale": [
             [
              0,
              "#0d0887"
             ],
             [
              0.1111111111111111,
              "#46039f"
             ],
             [
              0.2222222222222222,
              "#7201a8"
             ],
             [
              0.3333333333333333,
              "#9c179e"
             ],
             [
              0.4444444444444444,
              "#bd3786"
             ],
             [
              0.5555555555555556,
              "#d8576b"
             ],
             [
              0.6666666666666666,
              "#ed7953"
             ],
             [
              0.7777777777777778,
              "#fb9f3a"
             ],
             [
              0.8888888888888888,
              "#fdca26"
             ],
             [
              1,
              "#f0f921"
             ]
            ],
            "type": "histogram2dcontour"
           }
          ],
          "mesh3d": [
           {
            "colorbar": {
             "outlinewidth": 0,
             "ticks": ""
            },
            "type": "mesh3d"
           }
          ],
          "parcoords": [
           {
            "line": {
             "colorbar": {
              "outlinewidth": 0,
              "ticks": ""
             }
            },
            "type": "parcoords"
           }
          ],
          "pie": [
           {
            "automargin": true,
            "type": "pie"
           }
          ],
          "scatter": [
           {
            "fillpattern": {
             "fillmode": "overlay",
             "size": 10,
             "solidity": 0.2
            },
            "type": "scatter"
           }
          ],
          "scatter3d": [
           {
            "line": {
             "colorbar": {
              "outlinewidth": 0,
              "ticks": ""
             }
            },
            "marker": {
             "colorbar": {
              "outlinewidth": 0,
              "ticks": ""
             }
            },
            "type": "scatter3d"
           }
          ],
          "scattercarpet": [
           {
            "marker": {
             "colorbar": {
              "outlinewidth": 0,
              "ticks": ""
             }
            },
            "type": "scattercarpet"
           }
          ],
          "scattergeo": [
           {
            "marker": {
             "colorbar": {
              "outlinewidth": 0,
              "ticks": ""
             }
            },
            "type": "scattergeo"
           }
          ],
          "scattergl": [
           {
            "marker": {
             "colorbar": {
              "outlinewidth": 0,
              "ticks": ""
             }
            },
            "type": "scattergl"
           }
          ],
          "scattermap": [
           {
            "marker": {
             "colorbar": {
              "outlinewidth": 0,
              "ticks": ""
             }
            },
            "type": "scattermap"
           }
          ],
          "scattermapbox": [
           {
            "marker": {
             "colorbar": {
              "outlinewidth": 0,
              "ticks": ""
             }
            },
            "type": "scattermapbox"
           }
          ],
          "scatterpolar": [
           {
            "marker": {
             "colorbar": {
              "outlinewidth": 0,
              "ticks": ""
             }
            },
            "type": "scatterpolar"
           }
          ],
          "scatterpolargl": [
           {
            "marker": {
             "colorbar": {
              "outlinewidth": 0,
              "ticks": ""
             }
            },
            "type": "scatterpolargl"
           }
          ],
          "scatterternary": [
           {
            "marker": {
             "colorbar": {
              "outlinewidth": 0,
              "ticks": ""
             }
            },
            "type": "scatterternary"
           }
          ],
          "surface": [
           {
            "colorbar": {
             "outlinewidth": 0,
             "ticks": ""
            },
            "colorscale": [
             [
              0,
              "#0d0887"
             ],
             [
              0.1111111111111111,
              "#46039f"
             ],
             [
              0.2222222222222222,
              "#7201a8"
             ],
             [
              0.3333333333333333,
              "#9c179e"
             ],
             [
              0.4444444444444444,
              "#bd3786"
             ],
             [
              0.5555555555555556,
              "#d8576b"
             ],
             [
              0.6666666666666666,
              "#ed7953"
             ],
             [
              0.7777777777777778,
              "#fb9f3a"
             ],
             [
              0.8888888888888888,
              "#fdca26"
             ],
             [
              1,
              "#f0f921"
             ]
            ],
            "type": "surface"
           }
          ],
          "table": [
           {
            "cells": {
             "fill": {
              "color": "#EBF0F8"
             },
             "line": {
              "color": "white"
             }
            },
            "header": {
             "fill": {
              "color": "#C8D4E3"
             },
             "line": {
              "color": "white"
             }
            },
            "type": "table"
           }
          ]
         },
         "layout": {
          "annotationdefaults": {
           "arrowcolor": "#2a3f5f",
           "arrowhead": 0,
           "arrowwidth": 1
          },
          "autotypenumbers": "strict",
          "coloraxis": {
           "colorbar": {
            "outlinewidth": 0,
            "ticks": ""
           }
          },
          "colorscale": {
           "diverging": [
            [
             0,
             "#8e0152"
            ],
            [
             0.1,
             "#c51b7d"
            ],
            [
             0.2,
             "#de77ae"
            ],
            [
             0.3,
             "#f1b6da"
            ],
            [
             0.4,
             "#fde0ef"
            ],
            [
             0.5,
             "#f7f7f7"
            ],
            [
             0.6,
             "#e6f5d0"
            ],
            [
             0.7,
             "#b8e186"
            ],
            [
             0.8,
             "#7fbc41"
            ],
            [
             0.9,
             "#4d9221"
            ],
            [
             1,
             "#276419"
            ]
           ],
           "sequential": [
            [
             0,
             "#0d0887"
            ],
            [
             0.1111111111111111,
             "#46039f"
            ],
            [
             0.2222222222222222,
             "#7201a8"
            ],
            [
             0.3333333333333333,
             "#9c179e"
            ],
            [
             0.4444444444444444,
             "#bd3786"
            ],
            [
             0.5555555555555556,
             "#d8576b"
            ],
            [
             0.6666666666666666,
             "#ed7953"
            ],
            [
             0.7777777777777778,
             "#fb9f3a"
            ],
            [
             0.8888888888888888,
             "#fdca26"
            ],
            [
             1,
             "#f0f921"
            ]
           ],
           "sequentialminus": [
            [
             0,
             "#0d0887"
            ],
            [
             0.1111111111111111,
             "#46039f"
            ],
            [
             0.2222222222222222,
             "#7201a8"
            ],
            [
             0.3333333333333333,
             "#9c179e"
            ],
            [
             0.4444444444444444,
             "#bd3786"
            ],
            [
             0.5555555555555556,
             "#d8576b"
            ],
            [
             0.6666666666666666,
             "#ed7953"
            ],
            [
             0.7777777777777778,
             "#fb9f3a"
            ],
            [
             0.8888888888888888,
             "#fdca26"
            ],
            [
             1,
             "#f0f921"
            ]
           ]
          },
          "colorway": [
           "#636efa",
           "#EF553B",
           "#00cc96",
           "#ab63fa",
           "#FFA15A",
           "#19d3f3",
           "#FF6692",
           "#B6E880",
           "#FF97FF",
           "#FECB52"
          ],
          "font": {
           "color": "#2a3f5f"
          },
          "geo": {
           "bgcolor": "white",
           "lakecolor": "white",
           "landcolor": "#E5ECF6",
           "showlakes": true,
           "showland": true,
           "subunitcolor": "white"
          },
          "hoverlabel": {
           "align": "left"
          },
          "hovermode": "closest",
          "mapbox": {
           "style": "light"
          },
          "paper_bgcolor": "white",
          "plot_bgcolor": "#E5ECF6",
          "polar": {
           "angularaxis": {
            "gridcolor": "white",
            "linecolor": "white",
            "ticks": ""
           },
           "bgcolor": "#E5ECF6",
           "radialaxis": {
            "gridcolor": "white",
            "linecolor": "white",
            "ticks": ""
           }
          },
          "scene": {
           "xaxis": {
            "backgroundcolor": "#E5ECF6",
            "gridcolor": "white",
            "gridwidth": 2,
            "linecolor": "white",
            "showbackground": true,
            "ticks": "",
            "zerolinecolor": "white"
           },
           "yaxis": {
            "backgroundcolor": "#E5ECF6",
            "gridcolor": "white",
            "gridwidth": 2,
            "linecolor": "white",
            "showbackground": true,
            "ticks": "",
            "zerolinecolor": "white"
           },
           "zaxis": {
            "backgroundcolor": "#E5ECF6",
            "gridcolor": "white",
            "gridwidth": 2,
            "linecolor": "white",
            "showbackground": true,
            "ticks": "",
            "zerolinecolor": "white"
           }
          },
          "shapedefaults": {
           "line": {
            "color": "#2a3f5f"
           }
          },
          "ternary": {
           "aaxis": {
            "gridcolor": "white",
            "linecolor": "white",
            "ticks": ""
           },
           "baxis": {
            "gridcolor": "white",
            "linecolor": "white",
            "ticks": ""
           },
           "bgcolor": "#E5ECF6",
           "caxis": {
            "gridcolor": "white",
            "linecolor": "white",
            "ticks": ""
           }
          },
          "title": {
           "x": 0.05
          },
          "xaxis": {
           "automargin": true,
           "gridcolor": "white",
           "linecolor": "white",
           "ticks": "",
           "title": {
            "standoff": 15
           },
           "zerolinecolor": "white",
           "zerolinewidth": 2
          },
          "yaxis": {
           "automargin": true,
           "gridcolor": "white",
           "linecolor": "white",
           "ticks": "",
           "title": {
            "standoff": 15
           },
           "zerolinecolor": "white",
           "zerolinewidth": 2
          }
         }
        },
        "width": 1200,
        "xaxis": {
         "anchor": "y",
         "domain": [
          0,
          1
         ],
         "title": {
          "text": ""
         }
        },
        "yaxis": {
         "anchor": "x",
         "domain": [
          0,
          1
         ],
         "exponentformat": "power",
         "title": {
          "text": "Mean Runtime (sec)"
         },
         "type": "log"
        }
       }
      }
     },
     "metadata": {},
     "output_type": "display_data"
    }
   ],
   "source": [
    "# Data extracted from the table\n",
    "use_cases = [\"MNIST\", \"FastSurfer\", \"WavLM\"]\n",
    "\n",
    "data = pd.read_csv(\"perf-DL-stats.csv\")\n",
    "\n",
    "color_discrete_map = {\n",
    "    \"IEEE\": colors_map[\"IEEE\"],\n",
    "    \"Verrou\": colors_map[\"Verrou\"],\n",
    "    \"PRISM\": colors_map[\"PRISM\"],\n",
    "}\n",
    "\n",
    "fig = px.bar(\n",
    "    data,\n",
    "    x=\"Benchmark\",\n",
    "    y=\"Mean\",\n",
    "    error_y=\"Std\",\n",
    "    color=\"Tool\",\n",
    "    barmode=\"group\",\n",
    "    pattern_shape=\"Variant\",\n",
    "    log_y=True,\n",
    "    color_discrete_map=color_discrete_map,\n",
    "    pattern_shape_sequence=[\"\", \"/\", \"\", \"/\", \"\"],\n",
    ")\n",
    "# Combine 'Verrou CESTAC' and 'Verrou SR' into a single legend group called 'Verrou'\n",
    "for trace in fig.data:\n",
    "    tool = trace.hovertemplate.split(\"Tool=\")[1].split(\"<br>\")[0]\n",
    "    variant = trace.hovertemplate.split(\"Variant=\")[1].split(\"<br>\")[0].strip()\n",
    "    if trace.name.startswith(\"Verrou\"):\n",
    "        trace.legendgroup = \"Verrou\"\n",
    "        trace.showlegend = True\n",
    "        trace.name = f\"{tool} {variant}\"\n",
    "    elif trace.name.startswith(\"PRISM\"):\n",
    "        trace.legendgroup = \"PRISM\"\n",
    "        trace.showlegend = True\n",
    "        trace.name = f\"{tool} {variant}\"\n",
    "    else:\n",
    "        trace.legendgroup = \"IEEE\"\n",
    "        trace.showlegend = True\n",
    "        trace.name = f\"{tool}\"\n",
    "\n",
    "fig.update_yaxes(exponentformat=\"power\")\n",
    "fig.update_layout(\n",
    "    xaxis_title=\"\",\n",
    "    yaxis_title=\"Mean Runtime (sec)\",\n",
    "    height=600,\n",
    "    width=1200,\n",
    "    legend=dict(\n",
    "        title=\"Method\",\n",
    "        title_side=\"left\",\n",
    "        orientation=\"h\",\n",
    "        yanchor=\"bottom\",\n",
    "        y=1.02,\n",
    "        valign=\"middle\",\n",
    "        xanchor=\"center\",\n",
    "        x=0.5,\n",
    "    ),\n",
    "    margin=dict(t=50, b=0, l=50, r=0),\n",
    "    font=dict(size=20, family=\"Helvetica\"),\n",
    ")\n",
    "# Reorder legend: PRISM UD before PRISM SR\n",
    "# Find PRISM traces and swap their order in fig.data\n",
    "prism_ud_idx = None\n",
    "prism_sr_idx = None\n",
    "for i, trace in enumerate(fig.data):\n",
    "    if trace.name == \"PRISM UD\":\n",
    "        prism_ud_idx = i\n",
    "    elif trace.name == \"PRISM SR\":\n",
    "        prism_sr_idx = i\n",
    "\n",
    "if (\n",
    "    prism_ud_idx is not None\n",
    "    and prism_sr_idx is not None\n",
    "    and prism_ud_idx > prism_sr_idx\n",
    "):\n",
    "    # Swap traces so PRISM UD comes before PRISM SR\n",
    "    traces = list(fig.data)\n",
    "    traces[prism_sr_idx], traces[prism_ud_idx] = (\n",
    "        traces[prism_ud_idx],\n",
    "        traces[prism_sr_idx],\n",
    "    )\n",
    "    fig.data = tuple(traces)\n",
    "\n",
    "\n",
    "fig.show()"
   ]
  }
 ],
 "metadata": {
  "kernelspec": {
   "display_name": ".venv",
   "language": "python",
   "name": "python3"
  },
  "language_info": {
   "codemirror_mode": {
    "name": "ipython",
    "version": 3
   },
   "file_extension": ".py",
   "mimetype": "text/x-python",
   "name": "python",
   "nbconvert_exporter": "python",
   "pygments_lexer": "ipython3",
   "version": "3.12.3"
  }
 },
 "nbformat": 4,
 "nbformat_minor": 5
}
