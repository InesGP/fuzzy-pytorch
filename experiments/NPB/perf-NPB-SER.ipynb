{
 "cells": [
  {
   "cell_type": "markdown",
   "id": "9ce706bb",
   "metadata": {},
   "source": [
    "# Performance of NPB-C++\n",
    "\n"
   ]
  },
  {
   "cell_type": "code",
   "execution_count": null,
   "id": "9097aabe",
   "metadata": {},
   "outputs": [],
   "source": [
    "%pip install --upgrade plotly numpy nbformat kaleido pandas"
   ]
  },
  {
   "cell_type": "code",
   "execution_count": 9,
   "id": "9cbbd9ec",
   "metadata": {},
   "outputs": [
    {
     "name": "stdout",
     "output_type": "stream",
     "text": [
      "Results directory: /home/yohan/Work/fuzzy-pytorch/experiments/NPB/run-SER\n"
     ]
    }
   ],
   "source": [
    "import pandas as pd\n",
    "import glob\n",
    "from pathlib import Path\n",
    "import plotly.express as px\n",
    "from IPython.display import display, Image\n",
    "\n",
    "\n",
    "results_dir = Path(\"run-SER\").resolve()\n",
    "print(f\"Results directory: {results_dir}\")"
   ]
  },
  {
   "cell_type": "markdown",
   "id": "ff4f2887",
   "metadata": {},
   "source": [
    "## Parse results"
   ]
  },
  {
   "cell_type": "code",
   "execution_count": null,
   "id": "928aef4a",
   "metadata": {},
   "outputs": [],
   "source": [
    "# Load the results from text files\n",
    "\n",
    "\n",
    "def load_results(directory, tool, bench, size):\n",
    "    pattern = directory / f\"{tool}_{bench}_{size}_results\" / \"**\" / \"stdout\"\n",
    "    files = glob.glob(str(pattern.resolve()), recursive=True)\n",
    "    values = {}\n",
    "    for file in files:\n",
    "        repetition = file.split(\"/\")[-2]\n",
    "        with open(file, \"r\") as f:\n",
    "            for line in f:\n",
    "                if \"Time in seconds =\" in line:\n",
    "                    time_str = line.split(\"=\")[1].strip()\n",
    "                    values[\"Time\"] = values.get(\"Time\", []) + [float(time_str)]\n",
    "                elif \"Mop/s total\" in line:\n",
    "                    mop_str = line.split(\"=\")[1].strip()\n",
    "                    values[\"Mops\"] = values.get(\"Mops\", []) + [float(mop_str)]\n",
    "            values[\"Tool\"] = tool\n",
    "            values[\"Bench\"] = bench\n",
    "            values[\"Class\"] = size\n",
    "            values[\"Repetition\"] = values.get(\"Repetition\", []) + [repetition]\n",
    "    return pd.DataFrame(values)"
   ]
  },
  {
   "cell_type": "code",
   "execution_count": 83,
   "id": "d4c890e1",
   "metadata": {},
   "outputs": [
    {
     "data": {
      "application/vnd.microsoft.datawrangler.viewer.v0+json": {
       "columns": [
        {
         "name": "index",
         "rawType": "int64",
         "type": "integer"
        },
        {
         "name": "Time",
         "rawType": "float64",
         "type": "float"
        },
        {
         "name": "Mops",
         "rawType": "float64",
         "type": "float"
        },
        {
         "name": "Tool",
         "rawType": "object",
         "type": "string"
        },
        {
         "name": "Bench",
         "rawType": "object",
         "type": "string"
        },
        {
         "name": "Class",
         "rawType": "object",
         "type": "string"
        },
        {
         "name": "Repetition",
         "rawType": "object",
         "type": "string"
        },
        {
         "name": "Variant",
         "rawType": "object",
         "type": "unknown"
        }
       ],
       "ref": "44342637-9d7a-4a40-bb8f-fced8c7ff80b",
       "rows": [
        [
         "0",
         "4.58",
         "49.95",
         "cadna",
         "bt",
         "S",
         "3",
         null
        ],
        [
         "1",
         "4.58",
         "49.9",
         "cadna",
         "bt",
         "S",
         "2",
         null
        ],
        [
         "2",
         "4.56",
         "50.11",
         "cadna",
         "bt",
         "S",
         "1",
         null
        ],
        [
         "3",
         "0.09",
         "2523.84",
         "ieee",
         "bt",
         "S",
         "1",
         null
        ],
        [
         "4",
         "0.06",
         "3574.66",
         "ieee",
         "bt",
         "S",
         "2",
         null
        ],
        [
         "5",
         "0.07",
         "3488.53",
         "ieee",
         "bt",
         "S",
         "3",
         null
        ],
        [
         "6",
         "1.44",
         "158.44",
         "prism_sr_dynamic",
         "bt",
         "S",
         "3",
         "sr"
        ],
        [
         "7",
         "1.39",
         "164.75",
         "prism_sr_dynamic",
         "bt",
         "S",
         "1",
         "sr"
        ],
        [
         "8",
         "1.41",
         "162.17",
         "prism_sr_dynamic",
         "bt",
         "S",
         "2",
         "sr"
        ],
        [
         "9",
         "1.3",
         "175.52",
         "prism_sr_static",
         "bt",
         "S",
         "3",
         "sr"
        ],
        [
         "10",
         "1.27",
         "180.11",
         "prism_sr_static",
         "bt",
         "S",
         "2",
         "sr"
        ],
        [
         "11",
         "1.32",
         "172.98",
         "prism_sr_static",
         "bt",
         "S",
         "1",
         "sr"
        ],
        [
         "12",
         "0.71",
         "323.34",
         "prism_ud_static",
         "bt",
         "S",
         "3",
         "ud"
        ],
        [
         "13",
         "0.82",
         "278.0",
         "prism_ud_static",
         "bt",
         "S",
         "1",
         "ud"
        ],
        [
         "14",
         "0.71",
         "322.85",
         "prism_ud_static",
         "bt",
         "S",
         "2",
         "ud"
        ],
        [
         "15",
         "1.03",
         "220.68",
         "prism_ud_dynamic",
         "bt",
         "S",
         "2",
         "ud"
        ],
        [
         "16",
         "1.04",
         "219.84",
         "prism_ud_dynamic",
         "bt",
         "S",
         "1",
         "ud"
        ],
        [
         "17",
         "1.03",
         "222.28",
         "prism_ud_dynamic",
         "bt",
         "S",
         "3",
         "ud"
        ],
        [
         "18",
         "10.28",
         "22.21",
         "sr",
         "bt",
         "S",
         "3",
         null
        ],
        [
         "19",
         "10.21",
         "22.36",
         "sr",
         "bt",
         "S",
         "1",
         null
        ],
        [
         "20",
         "10.29",
         "22.19",
         "sr",
         "bt",
         "S",
         "2",
         null
        ],
        [
         "21",
         "3.63",
         "62.87",
         "verificarlo",
         "bt",
         "S",
         "2",
         null
        ],
        [
         "22",
         "3.62",
         "63.15",
         "verificarlo",
         "bt",
         "S",
         "1",
         null
        ],
        [
         "23",
         "3.68",
         "62.11",
         "verificarlo",
         "bt",
         "S",
         "3",
         null
        ],
        [
         "24",
         "4.1",
         "55.73",
         "verrou_cestac",
         "bt",
         "S",
         "3",
         "cestac"
        ],
        [
         "25",
         "4.11",
         "55.5",
         "verrou_cestac",
         "bt",
         "S",
         "1",
         "cestac"
        ],
        [
         "26",
         "4.12",
         "55.35",
         "verrou_cestac",
         "bt",
         "S",
         "2",
         "cestac"
        ],
        [
         "27",
         "4.76",
         "48.01",
         "verrou_sr",
         "bt",
         "S",
         "3",
         "sr"
        ],
        [
         "28",
         "4.78",
         "47.81",
         "verrou_sr",
         "bt",
         "S",
         "1",
         "sr"
        ],
        [
         "29",
         "4.73",
         "48.27",
         "verrou_sr",
         "bt",
         "S",
         "2",
         "sr"
        ],
        [
         "30",
         "2813.43",
         "59.82",
         "cadna",
         "bt",
         "A",
         "2",
         null
        ],
        [
         "31",
         "2821.95",
         "59.64",
         "cadna",
         "bt",
         "A",
         "1",
         null
        ],
        [
         "32",
         "2829.88",
         "59.47",
         "cadna",
         "bt",
         "A",
         "3",
         null
        ],
        [
         "33",
         "48.36",
         "3479.76",
         "ieee",
         "bt",
         "A",
         "3",
         null
        ],
        [
         "34",
         "47.86",
         "3516.32",
         "ieee",
         "bt",
         "A",
         "1",
         null
        ],
        [
         "35",
         "48.26",
         "3486.84",
         "ieee",
         "bt",
         "A",
         "2",
         null
        ],
        [
         "36",
         "973.93",
         "172.79",
         "prism_sr_dynamic",
         "bt",
         "A",
         "2",
         "sr"
        ],
        [
         "37",
         "960.72",
         "175.16",
         "prism_sr_dynamic",
         "bt",
         "A",
         "1",
         "sr"
        ],
        [
         "38",
         "979.43",
         "171.82",
         "prism_sr_dynamic",
         "bt",
         "A",
         "3",
         "sr"
        ],
        [
         "39",
         "923.29",
         "182.27",
         "prism_sr_static",
         "bt",
         "A",
         "1",
         "sr"
        ],
        [
         "40",
         "930.17",
         "180.92",
         "prism_sr_static",
         "bt",
         "A",
         "2",
         "sr"
        ],
        [
         "41",
         "927.6",
         "181.42",
         "prism_sr_static",
         "bt",
         "A",
         "3",
         "sr"
        ],
        [
         "42",
         "503.38",
         "334.31",
         "prism_ud_static",
         "bt",
         "A",
         "1",
         "ud"
        ],
        [
         "43",
         "506.84",
         "332.03",
         "prism_ud_static",
         "bt",
         "A",
         "2",
         "ud"
        ],
        [
         "44",
         "505.77",
         "332.73",
         "prism_ud_static",
         "bt",
         "A",
         "3",
         "ud"
        ],
        [
         "45",
         "712.32",
         "236.25",
         "prism_ud_dynamic",
         "bt",
         "A",
         "1",
         "ud"
        ],
        [
         "46",
         "709.35",
         "237.24",
         "prism_ud_dynamic",
         "bt",
         "A",
         "2",
         "ud"
        ],
        [
         "47",
         "722.78",
         "232.83",
         "prism_ud_dynamic",
         "bt",
         "A",
         "3",
         "ud"
        ],
        [
         "48",
         "6908.5",
         "24.36",
         "sr",
         "bt",
         "A",
         "3",
         null
        ],
        [
         "49",
         "6881.26",
         "24.46",
         "sr",
         "bt",
         "A",
         "1",
         null
        ]
       ],
       "shape": {
        "columns": 7,
        "rows": 420
       }
      },
      "text/html": [
       "<div>\n",
       "<style scoped>\n",
       "    .dataframe tbody tr th:only-of-type {\n",
       "        vertical-align: middle;\n",
       "    }\n",
       "\n",
       "    .dataframe tbody tr th {\n",
       "        vertical-align: top;\n",
       "    }\n",
       "\n",
       "    .dataframe thead th {\n",
       "        text-align: right;\n",
       "    }\n",
       "</style>\n",
       "<table border=\"1\" class=\"dataframe\">\n",
       "  <thead>\n",
       "    <tr style=\"text-align: right;\">\n",
       "      <th></th>\n",
       "      <th>Time</th>\n",
       "      <th>Mops</th>\n",
       "      <th>Tool</th>\n",
       "      <th>Bench</th>\n",
       "      <th>Class</th>\n",
       "      <th>Repetition</th>\n",
       "      <th>Variant</th>\n",
       "    </tr>\n",
       "  </thead>\n",
       "  <tbody>\n",
       "    <tr>\n",
       "      <th>0</th>\n",
       "      <td>4.58</td>\n",
       "      <td>49.95</td>\n",
       "      <td>cadna</td>\n",
       "      <td>bt</td>\n",
       "      <td>S</td>\n",
       "      <td>3</td>\n",
       "      <td>NaN</td>\n",
       "    </tr>\n",
       "    <tr>\n",
       "      <th>1</th>\n",
       "      <td>4.58</td>\n",
       "      <td>49.90</td>\n",
       "      <td>cadna</td>\n",
       "      <td>bt</td>\n",
       "      <td>S</td>\n",
       "      <td>2</td>\n",
       "      <td>NaN</td>\n",
       "    </tr>\n",
       "    <tr>\n",
       "      <th>2</th>\n",
       "      <td>4.56</td>\n",
       "      <td>50.11</td>\n",
       "      <td>cadna</td>\n",
       "      <td>bt</td>\n",
       "      <td>S</td>\n",
       "      <td>1</td>\n",
       "      <td>NaN</td>\n",
       "    </tr>\n",
       "    <tr>\n",
       "      <th>3</th>\n",
       "      <td>0.09</td>\n",
       "      <td>2523.84</td>\n",
       "      <td>ieee</td>\n",
       "      <td>bt</td>\n",
       "      <td>S</td>\n",
       "      <td>1</td>\n",
       "      <td>NaN</td>\n",
       "    </tr>\n",
       "    <tr>\n",
       "      <th>4</th>\n",
       "      <td>0.06</td>\n",
       "      <td>3574.66</td>\n",
       "      <td>ieee</td>\n",
       "      <td>bt</td>\n",
       "      <td>S</td>\n",
       "      <td>2</td>\n",
       "      <td>NaN</td>\n",
       "    </tr>\n",
       "    <tr>\n",
       "      <th>...</th>\n",
       "      <td>...</td>\n",
       "      <td>...</td>\n",
       "      <td>...</td>\n",
       "      <td>...</td>\n",
       "      <td>...</td>\n",
       "      <td>...</td>\n",
       "      <td>...</td>\n",
       "    </tr>\n",
       "    <tr>\n",
       "      <th>415</th>\n",
       "      <td>1255.27</td>\n",
       "      <td>67.72</td>\n",
       "      <td>verrou_cestac</td>\n",
       "      <td>sp</td>\n",
       "      <td>A</td>\n",
       "      <td>2</td>\n",
       "      <td>cestac</td>\n",
       "    </tr>\n",
       "    <tr>\n",
       "      <th>416</th>\n",
       "      <td>1256.08</td>\n",
       "      <td>67.68</td>\n",
       "      <td>verrou_cestac</td>\n",
       "      <td>sp</td>\n",
       "      <td>A</td>\n",
       "      <td>3</td>\n",
       "      <td>cestac</td>\n",
       "    </tr>\n",
       "    <tr>\n",
       "      <th>417</th>\n",
       "      <td>1510.41</td>\n",
       "      <td>56.28</td>\n",
       "      <td>verrou_sr</td>\n",
       "      <td>sp</td>\n",
       "      <td>A</td>\n",
       "      <td>2</td>\n",
       "      <td>sr</td>\n",
       "    </tr>\n",
       "    <tr>\n",
       "      <th>418</th>\n",
       "      <td>1501.75</td>\n",
       "      <td>56.61</td>\n",
       "      <td>verrou_sr</td>\n",
       "      <td>sp</td>\n",
       "      <td>A</td>\n",
       "      <td>1</td>\n",
       "      <td>sr</td>\n",
       "    </tr>\n",
       "    <tr>\n",
       "      <th>419</th>\n",
       "      <td>1513.31</td>\n",
       "      <td>56.17</td>\n",
       "      <td>verrou_sr</td>\n",
       "      <td>sp</td>\n",
       "      <td>A</td>\n",
       "      <td>3</td>\n",
       "      <td>sr</td>\n",
       "    </tr>\n",
       "  </tbody>\n",
       "</table>\n",
       "<p>420 rows × 7 columns</p>\n",
       "</div>"
      ],
      "text/plain": [
       "        Time     Mops           Tool Bench Class Repetition Variant\n",
       "0       4.58    49.95          cadna    bt     S          3     NaN\n",
       "1       4.58    49.90          cadna    bt     S          2     NaN\n",
       "2       4.56    50.11          cadna    bt     S          1     NaN\n",
       "3       0.09  2523.84           ieee    bt     S          1     NaN\n",
       "4       0.06  3574.66           ieee    bt     S          2     NaN\n",
       "..       ...      ...            ...   ...   ...        ...     ...\n",
       "415  1255.27    67.72  verrou_cestac    sp     A          2  cestac\n",
       "416  1256.08    67.68  verrou_cestac    sp     A          3  cestac\n",
       "417  1510.41    56.28      verrou_sr    sp     A          2      sr\n",
       "418  1501.75    56.61      verrou_sr    sp     A          1      sr\n",
       "419  1513.31    56.17      verrou_sr    sp     A          3      sr\n",
       "\n",
       "[420 rows x 7 columns]"
      ]
     },
     "execution_count": 83,
     "metadata": {},
     "output_type": "execute_result"
    }
   ],
   "source": [
    "bench = [\"BT\", \"CG\", \"EP\", \"FT\", \"LU\", \"MG\", \"SP\"]\n",
    "size = [\"S\", \"A\"]\n",
    "tools = [\n",
    "    \"cadna\",\n",
    "    \"ieee\",\n",
    "    \"prism_sr_dynamic\",\n",
    "    \"prism_sr_static\",\n",
    "    \"prism_ud_static\",\n",
    "    \"prism_ud_dynamic\",\n",
    "    \"sr\",\n",
    "    \"verificarlo\",\n",
    "    \"verrou_cestac\",\n",
    "    \"verrou_sr\",\n",
    "]\n",
    "\n",
    "results = pd.DataFrame()\n",
    "for b in bench:\n",
    "    for s in size:\n",
    "        for t in tools:\n",
    "            df = load_results(directory=results_dir, tool=t, bench=b.lower(), size=s)\n",
    "            results = pd.concat([results, df], ignore_index=True)\n",
    "\n",
    "results[\"Variant\"] = results[\"Tool\"].str.split(\"_\").str[1]\n",
    "results"
   ]
  },
  {
   "cell_type": "markdown",
   "id": "4d42dfc7",
   "metadata": {},
   "source": [
    "## Compute statistics"
   ]
  },
  {
   "cell_type": "code",
   "execution_count": null,
   "id": "ff5aa9ed",
   "metadata": {},
   "outputs": [
    {
     "data": {
      "application/vnd.microsoft.datawrangler.viewer.v0+json": {
       "columns": [
        {
         "name": "index",
         "rawType": "int64",
         "type": "integer"
        },
        {
         "name": "Tool",
         "rawType": "object",
         "type": "string"
        },
        {
         "name": "Bench",
         "rawType": "object",
         "type": "string"
        },
        {
         "name": "Class",
         "rawType": "object",
         "type": "string"
        },
        {
         "name": "Time_mean",
         "rawType": "float64",
         "type": "float"
        },
        {
         "name": "Time_std",
         "rawType": "float64",
         "type": "float"
        },
        {
         "name": "Mops_mean",
         "rawType": "float64",
         "type": "float"
        },
        {
         "name": "Mops_std",
         "rawType": "float64",
         "type": "float"
        },
        {
         "name": "Time_slowdown_mean",
         "rawType": "float64",
         "type": "float"
        },
        {
         "name": "Time_slowdown_std",
         "rawType": "float64",
         "type": "float"
        },
        {
         "name": "Variant",
         "rawType": "object",
         "type": "string"
        }
       ],
       "ref": "3a25f818-cd40-4e4a-99ba-d3d8c24b4489",
       "rows": [
        [
         "0",
         "cadna",
         "bt",
         "A",
         "2821.7533333333336",
         "8.22676323552212",
         "59.64333333333334",
         "0.1750238079043386",
         "58.59230103662737",
         "0.3389654009844839",
         ""
        ],
        [
         "1",
         "cadna",
         "bt",
         "S",
         "4.573333333333333",
         "0.011547005383792781",
         "49.98666666666667",
         "0.10969655114603026",
         "64.14285714285714",
         "12.881546505090602",
         ""
        ],
        [
         "2",
         "cadna",
         "cg",
         "A",
         "19.94666666666667",
         "2.079815696962915",
         "75.58999999999999",
         "8.02919049468874",
         "16.63079788895026",
         "1.8380250186389555",
         ""
        ],
        [
         "3",
         "cadna",
         "cg",
         "S",
         "0.7533333333333333",
         "0.02081665999466133",
         "88.99000000000001",
         "2.6208967930843814",
         "18.833333333333332",
         "0.5204164998665327",
         ""
        ],
        [
         "4",
         "cadna",
         "ep",
         "A",
         "28.94333333333333",
         "0.04041451884327397",
         "18.55333333333333",
         "0.025166114784234413",
         "1.7379929644272716",
         "0.0038170174554569224",
         ""
        ],
        [
         "5",
         "cadna",
         "ep",
         "S",
         "1.9433333333333334",
         "0.17897858344878395",
         "17.426666666666666",
         "1.5387115822444875",
         "1.8507936507936507",
         "0.17045579376074654",
         ""
        ],
        [
         "6",
         "cadna",
         "ft",
         "A",
         "154.06333333333333",
         "0.19425069712445267",
         "46.326666666666675",
         "0.056862407030772784",
         "39.92308587594621",
         "0.7649122279147513",
         ""
        ],
        [
         "7",
         "cadna",
         "ft",
         "S",
         "3.8666666666666667",
         "0.005773502691896263",
         "45.906666666666666",
         "0.03055050463303867",
         "42.96296296296296",
         "0.06415002990996024",
         ""
        ],
        [
         "8",
         "cadna",
         "lu",
         "A",
         "1974.4766666666667",
         "6.259627251948311",
         "60.42666666666667",
         "0.1934769581457541",
         "55.277697929821706",
         "0.7663263026058811",
         ""
        ],
        [
         "9",
         "cadna",
         "lu",
         "S",
         "1.7333333333333334",
         "0.03785938897200188",
         "59.1",
         "1.2782409788455396",
         "52.88888888888889",
         "7.7626837665371395",
         ""
        ],
        [
         "10",
         "cadna",
         "mg",
         "A",
         "52.663333333333334",
         "0.39119475115769947",
         "73.92333333333333",
         "0.5537448269133837",
         "53.562949078413",
         "0.9445600748124707",
         ""
        ],
        [
         "11",
         "cadna",
         "mg",
         "S",
         "0.13",
         "0.01732050807568877",
         "61.696666666666665",
         "9.429211702646906",
         "21.666666666666668",
         "2.886751345948128",
         ""
        ],
        [
         "12",
         "cadna",
         "sp",
         "A",
         "1127.7166666666665",
         "2.909404291832494",
         "75.39",
         "0.19157244060667877",
         "45.83053644318043",
         "0.2308979114123167",
         ""
        ],
        [
         "13",
         "cadna",
         "sp",
         "S",
         "1.2",
         "0.0",
         "80.88333333333333",
         "0.07505553499464344",
         "43.333333333333336",
         "15.275252316519467",
         ""
        ],
        [
         "14",
         "ieee",
         "bt",
         "A",
         "48.16",
         "0.26457513110645914",
         "3494.306666666667",
         "19.389990544952205",
         "1.0",
         "0.0",
         ""
        ],
        [
         "15",
         "ieee",
         "bt",
         "S",
         "0.07333333333333333",
         "0.015275252316519466",
         "3195.6766666666667",
         "583.4192096883108",
         "1.0",
         "0.0",
         ""
        ],
        [
         "16",
         "ieee",
         "cg",
         "A",
         "1.2",
         "0.026457513110645908",
         "1246.61",
         "31.033267633299666",
         "1.0",
         "0.0",
         ""
        ],
        [
         "17",
         "ieee",
         "cg",
         "S",
         "0.04",
         "0.0",
         "1573.0833333333333",
         "26.582069771432938",
         "1.0",
         "0.0",
         ""
        ],
        [
         "18",
         "ieee",
         "ep",
         "A",
         "16.653333333333332",
         "0.020816659994663728",
         "32.24",
         "0.04358898943540662",
         "1.0",
         "0.0",
         ""
        ],
        [
         "19",
         "ieee",
         "ep",
         "S",
         "1.05",
         "0.0",
         "31.956666666666667",
         "0.04041451884327309",
         "1.0",
         "0.0",
         ""
        ],
        [
         "20",
         "ieee",
         "ft",
         "A",
         "3.86",
         "0.07810249675906673",
         "1848.6666666666667",
         "38.26054015997864",
         "1.0",
         "0.0",
         ""
        ],
        [
         "21",
         "ieee",
         "ft",
         "S",
         "0.09000000000000001",
         "0.0",
         "1990.0433333333333",
         "32.261618578945026",
         "1.0",
         "0.0",
         ""
        ],
        [
         "22",
         "ieee",
         "lu",
         "A",
         "35.723333333333336",
         "0.45632590692764025",
         "3339.793333333333",
         "42.749498632537296",
         "1.0",
         "0.0",
         ""
        ],
        [
         "23",
         "ieee",
         "lu",
         "S",
         "0.03333333333333333",
         "0.005773502691896259",
         "3042.896666666666",
         "186.20968941849736",
         "1.0",
         "0.0",
         ""
        ],
        [
         "24",
         "ieee",
         "mg",
         "A",
         "0.9833333333333334",
         "0.011547005383792509",
         "3968.456666666667",
         "50.205075772608176",
         "1.0",
         "0.0",
         ""
        ],
        [
         "25",
         "ieee",
         "mg",
         "S",
         "0.006000000000000001",
         "0.0",
         "4532.696666666667",
         "224.34303919072954",
         "1.0",
         "0.0",
         ""
        ],
        [
         "26",
         "ieee",
         "sp",
         "A",
         "24.606666666666666",
         "0.14468356276140207",
         "3454.683333333333",
         "20.393220278644662",
         "1.0",
         "0.0",
         ""
        ],
        [
         "27",
         "ieee",
         "sp",
         "S",
         "0.03",
         "0.01",
         "3443.9366666666665",
         "788.5144405357031",
         "1.0",
         "0.0",
         ""
        ],
        [
         "28",
         "prism_sr_dynamic",
         "bt",
         "A",
         "971.36",
         "9.616116679824506",
         "173.25666666666666",
         "1.7182064291968355",
         "20.169112651220505",
         "0.09025223899457444",
         "sr"
        ],
        [
         "29",
         "prism_sr_dynamic",
         "bt",
         "S",
         "1.4133333333333333",
         "0.02516611478423592",
         "161.78666666666666",
         "3.1724175849552556",
         "19.83862433862434",
         "4.077468008442536",
         "sr"
        ],
        [
         "30",
         "prism_sr_dynamic",
         "cg",
         "A",
         "1.2066666666666668",
         "0.046188021535170085",
         "1240.79",
         "49.53814388933031",
         "1.0053289608526337",
         "0.017033892805237243",
         "sr"
        ],
        [
         "31",
         "prism_sr_dynamic",
         "cg",
         "S",
         "0.04",
         "0.0",
         "1585.8633333333335",
         "112.8948326245862",
         "1.0",
         "0.0",
         "sr"
        ],
        [
         "32",
         "prism_sr_dynamic",
         "ep",
         "A",
         "154.52333333333334",
         "1.306152109569673",
         "3.4766666666666666",
         "0.032145502536643195",
         "9.278795996439829",
         "0.07249809102813641",
         "sr"
        ],
        [
         "33",
         "prism_sr_dynamic",
         "ep",
         "S",
         "9.656666666666666",
         "0.0450924975282289",
         "3.473333333333333",
         "0.01527525231651959",
         "9.196825396825396",
         "0.04294523574117027",
         "sr"
        ],
        [
         "34",
         "prism_sr_dynamic",
         "ft",
         "A",
         "316.98",
         "1.7926795586495798",
         "22.516666666666666",
         "0.12701705922171727",
         "82.13515578926946",
         "1.1854965397151185",
         "sr"
        ],
        [
         "35",
         "prism_sr_dynamic",
         "ft",
         "S",
         "7.923333333333333",
         "0.0513160143944688",
         "22.353333333333335",
         "0.13868429375143024",
         "88.03703703703705",
         "0.5701779377163205",
         "sr"
        ],
        [
         "36",
         "prism_sr_dynamic",
         "lu",
         "A",
         "1746.0",
         "16.225520022483067",
         "68.33",
         "0.6421059102671391",
         "48.88160749543248",
         "0.8351050454476218",
         "sr"
        ],
        [
         "37",
         "prism_sr_dynamic",
         "lu",
         "S",
         "1.5200000000000002",
         "0.009999999999999953",
         "67.39999999999999",
         "0.4948737212663494",
         "46.416666666666664",
         "7.074504301441275",
         "sr"
        ],
        [
         "38",
         "prism_sr_dynamic",
         "mg",
         "A",
         "55.45666666666667",
         "0.4643633634701751",
         "70.18666666666667",
         "0.5909596714948708",
         "56.40233954666945",
         "0.8669027998057451",
         "sr"
        ],
        [
         "39",
         "prism_sr_dynamic",
         "mg",
         "S",
         "0.11333333333333333",
         "0.005773502691896256",
         "65.94666666666666",
         "1.4788621752324733",
         "18.88888888888889",
         "0.9622504486493765",
         "sr"
        ],
        [
         "40",
         "prism_sr_dynamic",
         "sp",
         "A",
         "690.4033333333333",
         "1.473917682007189",
         "123.13",
         "0.2622975409720855",
         "28.058432993571046",
         "0.2211078908344647",
         "sr"
        ],
        [
         "41",
         "prism_sr_dynamic",
         "sp",
         "S",
         "0.8533333333333334",
         "0.025166114784235843",
         "113.86333333333334",
         "3.279486748461303",
         "30.972222222222225",
         "11.72969088033219",
         "sr"
        ],
        [
         "42",
         "prism_sr_static",
         "bt",
         "A",
         "927.02",
         "3.476478102908144",
         "181.53666666666666",
         "0.6825198409814546",
         "19.248918883204894",
         "0.05933348568152587",
         "sr"
        ],
        [
         "43",
         "prism_sr_static",
         "bt",
         "S",
         "1.2966666666666666",
         "0.02516611478423581",
         "176.20333333333335",
         "3.6137837972592353",
         "18.134920634920636",
         "3.271911426670321",
         "sr"
        ],
        [
         "44",
         "prism_sr_static",
         "cg",
         "A",
         "1.22",
         "0.0519615242270663",
         "1229.8766666666668",
         "49.4109394095411",
         "1.0174084791695375",
         "0.06054027753468039",
         "sr"
        ],
        [
         "45",
         "prism_sr_static",
         "cg",
         "S",
         "0.04",
         "0.0",
         "1610.0566666666666",
         "171.4847938836949",
         "1.0",
         "0.0",
         "sr"
        ],
        [
         "46",
         "prism_sr_static",
         "ep",
         "A",
         "148.45666666666668",
         "1.2862477729167572",
         "3.6166666666666667",
         "0.03214550253664324",
         "8.914519922233232",
         "0.0743352828589007",
         "sr"
        ],
        [
         "47",
         "prism_sr_static",
         "ep",
         "S",
         "9.346666666666666",
         "0.020816659994660813",
         "3.59",
         "0.01000000000000012",
         "8.9015873015873",
         "0.019825390471105528",
         "sr"
        ],
        [
         "48",
         "prism_sr_static",
         "ft",
         "A",
         "313.1566666666667",
         "0.905888146149031",
         "22.786666666666665",
         "0.06658328118479334",
         "81.1536075917477",
         "1.8497247927119038",
         "sr"
        ],
        [
         "49",
         "prism_sr_static",
         "ft",
         "S",
         "7.763333333333333",
         "0.023094010767584668",
         "22.823333333333334",
         "0.07234178138070502",
         "86.25925925925925",
         "0.25660011963983786",
         "sr"
        ]
       ],
       "shape": {
        "columns": 10,
        "rows": 140
       }
      },
      "text/html": [
       "<div>\n",
       "<style scoped>\n",
       "    .dataframe tbody tr th:only-of-type {\n",
       "        vertical-align: middle;\n",
       "    }\n",
       "\n",
       "    .dataframe tbody tr th {\n",
       "        vertical-align: top;\n",
       "    }\n",
       "\n",
       "    .dataframe thead th {\n",
       "        text-align: right;\n",
       "    }\n",
       "</style>\n",
       "<table border=\"1\" class=\"dataframe\">\n",
       "  <thead>\n",
       "    <tr style=\"text-align: right;\">\n",
       "      <th></th>\n",
       "      <th>Tool</th>\n",
       "      <th>Bench</th>\n",
       "      <th>Class</th>\n",
       "      <th>Time_mean</th>\n",
       "      <th>Time_std</th>\n",
       "      <th>Mops_mean</th>\n",
       "      <th>Mops_std</th>\n",
       "      <th>Time_slowdown_mean</th>\n",
       "      <th>Time_slowdown_std</th>\n",
       "      <th>Variant</th>\n",
       "    </tr>\n",
       "  </thead>\n",
       "  <tbody>\n",
       "    <tr>\n",
       "      <th>0</th>\n",
       "      <td>cadna</td>\n",
       "      <td>bt</td>\n",
       "      <td>A</td>\n",
       "      <td>2821.753333</td>\n",
       "      <td>8.226763</td>\n",
       "      <td>59.643333</td>\n",
       "      <td>0.175024</td>\n",
       "      <td>58.592301</td>\n",
       "      <td>0.338965</td>\n",
       "      <td></td>\n",
       "    </tr>\n",
       "    <tr>\n",
       "      <th>1</th>\n",
       "      <td>cadna</td>\n",
       "      <td>bt</td>\n",
       "      <td>S</td>\n",
       "      <td>4.573333</td>\n",
       "      <td>0.011547</td>\n",
       "      <td>49.986667</td>\n",
       "      <td>0.109697</td>\n",
       "      <td>64.142857</td>\n",
       "      <td>12.881547</td>\n",
       "      <td></td>\n",
       "    </tr>\n",
       "    <tr>\n",
       "      <th>2</th>\n",
       "      <td>cadna</td>\n",
       "      <td>cg</td>\n",
       "      <td>A</td>\n",
       "      <td>19.946667</td>\n",
       "      <td>2.079816</td>\n",
       "      <td>75.590000</td>\n",
       "      <td>8.029190</td>\n",
       "      <td>16.630798</td>\n",
       "      <td>1.838025</td>\n",
       "      <td></td>\n",
       "    </tr>\n",
       "    <tr>\n",
       "      <th>3</th>\n",
       "      <td>cadna</td>\n",
       "      <td>cg</td>\n",
       "      <td>S</td>\n",
       "      <td>0.753333</td>\n",
       "      <td>0.020817</td>\n",
       "      <td>88.990000</td>\n",
       "      <td>2.620897</td>\n",
       "      <td>18.833333</td>\n",
       "      <td>0.520416</td>\n",
       "      <td></td>\n",
       "    </tr>\n",
       "    <tr>\n",
       "      <th>4</th>\n",
       "      <td>cadna</td>\n",
       "      <td>ep</td>\n",
       "      <td>A</td>\n",
       "      <td>28.943333</td>\n",
       "      <td>0.040415</td>\n",
       "      <td>18.553333</td>\n",
       "      <td>0.025166</td>\n",
       "      <td>1.737993</td>\n",
       "      <td>0.003817</td>\n",
       "      <td></td>\n",
       "    </tr>\n",
       "    <tr>\n",
       "      <th>...</th>\n",
       "      <td>...</td>\n",
       "      <td>...</td>\n",
       "      <td>...</td>\n",
       "      <td>...</td>\n",
       "      <td>...</td>\n",
       "      <td>...</td>\n",
       "      <td>...</td>\n",
       "      <td>...</td>\n",
       "      <td>...</td>\n",
       "      <td>...</td>\n",
       "    </tr>\n",
       "    <tr>\n",
       "      <th>135</th>\n",
       "      <td>verrou_sr</td>\n",
       "      <td>lu</td>\n",
       "      <td>S</td>\n",
       "      <td>2.390000</td>\n",
       "      <td>0.034641</td>\n",
       "      <td>42.806667</td>\n",
       "      <td>0.672780</td>\n",
       "      <td>73.083333</td>\n",
       "      <td>12.021682</td>\n",
       "      <td>sr</td>\n",
       "    </tr>\n",
       "    <tr>\n",
       "      <th>136</th>\n",
       "      <td>verrou_sr</td>\n",
       "      <td>mg</td>\n",
       "      <td>A</td>\n",
       "      <td>83.146667</td>\n",
       "      <td>0.101160</td>\n",
       "      <td>46.813333</td>\n",
       "      <td>0.057735</td>\n",
       "      <td>84.564129</td>\n",
       "      <td>1.051021</td>\n",
       "      <td>sr</td>\n",
       "    </tr>\n",
       "    <tr>\n",
       "      <th>137</th>\n",
       "      <td>verrou_sr</td>\n",
       "      <td>mg</td>\n",
       "      <td>S</td>\n",
       "      <td>0.173333</td>\n",
       "      <td>0.005774</td>\n",
       "      <td>44.023333</td>\n",
       "      <td>1.648707</td>\n",
       "      <td>28.888889</td>\n",
       "      <td>0.962250</td>\n",
       "      <td>sr</td>\n",
       "    </tr>\n",
       "    <tr>\n",
       "      <th>138</th>\n",
       "      <td>verrou_sr</td>\n",
       "      <td>sp</td>\n",
       "      <td>A</td>\n",
       "      <td>1508.490000</td>\n",
       "      <td>6.014416</td>\n",
       "      <td>56.353333</td>\n",
       "      <td>0.228983</td>\n",
       "      <td>61.306249</td>\n",
       "      <td>0.567444</td>\n",
       "      <td>sr</td>\n",
       "    </tr>\n",
       "    <tr>\n",
       "      <th>139</th>\n",
       "      <td>verrou_sr</td>\n",
       "      <td>sp</td>\n",
       "      <td>S</td>\n",
       "      <td>1.676667</td>\n",
       "      <td>0.005774</td>\n",
       "      <td>57.726667</td>\n",
       "      <td>0.213620</td>\n",
       "      <td>60.555556</td>\n",
       "      <td>21.422556</td>\n",
       "      <td>sr</td>\n",
       "    </tr>\n",
       "  </tbody>\n",
       "</table>\n",
       "<p>140 rows × 10 columns</p>\n",
       "</div>"
      ],
      "text/plain": [
       "          Tool Bench Class    Time_mean  Time_std  Mops_mean  Mops_std  \\\n",
       "0        cadna    bt     A  2821.753333  8.226763  59.643333  0.175024   \n",
       "1        cadna    bt     S     4.573333  0.011547  49.986667  0.109697   \n",
       "2        cadna    cg     A    19.946667  2.079816  75.590000  8.029190   \n",
       "3        cadna    cg     S     0.753333  0.020817  88.990000  2.620897   \n",
       "4        cadna    ep     A    28.943333  0.040415  18.553333  0.025166   \n",
       "..         ...   ...   ...          ...       ...        ...       ...   \n",
       "135  verrou_sr    lu     S     2.390000  0.034641  42.806667  0.672780   \n",
       "136  verrou_sr    mg     A    83.146667  0.101160  46.813333  0.057735   \n",
       "137  verrou_sr    mg     S     0.173333  0.005774  44.023333  1.648707   \n",
       "138  verrou_sr    sp     A  1508.490000  6.014416  56.353333  0.228983   \n",
       "139  verrou_sr    sp     S     1.676667  0.005774  57.726667  0.213620   \n",
       "\n",
       "     Time_slowdown_mean  Time_slowdown_std Variant  \n",
       "0             58.592301           0.338965          \n",
       "1             64.142857          12.881547          \n",
       "2             16.630798           1.838025          \n",
       "3             18.833333           0.520416          \n",
       "4              1.737993           0.003817          \n",
       "..                  ...                ...     ...  \n",
       "135           73.083333          12.021682      sr  \n",
       "136           84.564129           1.051021      sr  \n",
       "137           28.888889           0.962250      sr  \n",
       "138           61.306249           0.567444      sr  \n",
       "139           60.555556          21.422556      sr  \n",
       "\n",
       "[140 rows x 10 columns]"
      ]
     },
     "execution_count": 84,
     "metadata": {},
     "output_type": "execute_result"
    }
   ],
   "source": [
    "# Compute the reference (ieee) time for each repetition, bench, and class\n",
    "ieee_times = results[results[\"Tool\"] == \"ieee\"][\n",
    "    [\"Bench\", \"Class\", \"Repetition\", \"Time\"]\n",
    "].rename(columns={\"Time\": \"Time_ieee\"})\n",
    "\n",
    "# Merge ieee times into the results DataFrame\n",
    "results = results.merge(ieee_times, on=[\"Bench\", \"Class\", \"Repetition\"], how=\"left\")\n",
    "\n",
    "# Compute slowdown\n",
    "results[\"Time_slowdown\"] = results[\"Time\"] / results[\"Time_ieee\"]\n",
    "\n",
    "results_stats = (\n",
    "    results.groupby([\"Tool\", \"Bench\", \"Class\"])\n",
    "    .agg(\n",
    "        {\n",
    "            \"Time\": [\"mean\", \"std\"],\n",
    "            \"Mops\": [\"mean\", \"std\"],\n",
    "            \"Time_slowdown\": [\"mean\", \"std\"],\n",
    "        }\n",
    "    )\n",
    "    .reset_index()\n",
    ")\n",
    "# Flatten MultiIndex columns\n",
    "results_stats.columns = [\n",
    "    \"_\".join(filter(None, col)).strip(\"_\") for col in results_stats.columns.values\n",
    "]\n",
    "# Merge the Variant columns into a single 'Variant' column\n",
    "results_stats[\"Variant\"] = results_stats[\"Tool\"].str.split(\"_\").str[1]\n",
    "results_stats[\"Variant\"] = results_stats[\"Variant\"].fillna(\"\")\n",
    "results_stats.to_csv(\"perf-NPB-SER-stats.csv\", index=False)"
   ]
  },
  {
   "cell_type": "markdown",
   "id": "17e2f66a",
   "metadata": {},
   "source": [
    "## Figure"
   ]
  },
  {
   "cell_type": "code",
   "execution_count": 4,
   "id": "b1666474",
   "metadata": {},
   "outputs": [],
   "source": [
    "colors_map = {\n",
    "    \"IEEE\": \"#a80ca8\",\n",
    "    \"Verrou\": \"#ff7f0e\",\n",
    "    \"PRISM\": \"#1f77b4\",\n",
    "    \"CESTAC\": \"#1fb438\",\n",
    "    \"FM SR\": \"#26b7e4\",\n",
    "    \"MCA RR\": \"#f10202\",\n",
    "}"
   ]
  },
  {
   "cell_type": "code",
   "execution_count": 15,
   "id": "01daaebe",
   "metadata": {},
   "outputs": [
    {
     "data": {
      "image/png": "[encoded data removed]",
      "text/plain": [
       "<IPython.core.display.Image object>"
      ]
     },
     "metadata": {},
     "output_type": "display_data"
    },
    {
     "data": {
      "application/vnd.plotly.v1+json": {
       "config": {
        "plotlyServerURL": "https://plot.ly"
       },
       "data": [
        {
         "alignmentgroup": "True",
         "error_y": {
          "array": {
           "bdata": "cSMVOWmCnz/WKFC7n1GXP8CmHKsmaq0/rittubi25T/HJ5oJml/qPxuq6COj+eA/MIyYHJlNwD8=",
           "dtype": "f8"
          }
         },
         "hovertemplate": "Tool=prism_ud_static<br>Variant=ud<br>Class=A<br>Benchmark=%{x}<br>Time_slowdown_mean=%{y}<extra></extra>",
         "legendgroup": "PRISM",
         "marker": {
          "color": "#1f77b4",
          "line": {
           "width": 1.5
          },
          "pattern": {
           "shape": "/"
          }
         },
         "name": "PRISM UD",
         "offsetgroup": "prism_ud_static, ud",
         "orientation": "v",
         "showlegend": true,
         "textposition": "auto",
         "type": "bar",
         "x": [
          "bt",
          "cg",
          "ep",
          "ft",
          "lu",
          "mg",
          "sp"
         ],
         "xaxis": "x",
         "y": {
          "bdata": "pBsinFP8JECNnJDfYqvwP+0TZtao2BBA4NWXn7CUP0AZ3HDaRfhDQFpcb6zbt0RAZXDUH8ssMUA=",
          "dtype": "f8"
         },
         "yaxis": "y"
        },
        {
         "alignmentgroup": "True",
         "error_y": {
          "array": {
           "bdata": "sMD40UH99T8AAAAAAAAAAK8EbkUXJ6w/fF1utYy5xT8+jQMdM9IXQAAAAAAAAAAAnAUhoRDRFEA=",
           "dtype": "f8"
          }
         },
         "hovertemplate": "Tool=prism_ud_static<br>Variant=ud<br>Class=S<br>Benchmark=%{x}<br>Time_slowdown_mean=%{y}<extra></extra>",
         "legendgroup": "PRISM",
         "marker": {
          "color": "#1f77b4",
          "line": {
           "width": 1.5
          },
          "pattern": {
           "shape": "/"
          }
         },
         "name": "PRISM UD",
         "offsetgroup": "prism_ud_static, ud",
         "orientation": "v",
         "showlegend": false,
         "textposition": "auto",
         "type": "bar",
         "x": [
          "bt",
          "cg",
          "ep",
          "ft",
          "lu",
          "mg",
          "sp"
         ],
         "xaxis": "x2",
         "y": {
          "bdata": "mTtk7pC5JEAAAAAAAADwP0zGZEzGZBBA0F5CewntQECrqqqqqkpCQAAAAAAAAC5Aq6qqqqqqMUA=",
          "dtype": "f8"
         },
         "yaxis": "y2"
        },
        {
         "alignmentgroup": "True",
         "error_y": {
          "array": {
           "bdata": "CKMeafVgrj+TVTSgIv+uPxph0RijB7M/o8Q0BnmY/T+DdPpIPn3nPzv+qqmVC/w/rOeWk5TdzD8=",
           "dtype": "f8"
          }
         },
         "hovertemplate": "Tool=prism_sr_static<br>Variant=sr<br>Class=A<br>Benchmark=%{x}<br>Time_slowdown_mean=%{y}<extra></extra>",
         "legendgroup": "PRISM",
         "marker": {
          "color": "#1f77b4",
          "line": {
           "width": 1.5
          },
          "pattern": {
           "shape": ""
          }
         },
         "name": "PRISM SR",
         "offsetgroup": "prism_sr_static, sr",
         "orientation": "v",
         "showlegend": true,
         "textposition": "auto",
         "type": "bar",
         "x": [
          "bt",
          "cg",
          "ep",
          "ft",
          "lu",
          "mg",
          "sp"
         ],
         "xaxis": "x",
         "y": {
          "bdata": "y7jeJbk/M0DZTAsdTkfwP3wQi/Q71CFAUb7vtNRJVEC0qp7dXolHQIVxEW0eYFRAYvwStUelQEA=",
          "dtype": "f8"
         },
         "yaxis": "y"
        },
        {
         "alignmentgroup": "True",
         "error_y": {
          "array": {
           "bdata": "b6nn5d8sCkAAAAAAAAAAAFS40G4bTZQ/uS2A6CJs0D+R4KMOFuIaQCdV8HPByv4/UlzAmyz6JkA=",
           "dtype": "f8"
          }
         },
         "hovertemplate": "Tool=prism_sr_static<br>Variant=sr<br>Class=S<br>Benchmark=%{x}<br>Time_slowdown_mean=%{y}<extra></extra>",
         "legendgroup": "PRISM",
         "marker": {
          "color": "#1f77b4",
          "line": {
           "width": 1.5
          },
          "pattern": {
           "shape": ""
          }
         },
         "name": "PRISM SR",
         "offsetgroup": "prism_sr_static, sr",
         "orientation": "v",
         "showlegend": false,
         "textposition": "auto",
         "type": "bar",
         "x": [
          "bt",
          "cg",
          "ep",
          "ft",
          "lu",
          "mg",
          "sp"
         ],
         "xaxis": "x2",
         "y": {
          "bdata": "KoqiKIoiMkAAAAAAAADwP9mczdmczSFACe0ltJeQVUDHcRzHcTxGQB3HcRzHcT1AjuM4juOYQEA=",
          "dtype": "f8"
         },
         "yaxis": "y2"
        },
        {
         "alignmentgroup": "True",
         "error_y": {
          "array": {
           "bdata": "cgzt75ux1T+xiwTsjGj9P79cdqTdRG8/FIpmNSl66D8wOPi8voXoP/eozQzWOe4/eoQdERCOzT8=",
           "dtype": "f8"
          }
         },
         "hovertemplate": "Tool=cadna<br>Variant=<br>Class=A<br>Benchmark=%{x}<br>Time_slowdown_mean=%{y}<extra></extra>",
         "legendgroup": "CESTAC",
         "marker": {
          "color": "#1fb438",
          "line": {
           "width": 1.5
          },
          "pattern": {
           "shape": ""
          }
         },
         "name": "CESTAC",
         "offsetgroup": "cadna, ",
         "orientation": "v",
         "showlegend": true,
         "textposition": "auto",
         "type": "bar",
         "x": [
          "bt",
          "cg",
          "ep",
          "ft",
          "lu",
          "mg",
          "sp"
         ],
         "xaxis": "x",
         "y": {
          "bdata": "ydk2hdBLTUBdbW/4e6EwQKRK7rXRzvs/U0uQrSf2Q0AlYBObi6NLQHCMJLcOyEpATcymBE/qRkA=",
          "dtype": "f8"
         },
         "yaxis": "y"
        },
        {
         "alignmentgroup": "True",
         "error_y": {
          "array": {
           "bdata": "04hCEFrDKUCtN+eAQKfgP0DdztV+0cU/7y2A6CJssD9T3in5/AwfQOI/9BYRGAdA3zIj3+2MLkA=",
           "dtype": "f8"
          }
         },
         "hovertemplate": "Tool=cadna<br>Variant=<br>Class=S<br>Benchmark=%{x}<br>Time_slowdown_mean=%{y}<extra></extra>",
         "legendgroup": "CESTAC",
         "marker": {
          "color": "#1fb438",
          "line": {
           "width": 1.5
          },
          "pattern": {
           "shape": ""
          }
         },
         "name": "CESTAC",
         "offsetgroup": "cadna, ",
         "orientation": "v",
         "showlegend": false,
         "textposition": "auto",
         "type": "bar",
         "x": [
          "bt",
          "cg",
          "ep",
          "ft",
          "lu",
          "mg",
          "sp"
         ],
         "xaxis": "x2",
         "y": {
          "bdata": "kiRJkiQJUEBUVVVVVdUyQM7ZnM3ZnP0/tJfQXkJ7RUAdx3Ecx3FKQKuqqqqqqjVAq6qqqqqqRUA=",
          "dtype": "f8"
         },
         "yaxis": "y2"
        },
        {
         "alignmentgroup": "True",
         "error_y": {
          "array": {
           "bdata": "48HOuurw1D+FQVqpD3DUPzpDXKg497A/fhJSYGzG5T/WuiX8cWTsP6xxwTKXZfM/UXV02LuL3j8=",
           "dtype": "f8"
          }
         },
         "hovertemplate": "Tool=verrou_cestac<br>Variant=cestac<br>Class=A<br>Benchmark=%{x}<br>Time_slowdown_mean=%{y}<extra></extra>",
         "legendgroup": "Verrou",
         "marker": {
          "color": "#ff7f0e",
          "line": {
           "width": 1.5
          },
          "pattern": {
           "shape": "/"
          }
         },
         "name": "Verrou CESTAC",
         "offsetgroup": "verrou_cestac, cestac",
         "orientation": "v",
         "showlegend": true,
         "textposition": "auto",
         "type": "bar",
         "x": [
          "bt",
          "cg",
          "ep",
          "ft",
          "lu",
          "mg",
          "sp"
         ],
         "xaxis": "x",
         "y": {
          "bdata": "7mAN6R1vTkDcyQv3Iv4tQM8vo3dgCCdAhEGfFLcuQUB1HxQpEw5RQKP70vk+CVJA2JEkayFzSUA=",
          "dtype": "f8"
         },
         "yaxis": "y"
        },
        {
         "alignmentgroup": "True",
         "error_y": {
          "array": {
           "bdata": "zdEP7Z8OJ0AQM5BFp3nCP8Q2izeshYY/ik/gFj293D+epEYeys4mQCdV8HPByu4/qrf2g8oOMkA=",
           "dtype": "f8"
          }
         },
         "hovertemplate": "Tool=verrou_cestac<br>Variant=cestac<br>Class=S<br>Benchmark=%{x}<br>Time_slowdown_mean=%{y}<extra></extra>",
         "legendgroup": "Verrou",
         "marker": {
          "color": "#ff7f0e",
          "line": {
           "width": 1.5
          },
          "pattern": {
           "shape": "/"
          }
         },
         "name": "Verrou CESTAC",
         "offsetgroup": "verrou_cestac, cestac",
         "orientation": "v",
         "showlegend": false,
         "textposition": "auto",
         "type": "bar",
         "x": [
          "bt",
          "cg",
          "ep",
          "ft",
          "lu",
          "mg",
          "sp"
         ],
         "xaxis": "x2",
         "y": {
          "bdata": "FEVRFEXRTEBUVVVVVRU1QHdqp3ZqpyZAob2E9hJaQkCrqqqqqjpQQI/jOI7jODtAq6qqqqpqSUA=",
          "dtype": "f8"
         },
         "yaxis": "y2"
        },
        {
         "alignmentgroup": "True",
         "error_y": {
          "array": {
           "bdata": "XqYsPKGC2j9c9V1m+ajbP0ztazacPbE/bv92rUGs5z8h04YydZnvP82+4dT70PA/72lR6YAo4j8=",
           "dtype": "f8"
          }
         },
         "hovertemplate": "Tool=verrou_sr<br>Variant=sr<br>Class=A<br>Benchmark=%{x}<br>Time_slowdown_mean=%{y}<extra></extra>",
         "legendgroup": "Verrou",
         "marker": {
          "color": "#ff7f0e",
          "line": {
           "width": 1.5
          },
          "pattern": {
           "shape": ""
          }
         },
         "name": "Verrou SR",
         "offsetgroup": "verrou_sr, sr",
         "orientation": "v",
         "showlegend": true,
         "textposition": "auto",
         "type": "bar",
         "x": [
          "bt",
          "cg",
          "ep",
          "ft",
          "lu",
          "mg",
          "sp"
         ],
         "xaxis": "x",
         "y": {
          "bdata": "bkqjlToDUkBPuwsCoAEzQFlHC+v/DClA8+J/1qGnQ0B47ccxVptTQBclorEaJFVAEuhQKTOnTkA=",
          "dtype": "f8"
         },
         "yaxis": "y"
        },
        {
         "alignmentgroup": "True",
         "error_y": {
          "array": {
           "bdata": "Tpkyah3UKUAgM5BFp3nSP7O3+GQg26o/7y2A6CJssD+olYfgGQsoQCBV8HPByu4/e/lAqSxsNUA=",
           "dtype": "f8"
          }
         },
         "hovertemplate": "Tool=verrou_sr<br>Variant=sr<br>Class=S<br>Benchmark=%{x}<br>Time_slowdown_mean=%{y}<extra></extra>",
         "legendgroup": "Verrou",
         "marker": {
          "color": "#ff7f0e",
          "line": {
           "width": 1.5
          },
          "pattern": {
           "shape": ""
          }
         },
         "name": "Verrou SR",
         "offsetgroup": "verrou_sr, sr",
         "orientation": "v",
         "showlegend": false,
         "textposition": "auto",
         "type": "bar",
         "x": [
          "bt",
          "cg",
          "ep",
          "ft",
          "lu",
          "mg",
          "sp"
         ],
         "xaxis": "x2",
         "y": {
          "bdata": "mNBeQnupUEBUVVVVVVU6QN3qrd7qrShATGgvob2EREBVVVVVVUVSQDmO4ziO4zxAcRzHcRxHTkA=",
          "dtype": "f8"
         },
         "yaxis": "y2"
        },
        {
         "alignmentgroup": "True",
         "error_y": {
          "array": {
           "bdata": "uDgM2DOH6z8CTdH8qpzxPzt69xxkSLQ/kjNudIiv8j8E3ziuUugIQFCnTZjlAvg/rl3a955z9T8=",
           "dtype": "f8"
          }
         },
         "hovertemplate": "Tool=sr<br>Variant=<br>Class=A<br>Benchmark=%{x}<br>Time_slowdown_mean=%{y}<extra></extra>",
         "legendgroup": "FM SR",
         "marker": {
          "color": "#26b7e4",
          "line": {
           "width": 1.5
          },
          "pattern": {
           "shape": ""
          }
         },
         "name": "FM SR",
         "offsetgroup": "sr, ",
         "orientation": "v",
         "showlegend": true,
         "textposition": "auto",
         "type": "bar",
         "x": [
          "bt",
          "cg",
          "ep",
          "ft",
          "lu",
          "mg",
          "sp"
         ],
         "xaxis": "x",
         "y": {
          "bdata": "EQ/6lpD3YUBiGIWJF91DQBX9KtMNLhhATdTLLddLUEBEb+bqoc5iQGiHKl4D3WFAzX6pyR83WkA=",
          "dtype": "f8"
         },
         "yaxis": "y"
        },
        {
         "alignmentgroup": "True",
         "error_y": {
          "array": {
           "bdata": "UmNavFEjPUDZmgPitb72P77j816bjL4/7y2A6CJssD9abWQfbQI1QKyqqqqqqvo/nGk1X7uVQkA=",
           "dtype": "f8"
          }
         },
         "hovertemplate": "Tool=sr<br>Variant=<br>Class=S<br>Benchmark=%{x}<br>Time_slowdown_mean=%{y}<extra></extra>",
         "legendgroup": "FM SR",
         "marker": {
          "color": "#26b7e4",
          "line": {
           "width": 1.5
          },
          "pattern": {
           "shape": ""
          }
         },
         "name": "FM SR",
         "offsetgroup": "sr, ",
         "orientation": "v",
         "showlegend": false,
         "textposition": "auto",
         "type": "bar",
         "x": [
          "bt",
          "cg",
          "ep",
          "ft",
          "lu",
          "mg",
          "sp"
         ],
         "xaxis": "x2",
         "y": {
          "bdata": "3ox4M+L9YUCrqqqqqqpKQAAAAAAAABhAhfYS2ktoUUBxHMdxHJdhQAAAAAAAgEtAyHEcx3HcWkA=",
          "dtype": "f8"
         },
         "yaxis": "y2"
        },
        {
         "alignmentgroup": "True",
         "error_y": {
          "array": {
           "bdata": "98LiwpMS4j+j5HcfQZ+SP2c2uvNN/LQ/KnzBY5Ey+T+4S8OiFBUGQD2jm83OK/M/aRmrlpEGwT8=",
           "dtype": "f8"
          }
         },
         "hovertemplate": "Tool=verificarlo<br>Variant=<br>Class=A<br>Benchmark=%{x}<br>Time_slowdown_mean=%{y}<extra></extra>",
         "legendgroup": "MCA RR",
         "marker": {
          "color": "#f10202",
          "line": {
           "width": 1.5
          },
          "pattern": {
           "shape": ""
          }
         },
         "name": "MCA RR",
         "offsetgroup": "verificarlo, ",
         "orientation": "v",
         "showlegend": true,
         "textposition": "auto",
         "type": "bar",
         "x": [
          "bt",
          "cg",
          "ep",
          "ft",
          "lu",
          "mg",
          "sp"
         ],
         "xaxis": "x",
         "y": {
          "bdata": "ITCWR5YrS0Dhj8Q626zqP8kQqO3bVylAv6/e5j+WWUBDzNYWm+phQHRJhjgvjmhAQVjKWEJaU0A=",
          "dtype": "f8"
         },
         "yaxis": "y"
        },
        {
         "alignmentgroup": "True",
         "error_y": {
          "array": {
           "bdata": "p7Z3bRFwJEAbM5BFp3nCP0bp9gX/ipg/AWLwVh2bzT+/jMzTaY81QCJV8HPByv4/LKw7T7BQPEA=",
           "dtype": "f8"
          }
         },
         "hovertemplate": "Tool=verificarlo<br>Variant=<br>Class=S<br>Benchmark=%{x}<br>Time_slowdown_mean=%{y}<extra></extra>",
         "legendgroup": "MCA RR",
         "marker": {
          "color": "#f10202",
          "line": {
           "width": 1.5
          },
          "pattern": {
           "shape": ""
          }
         },
         "name": "MCA RR",
         "offsetgroup": "verificarlo, ",
         "orientation": "v",
         "showlegend": false,
         "textposition": "auto",
         "type": "bar",
         "x": [
          "bt",
          "cg",
          "ep",
          "ft",
          "lu",
          "mg",
          "sp"
         ],
         "xaxis": "x2",
         "y": {
          "bdata": "ydwhc4eMSUCrqqqqqqryP0AQBEEQBClAC+0ltJcQW0DHcRzHcQxhQDiO4ziOI1RAAAAAAACgU0A=",
          "dtype": "f8"
         },
         "yaxis": "y2"
        }
       ],
       "layout": {
        "annotations": [
         {
          "font": {},
          "showarrow": false,
          "text": "Class=A",
          "x": 0.245,
          "xanchor": "center",
          "xref": "paper",
          "y": 1,
          "yanchor": "bottom",
          "yref": "paper"
         },
         {
          "font": {},
          "showarrow": false,
          "text": "Class=S",
          "x": 0.755,
          "xanchor": "center",
          "xref": "paper",
          "y": 1,
          "yanchor": "bottom",
          "yref": "paper"
         }
        ],
        "barmode": "group",
        "font": {
         "family": "Helvetica, sans-serif",
         "size": 20
        },
        "height": 600,
        "legend": {
         "orientation": "h",
         "title": {
          "text": "Method"
         },
         "tracegroupgap": 0,
         "traceorder": "normal",
         "x": 0.5,
         "xanchor": "center",
         "y": 1.15,
         "yanchor": "top"
        },
        "margin": {
         "t": 60
        },
        "template": {
         "data": {
          "bar": [
           {
            "error_x": {
             "color": "#2a3f5f"
            },
            "error_y": {
             "color": "#2a3f5f"
            },
            "marker": {
             "line": {
              "color": "#E5ECF6",
              "width": 0.5
             },
             "pattern": {
              "fillmode": "overlay",
              "size": 10,
              "solidity": 0.2
             }
            },
            "type": "bar"
           }
          ],
          "barpolar": [
           {
            "marker": {
             "line": {
              "color": "#E5ECF6",
              "width": 0.5
             },
             "pattern": {
              "fillmode": "overlay",
              "size": 10,
              "solidity": 0.2
             }
            },
            "type": "barpolar"
           }
          ],
          "carpet": [
           {
            "aaxis": {
             "endlinecolor": "#2a3f5f",
             "gridcolor": "white",
             "linecolor": "white",
             "minorgridcolor": "white",
             "startlinecolor": "#2a3f5f"
            },
            "baxis": {
             "endlinecolor": "#2a3f5f",
             "gridcolor": "white",
             "linecolor": "white",
             "minorgridcolor": "white",
             "startlinecolor": "#2a3f5f"
            },
            "type": "carpet"
           }
          ],
          "choropleth": [
           {
            "colorbar": {
             "outlinewidth": 0,
             "ticks": ""
            },
            "type": "choropleth"
           }
          ],
          "contour": [
           {
            "colorbar": {
             "outlinewidth": 0,
             "ticks": ""
            },
            "colorscale": [
             [
              0,
              "#0d0887"
             ],
             [
              0.1111111111111111,
              "#46039f"
             ],
             [
              0.2222222222222222,
              "#7201a8"
             ],
             [
              0.3333333333333333,
              "#9c179e"
             ],
             [
              0.4444444444444444,
              "#bd3786"
             ],
             [
              0.5555555555555556,
              "#d8576b"
             ],
             [
              0.6666666666666666,
              "#ed7953"
             ],
             [
              0.7777777777777778,
              "#fb9f3a"
             ],
             [
              0.8888888888888888,
              "#fdca26"
             ],
             [
              1,
              "#f0f921"
             ]
            ],
            "type": "contour"
           }
          ],
          "contourcarpet": [
           {
            "colorbar": {
             "outlinewidth": 0,
             "ticks": ""
            },
            "type": "contourcarpet"
           }
          ],
          "heatmap": [
           {
            "colorbar": {
             "outlinewidth": 0,
             "ticks": ""
            },
            "colorscale": [
             [
              0,
              "#0d0887"
             ],
             [
              0.1111111111111111,
              "#46039f"
             ],
             [
              0.2222222222222222,
              "#7201a8"
             ],
             [
              0.3333333333333333,
              "#9c179e"
             ],
             [
              0.4444444444444444,
              "#bd3786"
             ],
             [
              0.5555555555555556,
              "#d8576b"
             ],
             [
              0.6666666666666666,
              "#ed7953"
             ],
             [
              0.7777777777777778,
              "#fb9f3a"
             ],
             [
              0.8888888888888888,
              "#fdca26"
             ],
             [
              1,
              "#f0f921"
             ]
            ],
            "type": "heatmap"
           }
          ],
          "histogram": [
           {
            "marker": {
             "pattern": {
              "fillmode": "overlay",
              "size": 10,
              "solidity": 0.2
             }
            },
            "type": "histogram"
           }
          ],
          "histogram2d": [
           {
            "colorbar": {
             "outlinewidth": 0,
             "ticks": ""
            },
            "colorscale": [
             [
              0,
              "#0d0887"
             ],
             [
              0.1111111111111111,
              "#46039f"
             ],
             [
              0.2222222222222222,
              "#7201a8"
             ],
             [
              0.3333333333333333,
              "#9c179e"
             ],
             [
              0.4444444444444444,
              "#bd3786"
             ],
             [
              0.5555555555555556,
              "#d8576b"
             ],
             [
              0.6666666666666666,
              "#ed7953"
             ],
             [
              0.7777777777777778,
              "#fb9f3a"
             ],
             [
              0.8888888888888888,
              "#fdca26"
             ],
             [
              1,
              "#f0f921"
             ]
            ],
            "type": "histogram2d"
           }
          ],
          "histogram2dcontour": [
           {
            "colorbar": {
             "outlinewidth": 0,
             "ticks": ""
            },
            "colorscale": [
             [
              0,
              "#0d0887"
             ],
             [
              0.1111111111111111,
              "#46039f"
             ],
             [
              0.2222222222222222,
              "#7201a8"
             ],
             [
              0.3333333333333333,
              "#9c179e"
             ],
             [
              0.4444444444444444,
              "#bd3786"
             ],
             [
              0.5555555555555556,
              "#d8576b"
             ],
             [
              0.6666666666666666,
              "#ed7953"
             ],
             [
              0.7777777777777778,
              "#fb9f3a"
             ],
             [
              0.8888888888888888,
              "#fdca26"
             ],
             [
              1,
              "#f0f921"
             ]
            ],
            "type": "histogram2dcontour"
           }
          ],
          "mesh3d": [
           {
            "colorbar": {
             "outlinewidth": 0,
             "ticks": ""
            },
            "type": "mesh3d"
           }
          ],
          "parcoords": [
           {
            "line": {
             "colorbar": {
              "outlinewidth": 0,
              "ticks": ""
             }
            },
            "type": "parcoords"
           }
          ],
          "pie": [
           {
            "automargin": true,
            "type": "pie"
           }
          ],
          "scatter": [
           {
            "fillpattern": {
             "fillmode": "overlay",
             "size": 10,
             "solidity": 0.2
            },
            "type": "scatter"
           }
          ],
          "scatter3d": [
           {
            "line": {
             "colorbar": {
              "outlinewidth": 0,
              "ticks": ""
             }
            },
            "marker": {
             "colorbar": {
              "outlinewidth": 0,
              "ticks": ""
             }
            },
            "type": "scatter3d"
           }
          ],
          "scattercarpet": [
           {
            "marker": {
             "colorbar": {
              "outlinewidth": 0,
              "ticks": ""
             }
            },
            "type": "scattercarpet"
           }
          ],
          "scattergeo": [
           {
            "marker": {
             "colorbar": {
              "outlinewidth": 0,
              "ticks": ""
             }
            },
            "type": "scattergeo"
           }
          ],
          "scattergl": [
           {
            "marker": {
             "colorbar": {
              "outlinewidth": 0,
              "ticks": ""
             }
            },
            "type": "scattergl"
           }
          ],
          "scattermap": [
           {
            "marker": {
             "colorbar": {
              "outlinewidth": 0,
              "ticks": ""
             }
            },
            "type": "scattermap"
           }
          ],
          "scattermapbox": [
           {
            "marker": {
             "colorbar": {
              "outlinewidth": 0,
              "ticks": ""
             }
            },
            "type": "scattermapbox"
           }
          ],
          "scatterpolar": [
           {
            "marker": {
             "colorbar": {
              "outlinewidth": 0,
              "ticks": ""
             }
            },
            "type": "scatterpolar"
           }
          ],
          "scatterpolargl": [
           {
            "marker": {
             "colorbar": {
              "outlinewidth": 0,
              "ticks": ""
             }
            },
            "type": "scatterpolargl"
           }
          ],
          "scatterternary": [
           {
            "marker": {
             "colorbar": {
              "outlinewidth": 0,
              "ticks": ""
             }
            },
            "type": "scatterternary"
           }
          ],
          "surface": [
           {
            "colorbar": {
             "outlinewidth": 0,
             "ticks": ""
            },
            "colorscale": [
             [
              0,
              "#0d0887"
             ],
             [
              0.1111111111111111,
              "#46039f"
             ],
             [
              0.2222222222222222,
              "#7201a8"
             ],
             [
              0.3333333333333333,
              "#9c179e"
             ],
             [
              0.4444444444444444,
              "#bd3786"
             ],
             [
              0.5555555555555556,
              "#d8576b"
             ],
             [
              0.6666666666666666,
              "#ed7953"
             ],
             [
              0.7777777777777778,
              "#fb9f3a"
             ],
             [
              0.8888888888888888,
              "#fdca26"
             ],
             [
              1,
              "#f0f921"
             ]
            ],
            "type": "surface"
           }
          ],
          "table": [
           {
            "cells": {
             "fill": {
              "color": "#EBF0F8"
             },
             "line": {
              "color": "white"
             }
            },
            "header": {
             "fill": {
              "color": "#C8D4E3"
             },
             "line": {
              "color": "white"
             }
            },
            "type": "table"
           }
          ]
         },
         "layout": {
          "annotationdefaults": {
           "arrowcolor": "#2a3f5f",
           "arrowhead": 0,
           "arrowwidth": 1
          },
          "autotypenumbers": "strict",
          "coloraxis": {
           "colorbar": {
            "outlinewidth": 0,
            "ticks": ""
           }
          },
          "colorscale": {
           "diverging": [
            [
             0,
             "#8e0152"
            ],
            [
             0.1,
             "#c51b7d"
            ],
            [
             0.2,
             "#de77ae"
            ],
            [
             0.3,
             "#f1b6da"
            ],
            [
             0.4,
             "#fde0ef"
            ],
            [
             0.5,
             "#f7f7f7"
            ],
            [
             0.6,
             "#e6f5d0"
            ],
            [
             0.7,
             "#b8e186"
            ],
            [
             0.8,
             "#7fbc41"
            ],
            [
             0.9,
             "#4d9221"
            ],
            [
             1,
             "#276419"
            ]
           ],
           "sequential": [
            [
             0,
             "#0d0887"
            ],
            [
             0.1111111111111111,
             "#46039f"
            ],
            [
             0.2222222222222222,
             "#7201a8"
            ],
            [
             0.3333333333333333,
             "#9c179e"
            ],
            [
             0.4444444444444444,
             "#bd3786"
            ],
            [
             0.5555555555555556,
             "#d8576b"
            ],
            [
             0.6666666666666666,
             "#ed7953"
            ],
            [
             0.7777777777777778,
             "#fb9f3a"
            ],
            [
             0.8888888888888888,
             "#fdca26"
            ],
            [
             1,
             "#f0f921"
            ]
           ],
           "sequentialminus": [
            [
             0,
             "#0d0887"
            ],
            [
             0.1111111111111111,
             "#46039f"
            ],
            [
             0.2222222222222222,
             "#7201a8"
            ],
            [
             0.3333333333333333,
             "#9c179e"
            ],
            [
             0.4444444444444444,
             "#bd3786"
            ],
            [
             0.5555555555555556,
             "#d8576b"
            ],
            [
             0.6666666666666666,
             "#ed7953"
            ],
            [
             0.7777777777777778,
             "#fb9f3a"
            ],
            [
             0.8888888888888888,
             "#fdca26"
            ],
            [
             1,
             "#f0f921"
            ]
           ]
          },
          "colorway": [
           "#636efa",
           "#EF553B",
           "#00cc96",
           "#ab63fa",
           "#FFA15A",
           "#19d3f3",
           "#FF6692",
           "#B6E880",
           "#FF97FF",
           "#FECB52"
          ],
          "font": {
           "color": "#2a3f5f"
          },
          "geo": {
           "bgcolor": "white",
           "lakecolor": "white",
           "landcolor": "#E5ECF6",
           "showlakes": true,
           "showland": true,
           "subunitcolor": "white"
          },
          "hoverlabel": {
           "align": "left"
          },
          "hovermode": "closest",
          "mapbox": {
           "style": "light"
          },
          "paper_bgcolor": "white",
          "plot_bgcolor": "#E5ECF6",
          "polar": {
           "angularaxis": {
            "gridcolor": "white",
            "linecolor": "white",
            "ticks": ""
           },
           "bgcolor": "#E5ECF6",
           "radialaxis": {
            "gridcolor": "white",
            "linecolor": "white",
            "ticks": ""
           }
          },
          "scene": {
           "xaxis": {
            "backgroundcolor": "#E5ECF6",
            "gridcolor": "white",
            "gridwidth": 2,
            "linecolor": "white",
            "showbackground": true,
            "ticks": "",
            "zerolinecolor": "white"
           },
           "yaxis": {
            "backgroundcolor": "#E5ECF6",
            "gridcolor": "white",
            "gridwidth": 2,
            "linecolor": "white",
            "showbackground": true,
            "ticks": "",
            "zerolinecolor": "white"
           },
           "zaxis": {
            "backgroundcolor": "#E5ECF6",
            "gridcolor": "white",
            "gridwidth": 2,
            "linecolor": "white",
            "showbackground": true,
            "ticks": "",
            "zerolinecolor": "white"
           }
          },
          "shapedefaults": {
           "line": {
            "color": "#2a3f5f"
           }
          },
          "ternary": {
           "aaxis": {
            "gridcolor": "white",
            "linecolor": "white",
            "ticks": ""
           },
           "baxis": {
            "gridcolor": "white",
            "linecolor": "white",
            "ticks": ""
           },
           "bgcolor": "#E5ECF6",
           "caxis": {
            "gridcolor": "white",
            "linecolor": "white",
            "ticks": ""
           }
          },
          "title": {
           "x": 0.05
          },
          "xaxis": {
           "automargin": true,
           "gridcolor": "white",
           "linecolor": "white",
           "ticks": "",
           "title": {
            "standoff": 15
           },
           "zerolinecolor": "white",
           "zerolinewidth": 2
          },
          "yaxis": {
           "automargin": true,
           "gridcolor": "white",
           "linecolor": "white",
           "ticks": "",
           "title": {
            "standoff": 15
           },
           "zerolinecolor": "white",
           "zerolinewidth": 2
          }
         }
        },
        "xaxis": {
         "anchor": "y",
         "categoryarray": [
          "ep",
          "cg",
          "ft",
          "sp",
          "mg",
          "bt",
          "lu"
         ],
         "categoryorder": "array",
         "domain": [
          0,
          0.49
         ],
         "title": {
          "text": "Benchmark"
         }
        },
        "xaxis2": {
         "anchor": "y2",
         "categoryarray": [
          "ep",
          "cg",
          "ft",
          "sp",
          "mg",
          "bt",
          "lu"
         ],
         "categoryorder": "array",
         "domain": [
          0.51,
          1
         ],
         "matches": "x",
         "title": {
          "text": "Benchmark"
         }
        },
        "yaxis": {
         "anchor": "x",
         "domain": [
          0,
          1
         ],
         "exponentformat": "power",
         "title": {
          "text": "Slowdown (relative to IEEE)"
         }
        },
        "yaxis2": {
         "anchor": "x2",
         "domain": [
          0,
          1
         ],
         "matches": "y",
         "showticklabels": false
        }
       }
      }
     },
     "metadata": {},
     "output_type": "display_data"
    }
   ],
   "source": [
    "results_stats = pd.read_csv(\"perf-NPB-SER-stats.csv\")\n",
    "results_stats.fillna(\"\", inplace=True)\n",
    "results_stats = results_stats[\n",
    "    ~results_stats[\"Tool\"].isin([\"ieee\", \"prism_sr_dynamic\", \"prism_ud_dynamic\"])\n",
    "]\n",
    "colors_discrete_map = {\n",
    "    \"cadna\": colors_map[\"CESTAC\"],\n",
    "    \"ieee\": colors_map[\"IEEE\"],\n",
    "    \"prism_sr_static\": colors_map[\"PRISM\"],\n",
    "    \"prism_ud_static\": colors_map[\"PRISM\"],\n",
    "    \"sr\": colors_map[\"FM SR\"],\n",
    "    \"verificarlo\": colors_map[\"MCA RR\"],\n",
    "    \"verrou_cestac\": colors_map[\"Verrou\"],\n",
    "    \"verrou_sr\": colors_map[\"Verrou\"],\n",
    "}\n",
    "fig = px.bar(\n",
    "    results_stats,\n",
    "    x=\"Bench\",\n",
    "    y=\"Time_slowdown_mean\",\n",
    "    error_y=\"Time_slowdown_std\",\n",
    "    color=\"Tool\",\n",
    "    barmode=\"group\",\n",
    "    color_discrete_map=colors_discrete_map,\n",
    "    pattern_shape=\"Variant\",\n",
    "    pattern_shape_sequence=[\"\", \"\", \"/\", \"/\", \"/\", \"/\", \"/\", \"/\", \"/\"],\n",
    "    facet_col=\"Class\",\n",
    "    title=\"\",\n",
    "    labels={\"Time\": \"Time in seconds\", \"Bench\": \"Benchmark\"},\n",
    "    height=600,\n",
    "    category_orders={\n",
    "        \"Tool\": [\n",
    "            \"prism_ud_static\",\n",
    "            \"prism_sr_static\",\n",
    "            \"cadna\",\n",
    "            \"verrou_cestac\",\n",
    "            \"verrou_sr\",\n",
    "            \"sr\",\n",
    "            \"verificarlo\",\n",
    "        ]\n",
    "    },\n",
    ")\n",
    "fig.update_traces(selector=dict(type=\"bar\"), marker_line_width=1.5)\n",
    "fig.update_layout(\n",
    "    legend_orientation=\"h\",\n",
    "    legend_yanchor=\"top\",\n",
    "    legend_y=1.15,\n",
    "    legend_xanchor=\"center\",\n",
    "    legend_x=0.5,\n",
    "    legend_title_text=\"Method\",\n",
    "    xaxis_categoryorder=\"array\",\n",
    "    xaxis_categoryarray=[\"ep\", \"cg\", \"ft\", \"sp\", \"mg\", \"bt\", \"lu\"],\n",
    "    xaxis2_categoryorder=\"array\",\n",
    "    xaxis2_categoryarray=[\"ep\", \"cg\", \"ft\", \"sp\", \"mg\", \"bt\", \"lu\"],\n",
    "    legend_traceorder=\"normal\",\n",
    "    font_size=20,\n",
    "    font_family=\"Helvetica, sans-serif\",\n",
    ")\n",
    "# Set custom legend/group order\n",
    "custom_order = [\n",
    "    \"prism_ud_static, ud\",\n",
    "    \"prism_sr_static, sr\",\n",
    "    \"cadna, \",\n",
    "    \"sr, \",\n",
    "    \"verrou_cestac, cestac\",\n",
    "    \"verrou_sr, sr\",\n",
    "    \"verificarlo, \",\n",
    "]\n",
    "# Update legend names for clarity\n",
    "legend_rename = {\n",
    "    \"prism_sr_static, sr\": \"PRISM SR\",\n",
    "    \"cadna, \": \"CESTAC\",\n",
    "    \"verrou_sr, sr\": \"Verrou SR\",\n",
    "    \"verificarlo, \": \"MCA RR\",\n",
    "    \"prism_ud_static, ud\": \"PRISM UD\",\n",
    "    \"verrou_cestac, cestac\": \"Verrou CESTAC\",\n",
    "    \"sr, \": \"FM SR\",\n",
    "}\n",
    "legend_group = {\n",
    "    \"prism_sr_static, sr\": \"PRISM\",\n",
    "    \"cadna, \": \"CESTAC\",\n",
    "    \"verrou_sr, sr\": \"Verrou\",\n",
    "    \"verificarlo, \": \"MCA RR\",\n",
    "    \"prism_ud_static, ud\": \"PRISM\",\n",
    "    \"verrou_cestac, cestac\": \"Verrou\",\n",
    "    \"sr, \": \"FM SR\",\n",
    "}\n",
    "\n",
    "for i, name in enumerate(custom_order):\n",
    "    for trace in fig.data:\n",
    "        if trace.name in legend_rename:\n",
    "            trace.legendgroup = legend_group[trace.name]\n",
    "            trace.name = legend_rename[trace.name]\n",
    "for i, name in enumerate(custom_order):\n",
    "    for trace in fig.data:\n",
    "        if trace.name == name:\n",
    "            trace.legendrank = i\n",
    "\n",
    "fig.update_yaxes(exponentformat=\"power\", title=\"Slowdown (relative to IEEE)\", col=1)\n",
    "\n",
    "display(Image(fig.to_image(width=1400, height=800)))\n",
    "fig.show()"
   ]
  }
 ],
 "metadata": {
  "kernelspec": {
   "display_name": ".venv",
   "language": "python",
   "name": "python3"
  },
  "language_info": {
   "codemirror_mode": {
    "name": "ipython",
    "version": 3
   },
   "file_extension": ".py",
   "mimetype": "text/x-python",
   "name": "python",
   "nbconvert_exporter": "python",
   "pygments_lexer": "ipython3",
   "version": "3.12.3"
  }
 },
 "nbformat": 4,
 "nbformat_minor": 5
}
