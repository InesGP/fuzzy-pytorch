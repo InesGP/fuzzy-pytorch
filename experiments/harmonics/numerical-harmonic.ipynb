{
 "cells": [
  {
   "cell_type": "markdown",
   "id": "c176909b",
   "metadata": {},
   "source": [
    "# Harmonic experiment"
   ]
  },
  {
   "cell_type": "code",
   "execution_count": null,
   "id": "e97c27d8",
   "metadata": {},
   "outputs": [],
   "source": [
    "%pip install --upgrade plotly numpy nbformat kaleido pandas"
   ]
  },
  {
   "cell_type": "code",
   "execution_count": 2,
   "id": "08b935c1",
   "metadata": {},
   "outputs": [
    {
     "name": "stdout",
     "output_type": "stream",
     "text": [
      "Results directory: /home/yohan/Work/fuzzy-pytorch/experiments/harmonics/results\n"
     ]
    },
    {
     "name": "stderr",
     "output_type": "stream",
     "text": [
      "/tmp/ipykernel_3009436/1457042936.py:11: DeprecationWarning:\n",
      "\n",
      "\n",
      "Use of plotly.io.kaleido.scope.mathjax is deprecated and support will be removed after September 2025.\n",
      "Please use plotly.io.defaults.mathjax instead.\n",
      "\n",
      "\n"
     ]
    }
   ],
   "source": [
    "import glob\n",
    "import os\n",
    "import pandas as pd\n",
    "import numpy as np\n",
    "import re\n",
    "import plotly.express as px\n",
    "import plotly.io as pio\n",
    "from pathlib import Path\n",
    "from IPython.display import display, Image\n",
    "\n",
    "pio.kaleido.scope.mathjax = None\n",
    "\n",
    "results_dir = Path(\"results\").resolve()\n",
    "print(\"Results directory:\", results_dir)"
   ]
  },
  {
   "cell_type": "code",
   "execution_count": 3,
   "id": "a71efc77",
   "metadata": {},
   "outputs": [],
   "source": [
    "def extract_hex(line):\n",
    "    return float.fromhex(line.split(\"(\")[1].split(\")\")[0])\n",
    "\n",
    "\n",
    "def extract_values_default(file):\n",
    "    with open(file, \"r\") as f:\n",
    "        values = map(extract_hex, f.read().splitlines())\n",
    "    return np.fromiter(values, dtype=np.float64)\n",
    "\n",
    "\n",
    "def extract_cadna_line(line):\n",
    "    # RESULT:  +5.18738175e+00 -- +5.18737698e+00 -- +5.18738509e+00\n",
    "    return re.findall(r\"\\+\\d+\\.\\d+e[+-]\\d+\", line)\n",
    "\n",
    "\n",
    "def extract_values_cadna(file):\n",
    "    with open(file, \"r\") as f:\n",
    "        values = map(extract_cadna_line, f.read().splitlines())\n",
    "        # flatten list of lists\n",
    "        values = [item for sublist in values for item in sublist]\n",
    "    return np.fromiter(values, dtype=np.float64)\n",
    "\n",
    "\n",
    "def extract_values(file, tool):\n",
    "    if \"cadna\" in tool:\n",
    "        return extract_values_cadna(file)\n",
    "    else:\n",
    "        return extract_values_default(file)\n",
    "\n",
    "\n",
    "def load_data(directory):\n",
    "    files = glob.glob(os.path.join(directory, \"*.txt\"))\n",
    "    df = pd.DataFrame(columns=[\"tool\", \"mode\", \"iterations\"])\n",
    "    for file in files:\n",
    "        tool, mode, iterations = os.path.splitext(os.path.basename(file))[0].split(\"-\")\n",
    "        values = extract_values(file, tool)\n",
    "        mean = np.mean(values)\n",
    "        std = np.std(values)\n",
    "        _df = pd.DataFrame(\n",
    "            {\n",
    "                \"tool\": [tool],\n",
    "                \"mode\": [mode],\n",
    "                \"iterations\": [int(iterations)],\n",
    "                \"mean\": [mean],\n",
    "                \"std\": [std],\n",
    "            }\n",
    "        )\n",
    "        df = pd.concat([df, _df])\n",
    "    return df"
   ]
  },
  {
   "cell_type": "code",
   "execution_count": 4,
   "id": "045ca16e",
   "metadata": {},
   "outputs": [
    {
     "data": {
      "application/vnd.microsoft.datawrangler.viewer.v0+json": {
       "columns": [
        {
         "name": "index",
         "rawType": "int64",
         "type": "integer"
        },
        {
         "name": "tool",
         "rawType": "object",
         "type": "string"
        },
        {
         "name": "mode",
         "rawType": "object",
         "type": "string"
        },
        {
         "name": "iterations",
         "rawType": "object",
         "type": "unknown"
        },
        {
         "name": "mean",
         "rawType": "float64",
         "type": "float"
        },
        {
         "name": "std",
         "rawType": "float64",
         "type": "float"
        }
       ],
       "ref": "c66bd6ac-2707-4cb4-b6e0-e8b4bb73cca7",
       "rows": [
        [
         "0",
         "prism_sr",
         "perf",
         "4132",
         "8.903861999511719",
         "9.756729922754164e-06"
        ],
        [
         "0",
         "prism_sr",
         "perf",
         "16681",
         "10.299319585164389",
         "4.819175498423568e-05"
        ],
        [
         "0",
         "prism_sr",
         "dbg",
         "42292",
         "11.229553858439127",
         "6.316527686720745e-05"
        ],
        [
         "0",
         "verrou_cestac",
         "dbg",
         "2056",
         "8.205996831258139",
         "8.541761298207856e-06"
        ],
        [
         "0",
         "cadna",
         "dbg",
         "33516",
         "10.996838599999998",
         "0.00031808694828057817"
        ],
        [
         "0",
         "verrou_cestac",
         "perf",
         "16681",
         "10.299284934997559",
         "7.140467280324891e-05"
        ],
        [
         "0",
         "baseline_float",
         "dbg",
         "151991",
         "12.508068084716797",
         "0.0"
        ],
        [
         "0",
         "verrou_sr",
         "perf",
         "29836",
         "10.880717913309732",
         "2.7434602114857253e-05"
        ],
        [
         "0",
         "prism_ud",
         "perf",
         "8302",
         "9.60157299041748",
         "3.415521244955265e-05"
        ],
        [
         "0",
         "prism_ud",
         "dbg",
         "613590",
         "13.90709654490153",
         "0.0005694334604197582"
        ],
        [
         "0",
         "prism_ud",
         "perf",
         "3678",
         "8.787448565165201",
         "1.9580667615807207e-05"
        ],
        [
         "0",
         "verificarlo",
         "perf",
         "53366",
         "11.46224562327067",
         "2.657009594468036e-05"
        ],
        [
         "0",
         "baseline_float",
         "perf",
         "178",
         "5.761806011199951",
         "0.0"
        ],
        [
         "0",
         "baseline_double",
         "dbg",
         "1830",
         "8.089560508728027",
         "0.0"
        ],
        [
         "0",
         "verificarlo",
         "dbg",
         "8302",
         "9.601527214050293",
         "3.188753795108888e-05"
        ],
        [
         "0",
         "prism_ud",
         "perf",
         "722",
         "7.15993611017863",
         "4.6449150073377155e-06"
        ],
        [
         "0",
         "cadna",
         "dbg",
         "170735",
         "12.624849366666666",
         "0.0016090858073934437"
        ],
        [
         "0",
         "cadna",
         "perf",
         "1232846",
         "14.598539733333332",
         "0.011674260965998166"
        ],
        [
         "0",
         "prism_ud",
         "dbg",
         "977009",
         "14.336054166158041",
         "0.00023986926077197533"
        ],
        [
         "0",
         "verificarlo",
         "perf",
         "23644",
         "10.648174921671549",
         "7.710948152026409e-05"
        ],
        [
         "0",
         "prism_ud",
         "dbg",
         "2915",
         "8.5550324122111",
         "2.8122165113571767e-05"
        ],
        [
         "0",
         "baseline_double",
         "perf",
         "59948",
         "11.57845687866211",
         "0.0"
        ],
        [
         "0",
         "sr",
         "perf",
         "1097498",
         "14.48597240447998",
         "0.00013495081292197212"
        ],
        [
         "0",
         "prism_ud",
         "perf",
         "1097498",
         "14.450001080830893",
         "0.0008341553734163224"
        ],
        [
         "0",
         "prism_sr",
         "dbg",
         "13219",
         "10.06664244333903",
         "1.0910671425965953e-05"
        ],
        [
         "0",
         "verificarlo",
         "dbg",
         "42292",
         "11.229572931925455",
         "2.1527611991039293e-05"
        ],
        [
         "0",
         "verrou_cestac",
         "dbg",
         "811",
         "7.276105880737305",
         "6.432884961715718e-06"
        ],
        [
         "0",
         "cadna",
         "dbg",
         "284",
         "6.227955823333333",
         "1.4040259573570886e-06"
        ],
        [
         "0",
         "baseline_float",
         "perf",
         "6280291",
         "15.403682708740234",
         "0.0"
        ],
        [
         "0",
         "verificarlo",
         "dbg",
         "1149",
         "7.624303817749023",
         "8.670922404598144e-06"
        ],
        [
         "0",
         "verificarlo",
         "dbg",
         "120450",
         "12.276287714640299",
         "0.00013639283976806554"
        ],
        [
         "0",
         "baseline_double",
         "perf",
         "135304",
         "12.392498970031738",
         "0.0"
        ],
        [
         "0",
         "baseline_double",
         "perf",
         "178",
         "5.761805534362793",
         "0.0"
        ],
        [
         "0",
         "prism_ud",
         "dbg",
         "1232846",
         "14.579304695129395",
         "0.0007054642054128293"
        ],
        [
         "0",
         "sr",
         "dbg",
         "3678",
         "8.787480990091959",
         "1.5065505486898786e-05"
        ],
        [
         "0",
         "verrou_sr",
         "dbg",
         "59948",
         "11.578462600708008",
         "7.14980178310213e-05"
        ],
        [
         "0",
         "cadna",
         "perf",
         "37649",
         "11.113145233333334",
         "0.00034945256552967646"
        ],
        [
         "0",
         "baseline_float",
         "perf",
         "2595",
         "8.438754081726074",
         "0.0"
        ],
        [
         "0",
         "baseline_float",
         "dbg",
         "13219",
         "10.066675186157227",
         "0.0"
        ],
        [
         "0",
         "sr",
         "dbg",
         "151991",
         "12.508689562479654",
         "6.011595233362075e-05"
        ],
        [
         "0",
         "verificarlo",
         "dbg",
         "100",
         "5.187375704447429",
         "5.947204250930057e-07"
        ],
        [
         "0",
         "sr",
         "dbg",
         "4641",
         "9.020000775655111",
         "3.1469646888134213e-06"
        ],
        [
         "0",
         "baseline_float",
         "dbg",
         "242012",
         "12.974506378173828",
         "0.0"
        ],
        [
         "0",
         "prism_sr",
         "dbg",
         "1963040",
         "15.067246437072754",
         "0.0001858613132492595"
        ],
        [
         "0",
         "baseline_float",
         "perf",
         "3678",
         "8.787481307983398",
         "0.0"
        ],
        [
         "0",
         "prism_ud",
         "dbg",
         "159",
         "5.649264494578044",
         "1.9205484348288495e-06"
        ],
        [
         "0",
         "verrou_sr",
         "dbg",
         "642",
         "7.042582829793294",
         "1.3673027780918482e-06"
        ],
        [
         "0",
         "baseline_double",
         "dbg",
         "126",
         "5.4174604415893555",
         "0.0"
        ],
        [
         "0",
         "baseline_double",
         "perf",
         "112",
         "5.300172328948975",
         "0.0"
        ],
        [
         "0",
         "baseline_float",
         "perf",
         "613590",
         "13.907347679138184",
         "0.0"
        ]
       ],
       "shape": {
        "columns": 5,
        "rows": 1800
       }
      },
      "text/html": [
       "<div>\n",
       "<style scoped>\n",
       "    .dataframe tbody tr th:only-of-type {\n",
       "        vertical-align: middle;\n",
       "    }\n",
       "\n",
       "    .dataframe tbody tr th {\n",
       "        vertical-align: top;\n",
       "    }\n",
       "\n",
       "    .dataframe thead th {\n",
       "        text-align: right;\n",
       "    }\n",
       "</style>\n",
       "<table border=\"1\" class=\"dataframe\">\n",
       "  <thead>\n",
       "    <tr style=\"text-align: right;\">\n",
       "      <th></th>\n",
       "      <th>tool</th>\n",
       "      <th>mode</th>\n",
       "      <th>iterations</th>\n",
       "      <th>mean</th>\n",
       "      <th>std</th>\n",
       "    </tr>\n",
       "  </thead>\n",
       "  <tbody>\n",
       "    <tr>\n",
       "      <th>0</th>\n",
       "      <td>prism_sr</td>\n",
       "      <td>perf</td>\n",
       "      <td>4132</td>\n",
       "      <td>8.903862</td>\n",
       "      <td>0.000010</td>\n",
       "    </tr>\n",
       "    <tr>\n",
       "      <th>0</th>\n",
       "      <td>prism_sr</td>\n",
       "      <td>perf</td>\n",
       "      <td>16681</td>\n",
       "      <td>10.299320</td>\n",
       "      <td>0.000048</td>\n",
       "    </tr>\n",
       "    <tr>\n",
       "      <th>0</th>\n",
       "      <td>prism_sr</td>\n",
       "      <td>dbg</td>\n",
       "      <td>42292</td>\n",
       "      <td>11.229554</td>\n",
       "      <td>0.000063</td>\n",
       "    </tr>\n",
       "    <tr>\n",
       "      <th>0</th>\n",
       "      <td>verrou_cestac</td>\n",
       "      <td>dbg</td>\n",
       "      <td>2056</td>\n",
       "      <td>8.205997</td>\n",
       "      <td>0.000009</td>\n",
       "    </tr>\n",
       "    <tr>\n",
       "      <th>0</th>\n",
       "      <td>cadna</td>\n",
       "      <td>dbg</td>\n",
       "      <td>33516</td>\n",
       "      <td>10.996839</td>\n",
       "      <td>0.000318</td>\n",
       "    </tr>\n",
       "    <tr>\n",
       "      <th>...</th>\n",
       "      <td>...</td>\n",
       "      <td>...</td>\n",
       "      <td>...</td>\n",
       "      <td>...</td>\n",
       "      <td>...</td>\n",
       "    </tr>\n",
       "    <tr>\n",
       "      <th>0</th>\n",
       "      <td>prism_sr</td>\n",
       "      <td>dbg</td>\n",
       "      <td>1149</td>\n",
       "      <td>7.624297</td>\n",
       "      <td>0.000008</td>\n",
       "    </tr>\n",
       "    <tr>\n",
       "      <th>0</th>\n",
       "      <td>baseline_float</td>\n",
       "      <td>dbg</td>\n",
       "      <td>977009</td>\n",
       "      <td>14.335432</td>\n",
       "      <td>0.000000</td>\n",
       "    </tr>\n",
       "    <tr>\n",
       "      <th>0</th>\n",
       "      <td>sr</td>\n",
       "      <td>dbg</td>\n",
       "      <td>59948</td>\n",
       "      <td>11.578574</td>\n",
       "      <td>0.000046</td>\n",
       "    </tr>\n",
       "    <tr>\n",
       "      <th>0</th>\n",
       "      <td>sr</td>\n",
       "      <td>dbg</td>\n",
       "      <td>2477076</td>\n",
       "      <td>15.299238</td>\n",
       "      <td>0.000529</td>\n",
       "    </tr>\n",
       "    <tr>\n",
       "      <th>0</th>\n",
       "      <td>verificarlo</td>\n",
       "      <td>dbg</td>\n",
       "      <td>4430621</td>\n",
       "      <td>15.881318</td>\n",
       "      <td>0.000636</td>\n",
       "    </tr>\n",
       "  </tbody>\n",
       "</table>\n",
       "<p>1800 rows × 5 columns</p>\n",
       "</div>"
      ],
      "text/plain": [
       "              tool  mode iterations       mean       std\n",
       "0         prism_sr  perf       4132   8.903862  0.000010\n",
       "0         prism_sr  perf      16681  10.299320  0.000048\n",
       "0         prism_sr   dbg      42292  11.229554  0.000063\n",
       "0    verrou_cestac   dbg       2056   8.205997  0.000009\n",
       "0            cadna   dbg      33516  10.996839  0.000318\n",
       "..             ...   ...        ...        ...       ...\n",
       "0         prism_sr   dbg       1149   7.624297  0.000008\n",
       "0   baseline_float   dbg     977009  14.335432  0.000000\n",
       "0               sr   dbg      59948  11.578574  0.000046\n",
       "0               sr   dbg    2477076  15.299238  0.000529\n",
       "0      verificarlo   dbg    4430621  15.881318  0.000636\n",
       "\n",
       "[1800 rows x 5 columns]"
      ]
     },
     "execution_count": 4,
     "metadata": {},
     "output_type": "execute_result"
    }
   ],
   "source": [
    "df = load_data(results_dir)\n",
    "df.to_csv(\"harmonic-numerics.csv\")\n",
    "df"
   ]
  },
  {
   "cell_type": "code",
   "execution_count": 5,
   "id": "7a2bef42",
   "metadata": {},
   "outputs": [],
   "source": [
    "marker_map = {\n",
    "    \"baseline_double\": \"star\",\n",
    "    \"baseline_float\": \"hexagram\",\n",
    "    \"verrou_cestac\": \"x\",\n",
    "    \"cadna\": \"x\",\n",
    "    \"verrou_sr\": \"triangle-up\",\n",
    "    \"prism_sr\": \"triangle-up\",\n",
    "    \"prism_ud\": \"diamond\",\n",
    "    \"sr\": \"triangle-up\",\n",
    "    \"verificarlo\": \"triangle-up\",\n",
    "}\n",
    "\n",
    "legend_map = {\n",
    "    \"prism_sr\": \"PRISM SR\",\n",
    "    \"baseline_double\": \"IEEE binary64\",\n",
    "    \"cadna\": \"CESTAC\",\n",
    "    \"verificarlo\": \"MCA RR\",\n",
    "    \"baseline_float\": \"IEEE binary32\",\n",
    "    \"verrou_sr\": \"Verrou SR\",\n",
    "    \"sr\": \"FM SR\",\n",
    "    \"prism_ud\": \"PRISM UD\",\n",
    "    \"verrou_cestac\": \"Verrou CESTAC\",\n",
    "}\n",
    "\n",
    "legendgroup_map = {\n",
    "    \"prism_sr\": \"PRISM\",\n",
    "    \"baseline_double\": \"IEEE\",\n",
    "    \"cadna\": \"CADNA\",\n",
    "    \"verificarlo\": \"MCA\",\n",
    "    \"baseline_float\": \"IEEE\",\n",
    "    \"verrou_sr\": \"VERROU\",\n",
    "    \"sr\": \"SR\",\n",
    "    \"prism_ud\": \"PRISM\",\n",
    "    \"verrou_cestac\": \"VERROU\",\n",
    "}\n",
    "\n",
    "colors_map = {\n",
    "    \"IEEE\": \"#a80ca8\",\n",
    "    \"Verrou\": \"#ff7f0e\",\n",
    "    \"PRISM\": \"#1f77b4\",\n",
    "    \"CESTAC\": \"#1fb438\",\n",
    "    \"FM SR\": \"#26b7e4\",\n",
    "    \"MCA RR\": \"#f10202\",\n",
    "}\n",
    "\n",
    "color_map = {\n",
    "    \"PRISM\": colors_map[\"PRISM\"],\n",
    "    \"VERROU\": colors_map[\"Verrou\"],\n",
    "    \"CADNA\": colors_map[\"CESTAC\"],\n",
    "    \"IEEE\": colors_map[\"IEEE\"],\n",
    "    \"SR\": colors_map[\"FM SR\"],\n",
    "    \"MCA\": colors_map[\"MCA RR\"],\n",
    "}"
   ]
  },
  {
   "cell_type": "markdown",
   "id": "6cfd04cd",
   "metadata": {},
   "source": [
    "## Mean "
   ]
  },
  {
   "cell_type": "code",
   "execution_count": 10,
   "id": "cd2c2454",
   "metadata": {},
   "outputs": [
    {
     "data": {
      "image/png": "[encoded data removed]",
      "text/plain": [
       "<IPython.core.display.Image object>"
      ]
     },
     "metadata": {},
     "output_type": "display_data"
    },
    {
     "data": {
      "application/vnd.plotly.v1+json": {
       "config": {
        "plotlyServerURL": "https://plot.ly"
       },
       "data": [
        {
         "hovertemplate": "tool=prism_ud<br>iterations=%{x}<br>mean=%{y}<extra></extra>",
         "legendgroup": "PRISM",
         "line": {
          "color": "#1f77b4"
         },
         "marker": {
          "color": "#1f77b4",
          "opacity": 0.85,
          "size": 6,
          "symbol": "diamond"
         },
         "mode": "markers",
         "name": "PRISM UD",
         "orientation": "v",
         "showlegend": true,
         "type": "scatter",
         "x": {
          "bdata": "ZAAAAHAAAAB+AAAAjQAAAJ8AAACyAAAAyAAAAOEAAAD9AAAAHAEAAD8BAABnAQAAkwEAAMUBAAD9AQAAPAIAAIICAADSAgAAKwMAAI8DAAD/AwAAfQQAAAsFAACqBQAAXQYAACYHAAAICAAABgkAACMKAABjCwAAygwAAF4OAAAkEAAAIRIAAF4UAADhFgAAsxkAAN4cAABuIAAAbiQAAOwoAAD4LQAAozMAAAE6AAApQQAAMkkAADlSAABcXAAAwGcAAIx0AADsggAAEZMAADSlAACUuQAAdtAAACzqAAANBwEAficBAO9LAQDedAEA2qIBAILWAQCIEAIAt1ECAO+aAgAv7QIAk0kDAFyxAwDyJQQA6agEAAY8BQBI4QUA7JoGAHRrBwCzVQgA1lwJAG2ECgB30AsAdUUNAHHoDgAavxAAzs8SALYhFQDcvBcASKoaACD0HQDKpSEAFMwlAF91KgDTsS8Al5M1AA4vPAAdm0MAf/FLABpPVQBj1F8A0qVrAFzseAAG1ocAgJaYAA==",
          "dtype": "i4"
         },
         "xaxis": "x",
         "y": {
          "bdata": "AAAAoN+/FEAAAADgYDMVQFVVVRV7qxVAVlVV9TkeFkAAAADA15gWQFVVVbUVDBdAq6qqihmDF0AAAABgbvsXQFVVVXVIcxhAAAAAIGnpGEAAAADgOmAZQFVVVfUC2RlAVlVV9UFPGkCrqqoK38YaQKuqqsoXPhtAVVVV1Xu1G0AAAAAgmyscQKuqqkrGoxxAAAAAQLkaHUCrqqqquZEdQFVVVdVoCB5AVVVVlUh/HkAAAABgjvYeQKuqqupxbR9Aq6qqapvkH0BVVVX12C0gQAAAAEB5aSBAVVVV1RalIECrqqpKpeAgQKuqqmoqHCFAAAAAYJlXIUBVVVV1LJMhQAAAAKDMziFAAAAAYEEKIkCrqqqq1UUiQKqqqqpmgSJAVVVVlea8IkBVVVU1bPgiQAAAAGABNCNAAAAAAIpvI0CrqqpKCKsjQKuqqmql5iNA////PyoiJEBVVVWVpF0kQAAAAEA8mSRAAQAAwMXUJECrqqpqUBAlQKuqqordSyVAAAAAwGGHJUD///9/xsIlQKuqqipo/iVArKqq6go6JkCrqqrKjnUmQKuqqsrysCZAAAAA4KrsJkBVVVU1MignQKuqqmruYydAVVVVNT+fJ0CqqqoqudonQFRVVTUrFihAq6qqaqFRKEBVVVWVdI0oQAAAAADayChAVVVVdQMEKUD///9fiz8pQFVVVZXpfClArKqqKpe2KUBVVVX1DfMpQFVVVZVOLSpAAAAA4AxsKkBWVVXVUaMqQP///9/N4CpAAAAAgC4gK0AAAADgFFQrQFVVVfWqjitAVVVVlcjQK0AAAADgeRosQFVVVbW6SCxAq6qqSgN3LECrqqrKE6wsQKuqqopm5ixAq6qqaqUoLUCrqqoKkXItQFZVVTVexi1AAQAAQDMkLkBWVVVVWYwuQKqqqiqpzi5Aq6qq6pXOLkCrqqpqxs4uQKuqqmr3zi5AVVVVVRXOLkBVVVX19s4uQFVVVdWFzy5AVFVVdSfOLkBVVVXV1M4uQAAAAKDg0C5AAAAAIEPOLkAAAAAgJ88uQAAAAAB7zy5AAAAAQFvOLkA=",
          "dtype": "f8"
         },
         "yaxis": "y"
        },
        {
         "hovertemplate": "tool=baseline_double<br>iterations=%{x}<br>mean=%{y}<extra></extra>",
         "legendgroup": "IEEE",
         "line": {
          "color": "#a80ca8"
         },
         "marker": {
          "color": "#a80ca8",
          "opacity": 0.85,
          "size": 6,
          "symbol": "star"
         },
         "mode": "markers",
         "name": "IEEE binary64",
         "orientation": "v",
         "showlegend": true,
         "type": "scatter",
         "x": {
          "bdata": "ZAAAAHAAAAB+AAAAjQAAAJ8AAACyAAAAyAAAAOEAAAD9AAAAHAEAAD8BAABnAQAAkwEAAMUBAAD9AQAAPAIAAIICAADSAgAAKwMAAI8DAAD/AwAAfQQAAAsFAACqBQAAXQYAACYHAAAICAAABgkAACMKAABjCwAAygwAAF4OAAAkEAAAIRIAAF4UAADhFgAAsxkAAN4cAABuIAAAbiQAAOwoAAD4LQAAozMAAAE6AAApQQAAMkkAADlSAABcXAAAwGcAAIx0AADsggAAEZMAADSlAACUuQAAdtAAACzqAAANBwEAficBAO9LAQDedAEA2qIBAILWAQCIEAIAt1ECAO+aAgAv7QIAk0kDAFyxAwDyJQQA6agEAAY8BQBI4QUA7JoGAHRrBwCzVQgA1lwJAG2ECgB30AsAdUUNAHHoDgAavxAAzs8SALYhFQDcvBcASKoaACD0HQDKpSEAFMwlAF91KgDTsS8Al5M1AA4vPAAdm0MAf/FLABpPVQBj1F8A0qVrAFzseAAG1ocAgJaYAA==",
          "dtype": "i4"
         },
         "xaxis": "x",
         "y": {
          "bdata": "AAAA4N+/FEAAAABgYDMVQAEAAMB6qxVAAAAA4DkeFkAAAADg15gWQAAAAMAWDBdAAAAAgBqDF0AAAAAAbvsXQAAAAEBIcxhAAAAAoGvpGEAAAACAOmAZQAAAAEAE2RlAAAAAAEBPGkAAAABA38YaQAAAAOAZPhtAAAAAYHu1G0ABAADAmiscQAAAAIDFoxxAAAAAALoaHUAAAAAAuZEdQAAAAGBlCB5AAAAAAEh/HkAAAADAjfYeQAAAAMBxbR9A////H5rkH0AAAADg2i0gQAAAAMB1aSBAAAAAQBalIEAAAADgo+AgQAAAAKAqHCFAAAAAIJ9XIUAAAAAAMJMhQAAAAODFziFAAAAAgD4KIkAAAAAg2EUiQAAAACBhgSJAAAAAYOS8IkD///+/Z/giQP///1/7MyNAAAAAgIdvI0AAAADgD6sjQAAAAICa5iNAAAAAwCEiJEAAAADgqV0kQP///x86mSRAAAAAIMPUJEABAABgThAlQP/////TSyVAAAAA4F6HJUAAAACA68IlQAAAAOB3/iVAAAAAQAE6JkAAAACgi3UmQAAAACAXsSZAAAAAgJ/sJkAAAACAKygnQAAAAAC2YydAAQAA4ECfJ0AAAACAy9onQAAAAIBVFihAAAAAQOBRKED///9fa40oQAAAAKD1yChAAQAA4IAEKUD///9fC0ApQAAAACCWeylAAAAAgCC3KUAAAADgqvIpQAAAAKA1LipAAAAAYMBpKkAAAADgSqUqQAAAAKDV4CpAAAAAgGAcK0AAAAAg61crQAAAAKB1kytAAAAAQADPK0AAAAAAiwosQAAAAIAVRixAAAAAQKCBLEAAAADgKr0sQAAAAIC1+CxAAAAAIEA0LUAAAADgym8tQAAAAIBVqy1AAAAAIODmLUABAADAaiIuQP///1/1XS5AAAAAIICZLkABAADACtUuQP///1+VEC9AAAAAACBML0ABAACgqocvQP///z81wy9AAAAAAMD+L0AAAABAJR0wQAAAAKDqOjBAAAAAALBYMEAAAABAdXYwQAAAAKA6lDBAAAAA4P+xMEA=",
          "dtype": "f8"
         },
         "yaxis": "y"
        },
        {
         "hovertemplate": "tool=sr<br>iterations=%{x}<br>mean=%{y}<extra></extra>",
         "legendgroup": "SR",
         "line": {
          "color": "#26b7e4"
         },
         "marker": {
          "color": "#26b7e4",
          "opacity": 0.85,
          "size": 6,
          "symbol": "triangle-up"
         },
         "mode": "markers",
         "name": "FM SR",
         "orientation": "v",
         "showlegend": true,
         "type": "scatter",
         "x": {
          "bdata": "ZAAAAHAAAAB+AAAAjQAAAJ8AAACyAAAAyAAAAOEAAAD9AAAAHAEAAD8BAABnAQAAkwEAAMUBAAD9AQAAPAIAAIICAADSAgAAKwMAAI8DAAD/AwAAfQQAAAsFAACqBQAAXQYAACYHAAAICAAABgkAACMKAABjCwAAygwAAF4OAAAkEAAAIRIAAF4UAADhFgAAsxkAAN4cAABuIAAAbiQAAOwoAAD4LQAAozMAAAE6AAApQQAAMkkAADlSAABcXAAAwGcAAIx0AADsggAAEZMAADSlAACUuQAAdtAAACzqAAANBwEAficBAO9LAQDedAEA2qIBAILWAQCIEAIAt1ECAO+aAgAv7QIAk0kDAFyxAwDyJQQA6agEAAY8BQBI4QUA7JoGAHRrBwCzVQgA1lwJAG2ECgB30AsAdUUNAHHoDgAavxAAzs8SALYhFQDcvBcASKoaACD0HQDKpSEAFMwlAF91KgDTsS8Al5M1AA4vPAAdm0MAf/FLABpPVQBj1F8A0qVrAFzseAAG1ocAgJaYAA==",
          "dtype": "i4"
         },
         "xaxis": "x",
         "y": {
          "bdata": "AAAA4N+/FEAAAABgYDMVQAAAAKB6qxVAAAAAADoeFkBVVVUV2JgWQKuqqioXDBdAAAAAoBqDF0AAAABAbfsXQAAAACBIcxhAVVVVFWzpGECrqqrKOmAZQAAAAGAE2RlAVVVVdUBPGkCrqqrK3sYaQFVVVXUZPhtAq6qqqnq1G0BVVVW1miscQFVVVRXGoxxAAAAAwLgaHUCrqqpKuJEdQFVVVdVkCB5AAAAAwEd/HkBVVVUVjPYeQAAAAKBzbR9AAAAAQJrkH0AAAAAA2i0gQKuqqmp2aSBAq6qqihWlIECrqqrKouAgQFVVVfUoHCFAAAAAIJ9XIUBVVVV1MpMhQFVVVfXKziFAAAAAoEAKIkCrqqoq1kUiQAAAAMBhgSJAq6qqCuS8IkABAABAaPgiQFVVVRX9MyNAq6qqKoxvI0CqqqpqD6sjQKuqqkqc5iNAAAAAQBkiJECrqqoqol0kQKuqqgo6mSRAVVVVlcjUJEABAACgVBAlQFRVVTXWSyVAVFVVdWGHJUBVVVVV3cIlQAAAAECC/iVAAAAAYPE5JkCqqqrKkXUmQKuqqmoXsSZArKqqip7sJkAAAABgKignQKuqqmqyYydAAQAAYD6fJ0AAAACAzdonQFVVVVVVFihAqqqqStRRKEAAAABAfo0oQAAAAIDtyChA/////3gEKUAAAACgA0ApQFVVVZV4eylAAQAAABe3KUCrqqpqnvIpQFVVVXUrLipAAAAAIKtpKkCrqqrqU6UqQAAAAKDL4CpAAAAAAHAcK0CrqqpKHVgrQFZVVbVmkytArKqqSvLOK0BWVVWVkAosQFZVVZUVRixAVVVVNXGBLEAAAADgH70sQAAAAGDR+CxAAAAAgCs0LUAAAACAn28tQFVVVbV1qy1ArKqqqr7mLUAAAABgUSIuQKuqqqrVXS5AVVVV9XWZLkCrqqpqkdUuQKqqqqpwEC9AqqqqyuFLL0BVVVUVgYcvQKuqqmpWwy9Aq6qqatL+L0CrqqoqHx0wQAAAAKBXOzBAAAAAILJYMECrqqrqJHYwQAAAAAD7kzBAVVVV1bGxMEA=",
          "dtype": "f8"
         },
         "yaxis": "y"
        },
        {
         "hovertemplate": "tool=verificarlo<br>iterations=%{x}<br>mean=%{y}<extra></extra>",
         "legendgroup": "MCA",
         "line": {
          "color": "#f10202"
         },
         "marker": {
          "color": "#f10202",
          "opacity": 0.85,
          "size": 6,
          "symbol": "triangle-up"
         },
         "mode": "markers",
         "name": "MCA RR",
         "orientation": "v",
         "showlegend": true,
         "type": "scatter",
         "x": {
          "bdata": "ZAAAAHAAAAB+AAAAjQAAAJ8AAACyAAAAyAAAAOEAAAD9AAAAHAEAAD8BAABnAQAAkwEAAMUBAAD9AQAAPAIAAIICAADSAgAAKwMAAI8DAAD/AwAAfQQAAAsFAACqBQAAXQYAACYHAAAICAAABgkAACMKAABjCwAAygwAAF4OAAAkEAAAIRIAAF4UAADhFgAAsxkAAN4cAABuIAAAbiQAAOwoAAD4LQAAozMAAAE6AAApQQAAMkkAADlSAABcXAAAwGcAAIx0AADsggAAEZMAADSlAACUuQAAdtAAACzqAAANBwEAficBAO9LAQDedAEA2qIBAILWAQCIEAIAt1ECAO+aAgAv7QIAk0kDAFyxAwDyJQQA6agEAAY8BQBI4QUA7JoGAHRrBwCzVQgA1lwJAG2ECgB30AsAdUUNAHHoDgAavxAAzs8SALYhFQDcvBcASKoaACD0HQDKpSEAFMwlAF91KgDTsS8Al5M1AA4vPAAdm0MAf/FLABpPVQBj1F8A0qVrAFzseAAG1ocAgJaYAA==",
          "dtype": "i4"
         },
         "xaxis": "x",
         "y": {
          "bdata": "VVVVNd+/FECrqqpKYDMVQKuqqkp6qxVAAAAAgDoeFkBVVVUV15gWQKuqqioWDBdAq6qqKhqDF0CrqqrqbvsXQFVVVZVIcxhAVVVV1WvpGEBVVVW1OmAZQAAAAKAD2RlAq6qqCj9PGkCrqqoK38YaQKyqqooYPhtAVVVVlXq1G0CrqqoqmyscQFVVVXXEoxxAVVVVlboaHUBVVVWVuZEdQAAAAABmCB5Aq6qqqkd/HkBVVVWVkPYeQAAAAKBybR9AVVVVFZvkH0CrqqrK2y0gQKuqqqp1aSBAVVVVdRilIEBVVVX1pOAgQAAAAAAqHCFAAAAAYJ9XIUCrqqqKLpMhQAAAAODEziFAq6qqCkIKIkBUVVWV10UiQFVVVZVfgSJAq6qqKui8IkCrqqrKavgiQFRVVdX4MyNAAAAAQIBvI0AAAADAEKsjQFRVVbWd5iNAVVVVtSciJEAAAABgrF0kQKuqquo9mSRAq6qqisnUJEBVVVVVShAlQFVVVZXdSyVAqqqqSmSHJUCrqqrK5cIlQFRVVZV3/iVAqqqqygY6JkBVVVUVj3UmQAAAAMAYsSZAVVVVdavsJkBVVVUVMSgnQFVVVZXDYydAq6qqCj+fJ0ABAAAgwtonQKuqqopNFihAq6qqKttRKECrqqrqfI0oQFVVVZUPyShAVlVVFXgEKUABAAAA9z8pQP///5+heylAq6qq6hi3KUBVVVU1rPIpQAAAAABGLipAVVVVVcppKkCrqqrqOKUqQFVVVRXh4CpAq6qqak4cK0AAAADA31crQFVVVZV2kytA////X/vOK0CrqqpqfAosQFVVVRUmRixAAAAA4KqBLECrqqrq4LwsQFVVVdX/+CxAVlVVVXk0LUBVVVU1DHAtQKqqqmoKqy1Aq6qqyu3mLUBVVVW1YyIuQFVVVfXiXS5Aq6qq6lCZLkBVVVW1BdUuQFVVVbWJEC9AVVVV9SRML0AAAADgjIcvQFVVVRUiwy9A////X9v+L0AAAACgVx0wQKuqqsr2OjBAVVVVVbRYMEBVVVX1RHYwQKuqqiqflDBAVVVV1T6yMEA=",
          "dtype": "f8"
         },
         "yaxis": "y"
        },
        {
         "hovertemplate": "tool=verrou_sr<br>iterations=%{x}<br>mean=%{y}<extra></extra>",
         "legendgroup": "VERROU",
         "line": {
          "color": "#ff7f0e"
         },
         "marker": {
          "color": "#ff7f0e",
          "opacity": 0.85,
          "size": 6,
          "symbol": "triangle-up"
         },
         "mode": "markers",
         "name": "Verrou SR",
         "orientation": "v",
         "showlegend": true,
         "type": "scatter",
         "x": {
          "bdata": "ZAAAAHAAAAB+AAAAjQAAAJ8AAACyAAAAyAAAAOEAAAD9AAAAHAEAAD8BAABnAQAAkwEAAMUBAAD9AQAAPAIAAIICAADSAgAAKwMAAI8DAAD/AwAAfQQAAAsFAACqBQAAXQYAACYHAAAICAAABgkAACMKAABjCwAAygwAAF4OAAAkEAAAIRIAAF4UAADhFgAAsxkAAN4cAABuIAAAbiQAAOwoAAD4LQAAozMAAAE6AAApQQAAMkkAADlSAABcXAAAwGcAAIx0AADsggAAEZMAADSlAACUuQAAdtAAACzqAAANBwEAficBAO9LAQDedAEA2qIBAILWAQCIEAIAt1ECAO+aAgAv7QIAk0kDAFyxAwDyJQQA6agEAAY8BQBI4QUA7JoGAHRrBwCzVQgA1lwJAG2ECgB30AsAdUUNAHHoDgAavxAAzs8SALYhFQDcvBcASKoaACD0HQDKpSEAFMwlAF91KgDTsS8Al5M1AA4vPAAdm0MAf/FLABpPVQBj1F8A0qVrAFzseAAG1ocAgJaYAA==",
          "dtype": "i4"
         },
         "xaxis": "x",
         "y": {
          "bdata": "q6qqyt+/FEAAAABAYDMVQKuqqup6qxVAVlVV9TkeFkBVVVUV2JgWQKuqqooWDBdAq6qqqhqDF0AAAABAbvsXQAAAAABIcxhAq6qqSmvpGEBVVVXVOWAZQKuqqioD2RlAAAAAQEBPGkCrqqqK38YaQFVVVfUZPhtAVVVVdXu1G0BVVVVVmyscQFVVVfXGoxxAq6qqSroaHUAAAABAupEdQKuqqsplCB5Aqqqqikh/HkCrqqqKj/YeQFVVVTVwbR9AVVVVtZvkH0CrqqqK2i0gQFVVVRV2aSBAAAAAgBilIEAAAACAouAgQKuqquosHCFAq6qqSqFXIUCrqqqqLpMhQKuqqorFziFAq6qqij0KIkABAAAA10UiQFVVVXVggSJAq6qqaua8IkCrqqqKZ/giQFRVVfX5MyNAq6qqCodvI0CrqqpKEKsjQFVVVZWb5iNAVlVVlSAiJECqqqrqp10kQFVVVZU4mSRAq6qq6sXUJEBVVVX1TxAlQFVVVRXPSyVAAQAAQF2HJUBVVVV17cIlQKuqqkp1/iVAq6qqqgQ6JkAAAADgiXUmQAAAAAAbsSZAAAAAgJ3sJkBVVVWVJignQFRVVbWtYydA////f0afJ0AAAACA09onQKuqqupSFihArKqqas1RKEABAABAfY0oQFRVVRX1yChAVVVV1ZQEKUABAABA/T8pQAEAAKCKeylAVlVVVS+3KUCsqqqKuPIpQFVVVfU0LipAAAAAAM9pKkAAAAAAUKUqQKuqqqr34CpAq6qqCkscK0BVVVWV6VcrQKqqqop1kytAVFVVddzOK0BUVVWVhwosQFRVVfUJRixAAAAAIJ6BLEAAAAAAS70sQFZVVTWZ+CxAAAAAgFI0LUAAAADguW8tQFVVVVVyqy1AVVVV9fPmLUCrqqqqcSIuQFVVVdVLXi5AAAAAoI2ZLkCrqqqq/NQuQKuqqupkEC9AAAAAoEdML0ABAABgzocvQKuqqkrtwi9Aq6qqCsL+L0CrqqpKMR0wQFVVVdXCOjBAVVVV9XtYMECrqqqKj3YwQAAAAIAqlDBAAAAAQPCxMEA=",
          "dtype": "f8"
         },
         "yaxis": "y"
        },
        {
         "hovertemplate": "tool=cadna<br>iterations=%{x}<br>mean=%{y}<extra></extra>",
         "legendgroup": "CADNA",
         "line": {
          "color": "#1fb438"
         },
         "marker": {
          "color": "#1fb438",
          "opacity": 0.85,
          "size": 6,
          "symbol": "x"
         },
         "mode": "markers",
         "name": "CESTAC",
         "orientation": "v",
         "showlegend": true,
         "type": "scatter",
         "x": {
          "bdata": "ZAAAAHAAAAB+AAAAjQAAAJ8AAACyAAAAyAAAAOEAAAD9AAAAHAEAAD8BAABnAQAAkwEAAMUBAAD9AQAAPAIAAIICAADSAgAAKwMAAI8DAAD/AwAAfQQAAAsFAACqBQAAXQYAACYHAAAICAAABgkAACMKAABjCwAAygwAAF4OAAAkEAAAIRIAAF4UAADhFgAAsxkAAN4cAABuIAAAbiQAAOwoAAD4LQAAozMAAAE6AAApQQAAMkkAADlSAABcXAAAwGcAAIx0AADsggAAEZMAADSlAACUuQAAdtAAACzqAAANBwEAficBAO9LAQDedAEA2qIBAILWAQCIEAIAt1ECAO+aAgAv7QIAk0kDAFyxAwDyJQQA6agEAAY8BQBI4QUA7JoGAHRrBwCzVQgA1lwJAG2ECgB30AsAdUUNAHHoDgAavxAAzs8SALYhFQDcvBcASKoaACD0HQDKpSEAFMwlAF91KgDTsS8Al5M1AA4vPAAdm0MAf/FLABpPVQBj1F8A0qVrAFzseAAG1ocAgJaYAA==",
          "dtype": "i4"
         },
         "xaxis": "x",
         "y": {
          "bdata": "5GVj4OC/FECxYLBVYTMVQBw0cwB8qxVAqCCEIDseFkCjzrs12ZgWQNhVAAsYDBdAf2PMtRuDF0CJqIZVb/sXQKvJGatJcxhAAZlYQG3pGEA3xQ8LPGAZQA3er7UF2RlAQNGydUFPGkAYloxV4cYaQOtGaYAcPhtAfP9nFX61G0D39c8VnSscQMVTeYDHoxxABXGaFbwaHUBjrJZAu5EdQCugWMBnCB5ACFsCq0p/HkARllFgkPYeQActJGB0bR9Au5EeK53kH0CpMMFq3C0gQLXs02p3aSBAHYkb4BelIEAiuHgVpeAgQLFYa3UrHCFAqOQYoJ9XIUCo9dOKMJMhQNJn2ArGziFANAnp6j4KIkBFuy4g2EUiQDf5IuBggSJANxKG1eK8IkDd3n91ZvgiQC1/18r4MyNAo2p+dYRvI0DsYCSADKsjQE3SHUCW5iNAmJDF7BsiJEA9nU9Bol0kQMpLbKwymSRAJ7QtS7zUJEAHG+jrQxAlQKiq9DfFSyVAOFIRAk2HJUBZNs4B3cIlQOXHBKFh/iVA3LoJLO45JkCpyzzMcXUmQM9rNAEHsSZAHBzIVnPsJkAF8QJt8ycnQEi3k/Z0YydALIzjdh6fJ0DNzTeie9onQPf9ruJnFihAwNgNbZJRKEA7THw284woQAHvLmF+yChAyGMqIXwEKUDwhJVB7D8pQDwcAE1geilA6UumQQi3KUBGxALNVfEpQERUqg0XLipARXzMrEpnKkAIAtJsjKcqQJyOyas83ipACSzKth0YK0BmIltMIlkrQNQhE8x0lytAv/C4FpvIK0AjI4330P8rQIjKmQDWPSxA7km7LIGDLEDRelPsw9EsQCss7+HJES1A5AvIzHMyLUDEXeGBJVctQOgbLPddgC1ADKrpVquuLUCXKk9XruItQDEWzrYbHS5AzwMOV71eLkDjt6B2d6guQDvRiKxI+y5AgAMSzFBYL0AwSYmB0sAvQOxXXhY3NjBAONo6ARa6MEBwLYAWOE4xQL2ckcCe9DFARacvzIqvMkDOgMTAhIEzQCrTsGBjbTRAYsCSq1h2NUA=",
          "dtype": "f8"
         },
         "yaxis": "y"
        },
        {
         "hovertemplate": "tool=baseline_float<br>iterations=%{x}<br>mean=%{y}<extra></extra>",
         "legendgroup": "IEEE",
         "line": {
          "color": "#a80ca8"
         },
         "marker": {
          "color": "#a80ca8",
          "opacity": 0.85,
          "size": 6,
          "symbol": "hexagram"
         },
         "mode": "markers",
         "name": "IEEE binary32",
         "orientation": "v",
         "showlegend": true,
         "type": "scatter",
         "x": {
          "bdata": "ZAAAAHAAAAB+AAAAjQAAAJ8AAACyAAAAyAAAAOEAAAD9AAAAHAEAAD8BAABnAQAAkwEAAMUBAAD9AQAAPAIAAIICAADSAgAAKwMAAI8DAAD/AwAAfQQAAAsFAACqBQAAXQYAACYHAAAICAAABgkAACMKAABjCwAAygwAAF4OAAAkEAAAIRIAAF4UAADhFgAAsxkAAN4cAABuIAAAbiQAAOwoAAD4LQAAozMAAAE6AAApQQAAMkkAADlSAABcXAAAwGcAAIx0AADsggAAEZMAADSlAACUuQAAdtAAACzqAAANBwEAficBAO9LAQDedAEA2qIBAILWAQCIEAIAt1ECAO+aAgAv7QIAk0kDAFyxAwDyJQQA6agEAAY8BQBI4QUA7JoGAHRrBwCzVQgA1lwJAG2ECgB30AsAdUUNAHHoDgAavxAAzs8SALYhFQDcvBcASKoaACD0HQDKpSEAFMwlAF91KgDTsS8Al5M1AA4vPAAdm0MAf/FLABpPVQBj1F8A0qVrAFzseAAG1ocAgJaYAA==",
          "dtype": "i4"
         },
         "xaxis": "x",
         "y": {
          "bdata": "AAAAAOC/FEAAAACAYDMVQAAAAOB6qxVAAAAA4DkeFkAAAAAA2JgWQAAAAOAWDBdAAAAA4BqDF0AAAAAgbvsXQAAAAGBIcxhAAAAAwGvpGEAAAAAAO2AZQAAAAOAE2RlAAAAAYEBPGkAAAACA38YaQAAAACAaPhtAAAAAgHu1G0AAAABAmyscQAAAACDGoxxAAAAAALsaHUAAAADgupEdQAAAAEBnCB5AAAAAYEl/HkAAAADgjvYeQAAAAGBybR9AAAAAgJrkH0AAAADg2i0gQAAAAEB2aSBAAAAAwBalIEAAAABgpOAgQAAAAGArHCFAAAAA4J9XIUAAAADAMJMhQAAAAKDGziFA////Hz8KIkAAAACg2EUiQAAAAMBhgSJAAAAAgOW8IkAAAACAaPgiQP///5/8MyNAAAAAIIlvI0AAAADAEKsjQAAAACCb5iNAAQAAQCMiJEAAAAAgrF0kQAAAAGA6mSRA////38LUJEABAABgThAlQAAAAKDWSyVA////f2aHJUAAAADA6cIlQAAAAEB5/iVAAAAAoP05JkAAAADgiHUmQAAAACAOsSZAAAAAIKjsJkAAAADgTignQAAAACDTYydAAQAAQC2fJ0AAAAAA2tonQP///z8qFihAAAAAgMxRKEABAABAc40oQAAAACDlyChAAAAAgCEEKUABAACAmT8pQAAAAOC6fClAAAAAYHm2KUAAAACA8vIpQAAAAIA9LSpAAAAAAOVrKkAAAADgD6MqQAAAAKAI4SpA////XxUgK0AAAABgN1QrQAAAACDHjitAAAAA4I/QK0AAAACgdRosQAAAAIC+SCxAAAAAQF53LEAAAADAvassQP///9+S5ixAAAAAYKkoLUAAAABg5nItQAAAACBLxi1AAAAAoPgjLkAAAACgM40uQAAAAICvzi5AAAAAgK/OLkAAAACAr84uQAAAAICvzi5AAAAAgK/OLkAAAACAr84uQAAAAICvzi5AAAAAgK/OLkAAAACAr84uQAAAAICvzi5AAAAAgK/OLkAAAACAr84uQAAAAICvzi5AAAAAgK/OLkA=",
          "dtype": "f8"
         },
         "yaxis": "y"
        },
        {
         "hovertemplate": "tool=prism_sr<br>iterations=%{x}<br>mean=%{y}<extra></extra>",
         "legendgroup": "PRISM",
         "line": {
          "color": "#1f77b4"
         },
         "marker": {
          "color": "#1f77b4",
          "opacity": 0.85,
          "size": 6,
          "symbol": "triangle-up"
         },
         "mode": "markers",
         "name": "PRISM SR",
         "orientation": "v",
         "showlegend": true,
         "type": "scatter",
         "x": {
          "bdata": "ZAAAAHAAAAB+AAAAjQAAAJ8AAACyAAAAyAAAAOEAAAD9AAAAHAEAAD8BAABnAQAAkwEAAMUBAAD9AQAAPAIAAIICAADSAgAAKwMAAI8DAAD/AwAAfQQAAAsFAACqBQAAXQYAACYHAAAICAAABgkAACMKAABjCwAAygwAAF4OAAAkEAAAIRIAAF4UAADhFgAAsxkAAN4cAABuIAAAbiQAAOwoAAD4LQAAozMAAAE6AAApQQAAMkkAADlSAABcXAAAwGcAAIx0AADsggAAEZMAADSlAACUuQAAdtAAACzqAAANBwEAficBAO9LAQDedAEA2qIBAILWAQCIEAIAt1ECAO+aAgAv7QIAk0kDAFyxAwDyJQQA6agEAAY8BQBI4QUA7JoGAHRrBwCzVQgA1lwJAG2ECgB30AsAdUUNAHHoDgAavxAAzs8SALYhFQDcvBcASKoaACD0HQDKpSEAFMwlAF91KgDTsS8Al5M1AA4vPAAdm0MAf/FLABpPVQBj1F8A0qVrAFzseAAG1ocAgJaYAA==",
          "dtype": "i4"
         },
         "xaxis": "x",
         "y": {
          "bdata": "VVVVNeC/FEBVVVX1XzMVQFVVVVV6qxVAq6qqSjkeFkCrqqqq15gWQAAAAIAWDBdAq6qqahqDF0CrqqoqbfsXQAAAACBIcxhAq6qq6mvpGECrqqpqOmAZQAAAAOAD2RlAVVVVVUBPGkBVVVWV38YaQKuqquoZPhtAVVVVFXu1G0CrqqrKmiscQFVVVXXFoxxAVVVVlboaHUCrqqqquZEdQAAAAABlCB5AAAAAIEl/HkCrqqqKjfYeQFVVVXVxbR9AAAAAYJrkH0AAAABg2y0gQFVVVdV0aSBAq6qqShalIEBVVVWVo+AgQFVVVZUqHCFAq6qqyp5XIUBVVVXVMZMhQAAAAADHziFAVlVVNT4KIkAAAAAg10UiQKyqqupfgSJAAAAAwOC8IkAAAACgZvgiQFVVVdX7MyNAVFVVFYVvI0CrqqqKFqsjQKuqqgqY5iNArKqqCiYiJEAAAACgq10kQKuqqmpAmSRAAAAAAL3UJECrqqqKUhAlQAAAAKDZSyVAq6qqylyHJUAAAACg7cIlQFRVVfV5/iVAVVVV9fg5JkBWVVWVkHUmQKuqqqoTsSZAAAAAgKLsJkCrqqqKJygnQFVVVfWuYydAVlVVdT+fJ0BVVVX12NonQKqqqkpPFihAVlVV1eZRKEBVVVW1aY0oQAEAAAD3yChAAAAAwIAEKUAAAACgDUApQAAAAOCHeylAq6qqyhe3KUABAACAifIpQAAAAMAzLipAAAAA4L9pKkBVVVUVWaUqQFVVVfXr4CpAVVVV9VscK0BVVVV101crQFVVVfWAkytAAAAAAP3OK0CrqqqKjwosQKyqqkryRSxAAAAAoMeBLEBVVVU1DL0sQAEAAECY+CxArKqqCoY0LUBUVVVVAXAtQKuqqkpIqy1AAQAAwKrmLUCrqqrqiyIuQFZVVfWcXS5ArKqqqq6ZLkCrqqrqBdUuQAAAAKCbEC9AVVVVNTpML0AAAAAATYcvQAAAAACdwy9AVlVVlaD+L0BVVVUVUB0wQFVVVfUAOzBAq6qqimVYMEBVVVUVdXYwQKuqqgqElDBAq6qqqvOxMEA=",
          "dtype": "f8"
         },
         "yaxis": "y"
        },
        {
         "hovertemplate": "tool=verrou_cestac<br>iterations=%{x}<br>mean=%{y}<extra></extra>",
         "legendgroup": "VERROU",
         "line": {
          "color": "#ff7f0e"
         },
         "marker": {
          "color": "#ff7f0e",
          "opacity": 0.85,
          "size": 6,
          "symbol": "x"
         },
         "mode": "markers",
         "name": "Verrou CESTAC",
         "orientation": "v",
         "showlegend": true,
         "type": "scatter",
         "x": {
          "bdata": "ZAAAAHAAAAB+AAAAjQAAAJ8AAACyAAAAyAAAAOEAAAD9AAAAHAEAAD8BAABnAQAAkwEAAMUBAAD9AQAAPAIAAIICAADSAgAAKwMAAI8DAAD/AwAAfQQAAAsFAACqBQAAXQYAACYHAAAICAAABgkAACMKAABjCwAAygwAAF4OAAAkEAAAIRIAAF4UAADhFgAAsxkAAN4cAABuIAAAbiQAAOwoAAD4LQAAozMAAAE6AAApQQAAMkkAADlSAABcXAAAwGcAAIx0AADsggAAEZMAADSlAACUuQAAdtAAACzqAAANBwEAficBAO9LAQDedAEA2qIBAILWAQCIEAIAt1ECAO+aAgAv7QIAk0kDAFyxAwDyJQQA6agEAAY8BQBI4QUA7JoGAHRrBwCzVQgA1lwJAG2ECgB30AsAdUUNAHHoDgAavxAAzs8SALYhFQDcvBcASKoaACD0HQDKpSEAFMwlAF91KgDTsS8Al5M1AA4vPAAdm0MAf/FLABpPVQBj1F8A0qVrAFzseAAG1ocAgJaYAA==",
          "dtype": "i4"
         },
         "xaxis": "x",
         "y": {
          "bdata": "AAAAgOC/FEBVVVX1YDMVQFVVVbV7qxVAVVVVdToeFkCsqqqK2JgWQFVVVbUXDBdAAQAAwBqDF0Csqqrqb/sXQAAAAABKcxhAq6qqymzpGEAAAAAAO2AZQAAAAGAE2RlArKqqKkFPGkCrqqrq4cYaQFVVVZUcPhtAVVVVVX61G0BVVVWVmyscQKuqqirJoxxAVVVVNb0aHUAAAAAAvJEdQKuqqspoCB5AVVVV1Up/HkBVVVXVkvYeQAAAACB1bR9AAAAAoJzkH0AAAABg3C0gQKuqqgp5aSBAAAAAgBmlIEBVVVWVo+AgQAAAAKAsHCFAq6qq6p9XIUCrqqpqM5MhQAAAAKDDziFAq6qqqj8KIkBVVVUV20UiQAEAAGBegSJAVFVVNea8IkAAAADgZPgiQFVVVZX8MyNA////v4dvI0BWVVX1EasjQKuqqkqe5iNAVFVVNSAiJEBVVVUVrV0kQAEAAOA7mSRAq6qqKs3UJECqqqpKSRAlQFVVVbXZSyVAVVVVdV6HJUCrqqqq8sIlQAAAAEB5/iVA////3wI6JkCrqqoqlnUmQKuqqsonsSZArKqqyp/sJkCrqqqqFCgnQFVVVXWdYydAAAAA4GGfJ0CrqqoqptonQKqqqiquFihAAAAAwNlRKEBVVVXVYo0oQFVVVVXdyChArKqqav0EKUABAACgWkApQFRVVdXueilAq6qqyp23KUAAAADA+PEpQKuqqgrRLipAAAAAAAVoKkCrqqqqZagqQFVVVVVS3ypAq6qqamsZK0ABAAAAl1orQFVVVfXdmCtAVVVVlT3KK0BWVVXVwQEsQFVVVZUGQCxAVVVVFeqFLECrqqqqrdQsQAAAAKAFFS1AVFVVldI1LUAAAACAEVstQAAAAGCXhC1AAAAA4CizLUAAAABgLOgtQFVVVXVGIy5AVlVVtbtlLkBVVVV14K8uQFVVVdV9BC9AAQAAwDViL0AAAADAkMsvQFVVVVULQjBAq6qqCv3HMEBVVVV1Ql4xQAAAAEC/BjJAVVVV1dvCMkBWVVX1XZczQAAAAOCPhjRAq6qqynWSNUA=",
          "dtype": "f8"
         },
         "yaxis": "y"
        }
       ],
       "layout": {
        "font": {
         "size": 20
        },
        "legend": {
         "font": {
          "size": 20
         },
         "itemsizing": "constant",
         "itemwidth": 30,
         "orientation": "h",
         "title": {
          "text": "Method"
         },
         "tracegroupgap": 0,
         "x": 0.5,
         "xanchor": "center",
         "y": 1.02,
         "yanchor": "bottom"
        },
        "margin": {
         "b": 10,
         "l": 20,
         "r": 20,
         "t": 100
        },
        "showlegend": false,
        "template": {
         "data": {
          "bar": [
           {
            "error_x": {
             "color": "#2a3f5f"
            },
            "error_y": {
             "color": "#2a3f5f"
            },
            "marker": {
             "line": {
              "color": "#E5ECF6",
              "width": 0.5
             },
             "pattern": {
              "fillmode": "overlay",
              "size": 10,
              "solidity": 0.2
             }
            },
            "type": "bar"
           }
          ],
          "barpolar": [
           {
            "marker": {
             "line": {
              "color": "#E5ECF6",
              "width": 0.5
             },
             "pattern": {
              "fillmode": "overlay",
              "size": 10,
              "solidity": 0.2
             }
            },
            "type": "barpolar"
           }
          ],
          "carpet": [
           {
            "aaxis": {
             "endlinecolor": "#2a3f5f",
             "gridcolor": "white",
             "linecolor": "white",
             "minorgridcolor": "white",
             "startlinecolor": "#2a3f5f"
            },
            "baxis": {
             "endlinecolor": "#2a3f5f",
             "gridcolor": "white",
             "linecolor": "white",
             "minorgridcolor": "white",
             "startlinecolor": "#2a3f5f"
            },
            "type": "carpet"
           }
          ],
          "choropleth": [
           {
            "colorbar": {
             "outlinewidth": 0,
             "ticks": ""
            },
            "type": "choropleth"
           }
          ],
          "contour": [
           {
            "colorbar": {
             "outlinewidth": 0,
             "ticks": ""
            },
            "colorscale": [
             [
              0,
              "#0d0887"
             ],
             [
              0.1111111111111111,
              "#46039f"
             ],
             [
              0.2222222222222222,
              "#7201a8"
             ],
             [
              0.3333333333333333,
              "#9c179e"
             ],
             [
              0.4444444444444444,
              "#bd3786"
             ],
             [
              0.5555555555555556,
              "#d8576b"
             ],
             [
              0.6666666666666666,
              "#ed7953"
             ],
             [
              0.7777777777777778,
              "#fb9f3a"
             ],
             [
              0.8888888888888888,
              "#fdca26"
             ],
             [
              1,
              "#f0f921"
             ]
            ],
            "type": "contour"
           }
          ],
          "contourcarpet": [
           {
            "colorbar": {
             "outlinewidth": 0,
             "ticks": ""
            },
            "type": "contourcarpet"
           }
          ],
          "heatmap": [
           {
            "colorbar": {
             "outlinewidth": 0,
             "ticks": ""
            },
            "colorscale": [
             [
              0,
              "#0d0887"
             ],
             [
              0.1111111111111111,
              "#46039f"
             ],
             [
              0.2222222222222222,
              "#7201a8"
             ],
             [
              0.3333333333333333,
              "#9c179e"
             ],
             [
              0.4444444444444444,
              "#bd3786"
             ],
             [
              0.5555555555555556,
              "#d8576b"
             ],
             [
              0.6666666666666666,
              "#ed7953"
             ],
             [
              0.7777777777777778,
              "#fb9f3a"
             ],
             [
              0.8888888888888888,
              "#fdca26"
             ],
             [
              1,
              "#f0f921"
             ]
            ],
            "type": "heatmap"
           }
          ],
          "histogram": [
           {
            "marker": {
             "pattern": {
              "fillmode": "overlay",
              "size": 10,
              "solidity": 0.2
             }
            },
            "type": "histogram"
           }
          ],
          "histogram2d": [
           {
            "colorbar": {
             "outlinewidth": 0,
             "ticks": ""
            },
            "colorscale": [
             [
              0,
              "#0d0887"
             ],
             [
              0.1111111111111111,
              "#46039f"
             ],
             [
              0.2222222222222222,
              "#7201a8"
             ],
             [
              0.3333333333333333,
              "#9c179e"
             ],
             [
              0.4444444444444444,
              "#bd3786"
             ],
             [
              0.5555555555555556,
              "#d8576b"
             ],
             [
              0.6666666666666666,
              "#ed7953"
             ],
             [
              0.7777777777777778,
              "#fb9f3a"
             ],
             [
              0.8888888888888888,
              "#fdca26"
             ],
             [
              1,
              "#f0f921"
             ]
            ],
            "type": "histogram2d"
           }
          ],
          "histogram2dcontour": [
           {
            "colorbar": {
             "outlinewidth": 0,
             "ticks": ""
            },
            "colorscale": [
             [
              0,
              "#0d0887"
             ],
             [
              0.1111111111111111,
              "#46039f"
             ],
             [
              0.2222222222222222,
              "#7201a8"
             ],
             [
              0.3333333333333333,
              "#9c179e"
             ],
             [
              0.4444444444444444,
              "#bd3786"
             ],
             [
              0.5555555555555556,
              "#d8576b"
             ],
             [
              0.6666666666666666,
              "#ed7953"
             ],
             [
              0.7777777777777778,
              "#fb9f3a"
             ],
             [
              0.8888888888888888,
              "#fdca26"
             ],
             [
              1,
              "#f0f921"
             ]
            ],
            "type": "histogram2dcontour"
           }
          ],
          "mesh3d": [
           {
            "colorbar": {
             "outlinewidth": 0,
             "ticks": ""
            },
            "type": "mesh3d"
           }
          ],
          "parcoords": [
           {
            "line": {
             "colorbar": {
              "outlinewidth": 0,
              "ticks": ""
             }
            },
            "type": "parcoords"
           }
          ],
          "pie": [
           {
            "automargin": true,
            "type": "pie"
           }
          ],
          "scatter": [
           {
            "fillpattern": {
             "fillmode": "overlay",
             "size": 10,
             "solidity": 0.2
            },
            "type": "scatter"
           }
          ],
          "scatter3d": [
           {
            "line": {
             "colorbar": {
              "outlinewidth": 0,
              "ticks": ""
             }
            },
            "marker": {
             "colorbar": {
              "outlinewidth": 0,
              "ticks": ""
             }
            },
            "type": "scatter3d"
           }
          ],
          "scattercarpet": [
           {
            "marker": {
             "colorbar": {
              "outlinewidth": 0,
              "ticks": ""
             }
            },
            "type": "scattercarpet"
           }
          ],
          "scattergeo": [
           {
            "marker": {
             "colorbar": {
              "outlinewidth": 0,
              "ticks": ""
             }
            },
            "type": "scattergeo"
           }
          ],
          "scattergl": [
           {
            "marker": {
             "colorbar": {
              "outlinewidth": 0,
              "ticks": ""
             }
            },
            "type": "scattergl"
           }
          ],
          "scattermap": [
           {
            "marker": {
             "colorbar": {
              "outlinewidth": 0,
              "ticks": ""
             }
            },
            "type": "scattermap"
           }
          ],
          "scattermapbox": [
           {
            "marker": {
             "colorbar": {
              "outlinewidth": 0,
              "ticks": ""
             }
            },
            "type": "scattermapbox"
           }
          ],
          "scatterpolar": [
           {
            "marker": {
             "colorbar": {
              "outlinewidth": 0,
              "ticks": ""
             }
            },
            "type": "scatterpolar"
           }
          ],
          "scatterpolargl": [
           {
            "marker": {
             "colorbar": {
              "outlinewidth": 0,
              "ticks": ""
             }
            },
            "type": "scatterpolargl"
           }
          ],
          "scatterternary": [
           {
            "marker": {
             "colorbar": {
              "outlinewidth": 0,
              "ticks": ""
             }
            },
            "type": "scatterternary"
           }
          ],
          "surface": [
           {
            "colorbar": {
             "outlinewidth": 0,
             "ticks": ""
            },
            "colorscale": [
             [
              0,
              "#0d0887"
             ],
             [
              0.1111111111111111,
              "#46039f"
             ],
             [
              0.2222222222222222,
              "#7201a8"
             ],
             [
              0.3333333333333333,
              "#9c179e"
             ],
             [
              0.4444444444444444,
              "#bd3786"
             ],
             [
              0.5555555555555556,
              "#d8576b"
             ],
             [
              0.6666666666666666,
              "#ed7953"
             ],
             [
              0.7777777777777778,
              "#fb9f3a"
             ],
             [
              0.8888888888888888,
              "#fdca26"
             ],
             [
              1,
              "#f0f921"
             ]
            ],
            "type": "surface"
           }
          ],
          "table": [
           {
            "cells": {
             "fill": {
              "color": "#EBF0F8"
             },
             "line": {
              "color": "white"
             }
            },
            "header": {
             "fill": {
              "color": "#C8D4E3"
             },
             "line": {
              "color": "white"
             }
            },
            "type": "table"
           }
          ]
         },
         "layout": {
          "annotationdefaults": {
           "arrowcolor": "#2a3f5f",
           "arrowhead": 0,
           "arrowwidth": 1
          },
          "autotypenumbers": "strict",
          "coloraxis": {
           "colorbar": {
            "outlinewidth": 0,
            "ticks": ""
           }
          },
          "colorscale": {
           "diverging": [
            [
             0,
             "#8e0152"
            ],
            [
             0.1,
             "#c51b7d"
            ],
            [
             0.2,
             "#de77ae"
            ],
            [
             0.3,
             "#f1b6da"
            ],
            [
             0.4,
             "#fde0ef"
            ],
            [
             0.5,
             "#f7f7f7"
            ],
            [
             0.6,
             "#e6f5d0"
            ],
            [
             0.7,
             "#b8e186"
            ],
            [
             0.8,
             "#7fbc41"
            ],
            [
             0.9,
             "#4d9221"
            ],
            [
             1,
             "#276419"
            ]
           ],
           "sequential": [
            [
             0,
             "#0d0887"
            ],
            [
             0.1111111111111111,
             "#46039f"
            ],
            [
             0.2222222222222222,
             "#7201a8"
            ],
            [
             0.3333333333333333,
             "#9c179e"
            ],
            [
             0.4444444444444444,
             "#bd3786"
            ],
            [
             0.5555555555555556,
             "#d8576b"
            ],
            [
             0.6666666666666666,
             "#ed7953"
            ],
            [
             0.7777777777777778,
             "#fb9f3a"
            ],
            [
             0.8888888888888888,
             "#fdca26"
            ],
            [
             1,
             "#f0f921"
            ]
           ],
           "sequentialminus": [
            [
             0,
             "#0d0887"
            ],
            [
             0.1111111111111111,
             "#46039f"
            ],
            [
             0.2222222222222222,
             "#7201a8"
            ],
            [
             0.3333333333333333,
             "#9c179e"
            ],
            [
             0.4444444444444444,
             "#bd3786"
            ],
            [
             0.5555555555555556,
             "#d8576b"
            ],
            [
             0.6666666666666666,
             "#ed7953"
            ],
            [
             0.7777777777777778,
             "#fb9f3a"
            ],
            [
             0.8888888888888888,
             "#fdca26"
            ],
            [
             1,
             "#f0f921"
            ]
           ]
          },
          "colorway": [
           "#636efa",
           "#EF553B",
           "#00cc96",
           "#ab63fa",
           "#FFA15A",
           "#19d3f3",
           "#FF6692",
           "#B6E880",
           "#FF97FF",
           "#FECB52"
          ],
          "font": {
           "color": "#2a3f5f"
          },
          "geo": {
           "bgcolor": "white",
           "lakecolor": "white",
           "landcolor": "#E5ECF6",
           "showlakes": true,
           "showland": true,
           "subunitcolor": "white"
          },
          "hoverlabel": {
           "align": "left"
          },
          "hovermode": "closest",
          "mapbox": {
           "style": "light"
          },
          "paper_bgcolor": "white",
          "plot_bgcolor": "#E5ECF6",
          "polar": {
           "angularaxis": {
            "gridcolor": "white",
            "linecolor": "white",
            "ticks": ""
           },
           "bgcolor": "#E5ECF6",
           "radialaxis": {
            "gridcolor": "white",
            "linecolor": "white",
            "ticks": ""
           }
          },
          "scene": {
           "xaxis": {
            "backgroundcolor": "#E5ECF6",
            "gridcolor": "white",
            "gridwidth": 2,
            "linecolor": "white",
            "showbackground": true,
            "ticks": "",
            "zerolinecolor": "white"
           },
           "yaxis": {
            "backgroundcolor": "#E5ECF6",
            "gridcolor": "white",
            "gridwidth": 2,
            "linecolor": "white",
            "showbackground": true,
            "ticks": "",
            "zerolinecolor": "white"
           },
           "zaxis": {
            "backgroundcolor": "#E5ECF6",
            "gridcolor": "white",
            "gridwidth": 2,
            "linecolor": "white",
            "showbackground": true,
            "ticks": "",
            "zerolinecolor": "white"
           }
          },
          "shapedefaults": {
           "line": {
            "color": "#2a3f5f"
           }
          },
          "ternary": {
           "aaxis": {
            "gridcolor": "white",
            "linecolor": "white",
            "ticks": ""
           },
           "baxis": {
            "gridcolor": "white",
            "linecolor": "white",
            "ticks": ""
           },
           "bgcolor": "#E5ECF6",
           "caxis": {
            "gridcolor": "white",
            "linecolor": "white",
            "ticks": ""
           }
          },
          "title": {
           "x": 0.05
          },
          "xaxis": {
           "automargin": true,
           "gridcolor": "white",
           "linecolor": "white",
           "ticks": "",
           "title": {
            "standoff": 15
           },
           "zerolinecolor": "white",
           "zerolinewidth": 2
          },
          "yaxis": {
           "automargin": true,
           "gridcolor": "white",
           "linecolor": "white",
           "ticks": "",
           "title": {
            "standoff": 15
           },
           "zerolinecolor": "white",
           "zerolinewidth": 2
          }
         }
        },
        "xaxis": {
         "anchor": "y",
         "domain": [
          0,
          1
         ],
         "exponentformat": "power",
         "range": [
          6,
          7.1
         ],
         "title": {
          "standoff": 0,
          "text": "Iteration"
         },
         "type": "log"
        },
        "yaxis": {
         "anchor": "x",
         "domain": [
          0,
          1
         ],
         "range": [
          14,
          22
         ],
         "side": "right",
         "title": {
          "text": "Average"
         }
        }
       }
      }
     },
     "metadata": {},
     "output_type": "display_data"
    }
   ],
   "source": [
    "df = pd.read_csv(\"harmonic-numerics.csv\")\n",
    "df.sort_values(by=[\"iterations\"], inplace=True)\n",
    "df_perf = df[df[\"mode\"] == \"perf\"]\n",
    "fig = px.scatter(\n",
    "    df_perf,\n",
    "    x=\"iterations\",\n",
    "    y=\"mean\",\n",
    "    color=\"tool\",\n",
    "    #            facet_col=\"mode\",\n",
    "    # markers=True,\n",
    "    log_x=True,\n",
    "    # error_y=\"std\",\n",
    ")\n",
    "\n",
    "\n",
    "for tool in df[\"tool\"].unique():\n",
    "    marker = marker_map.get(tool, \"diamond\")\n",
    "    fig.update_traces(marker_symbol=marker, selector=dict(name=tool))\n",
    "\n",
    "fig.for_each_trace(lambda t: t.update(legendgroup=(legendgroup_map[t.name])))\n",
    "\n",
    "for tool in df[\"tool\"].unique():\n",
    "    new_name = legend_map.get(tool, tool)\n",
    "    fig.for_each_trace(lambda t: t.update(name=new_name) if t.name == tool else ())\n",
    "\n",
    "for trace in fig.data:\n",
    "    trace.update(marker=dict(color=color_map[trace.legendgroup]))\n",
    "    trace.update(line=dict(color=color_map[trace.legendgroup]))\n",
    "\n",
    "fig.update_traces(marker=dict(size=6))\n",
    "fig.update_traces(marker=dict(opacity=0.85))\n",
    "\n",
    "ytitle = \"Average\"\n",
    "xtitle = \"Iteration\"\n",
    "fig.update_yaxes(title=ytitle)\n",
    "fig.update_xaxes(type=\"log\", exponentformat=\"power\", title=xtitle)\n",
    "\n",
    "fig.update_xaxes(range=[6, 7.1])\n",
    "fig.update_yaxes(range=[14, 22], side=\"right\")\n",
    "\n",
    "fig.update_layout(legend_title_text=\"Method\")\n",
    "fig.update_layout(font=dict(size=20))\n",
    "\n",
    "fig.update_layout(\n",
    "    legend=dict(orientation=\"h\", yanchor=\"bottom\", y=1.02, xanchor=\"center\", x=0.5)\n",
    ")\n",
    "\n",
    "fig.update_layout(\n",
    "    legend=dict(\n",
    "        orientation=\"h\",\n",
    "        yanchor=\"bottom\",\n",
    "        y=1.02,\n",
    "        xanchor=\"center\",\n",
    "        x=0.5,\n",
    "        itemwidth=30,  # Increase this value to increase space between labels\n",
    "        itemsizing=\"constant\",\n",
    "        font=dict(size=20),  # Reduce font size of legend\n",
    "    )\n",
    ")\n",
    "\n",
    "# do not show legend for mean\n",
    "fig.update_layout(showlegend=False)\n",
    "\n",
    "fig.update_layout(margin=dict(l=20, r=20, t=100, b=10))\n",
    "fig.update_layout(\n",
    "    xaxis=dict(title=dict(standoff=0))  # Adjust this value to move the x-axis title up\n",
    ")\n",
    "display(Image(fig.to_image(width=1000, height=800)))\n",
    "fig.show()"
   ]
  },
  {
   "cell_type": "markdown",
   "id": "75046086",
   "metadata": {},
   "source": [
    "## Standard deviation"
   ]
  },
  {
   "cell_type": "code",
   "execution_count": 7,
   "id": "15f0c82b",
   "metadata": {},
   "outputs": [
    {
     "data": {
      "image/png": "[encoded data removed]",
      "text/plain": [
       "<IPython.core.display.Image object>"
      ]
     },
     "metadata": {},
     "output_type": "display_data"
    },
    {
     "data": {
      "application/vnd.plotly.v1+json": {
       "config": {
        "plotlyServerURL": "https://plot.ly"
       },
       "data": [
        {
         "hovertemplate": "tool=prism_ud<br>iterations=%{x}<br>std=%{y}<extra></extra>",
         "legendgroup": "PRISM",
         "line": {
          "color": "#1f77b4"
         },
         "marker": {
          "color": "#1f77b4",
          "opacity": 0.85,
          "size": 6,
          "symbol": "diamond"
         },
         "mode": "markers",
         "name": "PRISM UD",
         "orientation": "v",
         "showlegend": true,
         "type": "scatter",
         "x": {
          "bdata": "ZAAAAHAAAAB+AAAAjQAAAJ8AAACyAAAAyAAAAOEAAAD9AAAAHAEAAD8BAABnAQAAkwEAAMUBAAD9AQAAPAIAAIICAADSAgAAKwMAAI8DAAD/AwAAfQQAAAsFAACqBQAAXQYAACYHAAAICAAABgkAACMKAABjCwAAygwAAF4OAAAkEAAAIRIAAF4UAADhFgAAsxkAAN4cAABuIAAAbiQAAOwoAAD4LQAAozMAAAE6AAApQQAAMkkAADlSAABcXAAAwGcAAIx0AADsggAAEZMAADSlAACUuQAAdtAAACzqAAANBwEAficBAO9LAQDedAEA2qIBAILWAQCIEAIAt1ECAO+aAgAv7QIAk0kDAFyxAwDyJQQA6agEAAY8BQBI4QUA7JoGAHRrBwCzVQgA1lwJAG2ECgB30AsAdUUNAHHoDgAavxAAzs8SALYhFQDcvBcASKoaACD0HQDKpSEAFMwlAF91KgDTsS8Al5M1AA4vPAAdm0MAf/FLABpPVQBj1F8A0qVrAFzseAAG1ocAgJaYAA==",
          "dtype": "i4"
         },
         "xaxis": "x",
         "y": {
          "bdata": "9i8SX2Vl1D7PYwIxnUjfPgU1eUBPXtk+hrj6avq+xT7h+iQEw2LYPn7EUCbjY9s+Zvr+3X0rrj41cEXTP9/gPjaCzQzvEtg+8uMJ65k61T7LjZx3NXHjPnXDZ0loX+I+LRvyTSnT2z55fcdi7graPmisnk2F8MY+VwUJY2Mc3D5kCjzQO0/gPuXa4INwe9M+8DzQBiX+5j4mTJ+I5r3EPmlW76W03+I+WhH+H5SZ2j7OBOzZmYLkPgzQS76aE+U+xQUhovti9T7cq2r5CMHjPnNihGLonPM+53pHALyM+j6++QWfAZrzPsTAT164FQA/Ln2vRDOxBD8CN5I7JYj0Ps+5URggDw8/idB2dppVCj9CZYAMKeAPP9Ndg0BaoA0/2ys3Nrl+Az9PaZvwM+7vPmBI5ik86AE/2kMAUoGbBD/FOFt+d2AGP+4l3gYaLiA/yC+yEs9hHD8IeDJ2vV8VP4DD4PKO/A4/ZbWzZb2/Dj9GgpcQ47X/Pp3HWJgKFBg/BuG48AphJj8sQSM/OWYZP3u2xpEo4wU/pVYlvG96JT/zeScQb3gPP4PxNYzFty4/q23cACKCET8TRdLRLWUnP1NxpDYU9CI//TBB5UWzNj+PwIeUcNn6Pux4AJmyXyI/Sl9xTHhaIj+OG/rxHPA/PxF/UwGs1T8/YDhPTCxaRz9gV051VuoiP3F5EnYxxSk/yFkmn6uJOT+V7R88n7U2P0KuVt5zS0A/bogQK57wQT+Zkfv7WW4yP9f2u4iGITk/Q/wdCcFuLz9KupA7T6FBP5LGxcOoVx8/xAJOWXq1VT/RnYQ7qV4uP344gZz9O0I/boWkLeEyRT9lOmxZ1gNaP/e1OAZnVUs/JGZunzbxQz/4ZP1NY/xJPy7sZgBj/VI/OqUn2PEAVD+Uu1zQJXdgP9ysrH3aDTQ/Y8JdCOIEUD9iZmCm9yhHPwfEdMvK+V0/iCsbsFHxXz+zpfEeq+g6PzoCLC3F4kk/j/Hgr81uZD+EMWwdZnVmPzZb5h2GJEQ/HEnP7AbfQD8efYlslulHP4sYz1QfpTE//nErxya4WT8=",
          "dtype": "f8"
         },
         "yaxis": "y"
        },
        {
         "hovertemplate": "tool=baseline_double<br>iterations=%{x}<br>std=%{y}<extra></extra>",
         "legendgroup": "IEEE",
         "line": {
          "color": "#a80ca8"
         },
         "marker": {
          "color": "#a80ca8",
          "opacity": 0.85,
          "size": 6,
          "symbol": "star"
         },
         "mode": "markers",
         "name": "IEEE binary64",
         "orientation": "v",
         "showlegend": true,
         "type": "scatter",
         "visible": true,
         "x": {
          "bdata": "ZAAAAHAAAAB+AAAAjQAAAJ8AAACyAAAAyAAAAOEAAAD9AAAAHAEAAD8BAABnAQAAkwEAAMUBAAD9AQAAPAIAAIICAADSAgAAKwMAAI8DAAD/AwAAfQQAAAsFAACqBQAAXQYAACYHAAAICAAABgkAACMKAABjCwAAygwAAF4OAAAkEAAAIRIAAF4UAADhFgAAsxkAAN4cAABuIAAAbiQAAOwoAAD4LQAAozMAAAE6AAApQQAAMkkAADlSAABcXAAAwGcAAIx0AADsggAAEZMAADSlAACUuQAAdtAAACzqAAANBwEAficBAO9LAQDedAEA2qIBAILWAQCIEAIAt1ECAO+aAgAv7QIAk0kDAFyxAwDyJQQA6agEAAY8BQBI4QUA7JoGAHRrBwCzVQgA1lwJAG2ECgB30AsAdUUNAHHoDgAavxAAzs8SALYhFQDcvBcASKoaACD0HQDKpSEAFMwlAF91KgDTsS8Al5M1AA4vPAAdm0MAf/FLABpPVQBj1F8A0qVrAFzseAAG1ocAgJaYAA==",
          "dtype": "i4"
         },
         "xaxis": "x",
         "y": {
          "bdata": "AAAAAAAAAAAAAAAAAAAAAAAAAAAAAAAAAAAAAAAAAAAAAAAAAAAAAAAAAAAAAAAAAAAAAAAAAAAAAAAAAAAAAAAAAAAAAAAAAAAAAAAAAAAAAAAAAAAAAAAAAAAAAAAAAAAAAAAAAAAAAAAAAAAAAAAAAAAAAAAAAAAAAAAAAAAAAAAAAAAAAAAAAAAAAAAAAAAAAAAAAAAAAAAAAAAAAAAAAAAAAAAAAAAAAAAAAAAAAAAAAAAAAAAAAAAAAAAAAAAAAAAAAAAAAAAAAAAAAAAAAAAAAAAAAAAAAAAAAAAAAAAAAAAAAAAAAAAAAAAAAAAAAAAAAAAAAAAAAAAAAAAAAAAAAAAAAAAAAAAAAAAAAAAAAAAAAAAAAAAAAAAAAAAAAAAAAAAAAAAAAAAAAAAAAAAAAAAAAAAAAAAAAAAAAAAAAAAAAAAAAAAAAAAAAAAAAAAAAAAAAAAAAAAAAAAAAAAAAAAAAAAAAAAAAAAAAAAAAAAAAAAAAAAAAAAAAAAAAAAAAAAAAAAAAAAAAAAAAAAAAAAAAAAAAAAAAAAAAAAAAAAAAAAAAAAAAAAAAAAAAAAAAAAAAAAAAAAAAAAAAAAAAAAAAAAAAAAAAAAAAAAAAAAAAAAAAAAAAAAAAAAAAAAAAAAAAAAAAAAAAAAAAAAAAAAAAAAAAAAAAAAAAAAAAAAAAAAAAAAAAAAAAAAAAAAAAAAAAAAAAAAAAAAAAAAAAAAAAAAAAAAAAAAAAAAAAAAAAAAAAAAAAAAAAAAAAAAAAAAAAAAAAAAAAAAAAAAAAAAAAAAAAAAAAAAAAAAAAAAAAAAAAAAAAAAAAAAAAAAAAAAAAAAAAAAAAAAAAAAAAAAAAAAAAAAAAAAAAAAAAAAAAAAAAAAAAAAAAAAAAAAAAAAAAAAAAAAAAAAAAAAAAAAAAAAAAAAAAAAAAAAAAAAAAAAAAAAAAAAAAAAAAAAAAAAAAAAAAAAAAAAAAAAAAAAAAAAAAAAAAAAAAAAAAAAAAAAAAAAAAAAAAAAAAAAAAAAAAAAAAAAAAAAAAAAAAAAAAAAAAAAAAAA=",
          "dtype": "f8"
         },
         "yaxis": "y"
        },
        {
         "hovertemplate": "tool=sr<br>iterations=%{x}<br>std=%{y}<extra></extra>",
         "legendgroup": "SR",
         "line": {
          "color": "#26b7e4"
         },
         "marker": {
          "color": "#26b7e4",
          "opacity": 0.85,
          "size": 6,
          "symbol": "triangle-up"
         },
         "mode": "markers",
         "name": "FM SR",
         "orientation": "v",
         "showlegend": true,
         "type": "scatter",
         "x": {
          "bdata": "ZAAAAHAAAAB+AAAAjQAAAJ8AAACyAAAAyAAAAOEAAAD9AAAAHAEAAD8BAABnAQAAkwEAAMUBAAD9AQAAPAIAAIICAADSAgAAKwMAAI8DAAD/AwAAfQQAAAsFAACqBQAAXQYAACYHAAAICAAABgkAACMKAABjCwAAygwAAF4OAAAkEAAAIRIAAF4UAADhFgAAsxkAAN4cAABuIAAAbiQAAOwoAAD4LQAAozMAAAE6AAApQQAAMkkAADlSAABcXAAAwGcAAIx0AADsggAAEZMAADSlAACUuQAAdtAAACzqAAANBwEAficBAO9LAQDedAEA2qIBAILWAQCIEAIAt1ECAO+aAgAv7QIAk0kDAFyxAwDyJQQA6agEAAY8BQBI4QUA7JoGAHRrBwCzVQgA1lwJAG2ECgB30AsAdUUNAHHoDgAavxAAzs8SALYhFQDcvBcASKoaACD0HQDKpSEAFMwlAF91KgDTsS8Al5M1AA4vPAAdm0MAf/FLABpPVQBj1F8A0qVrAFzseAAG1ocAgJaYAA==",
          "dtype": "i4"
         },
         "xaxis": "x",
         "y": {
          "bdata": "zTt/Zp6gpj5DDMSGL0ixPqebB2Z2VMA+Bp08gCovwj6e6sJ+3DG7Po9CnUr1P8U+tqYKwqXcxj4uIQkUjpizPkk/aBHq7r0+Gxs/Ig5muj6e6sJ+3DG7Pnh846rieMw+ohRpXJ1Yzj48BPptPXCwPloR/h+Umco+nurCftwxuz4IwYR/LInbPkqFeMlMjNQ+DhdOadAnzz6afEWsvSvXPv4Dm2VGWNM+LfiFIa+v1j7WyPArcaDHPl5KYdlB2dQ+WModSba7yj5DDMSGL0jRPhobPyIOZso+xS33UQhi3z5rvt/WVM70Pq2kaV5axfM+3P+bsNJZ6T4LhTf7KTv2PjwE+m09cOA+wAofAMZI3D7KQr6r3u31PvJ9Q680Dug+ED/8ixf4AT+JdA714AbvPh9Des4iMuo+W3SJCwQB/D6Cy8vwvMoFPz0Dcb+jIfA+sKIyi8Dd0z49LcwU6nP1PnJe4qGuGvk+lwoqcT/s/j6afLgOIgIOP1OX6fOALRI/55CpEA7PAz/3+6b+Td0TP6CW9OBUuPE+/KmWp5jiBz9SvgTsyLkEP775BZ8BmvM+LUBKjTuwFj9anSoAqloVP8VFctEITiA/VIJI/rSXGj970vHREScdPw3sz0SagB0/aITdhV+0Hz+MAQGEfN8gPzZn1OCwdiQ/9qQ0kyCYBj9eSayQwLcoP9+JnePuJxQ/+Iy0Aas1Hz/ryomQ0pQdP1kU0mhW8jI/Xvy5azMQGD92ASZupmEvP9tAWAtA3BU/NFR8B/ROMj9f76yFMbMFP6kftqlRAyE/sNtywwxDJD+zyIUIvsUnP+8gmpbpfCs/aYYWSRAiPT9kV9J0uL9IP0KN+KcysCE/6rteKzAyGz/FNpxT+34rP4W2fMcTDiI/HK1aq0k6QT+0OiDBFctCP3hUv1vFV/c+0Ckb0cmzEz86tECjAxRNP0jQsXdWjkw/iL13DJzBUD9OMcFAW1ZUP5Uu5oOWAUc/V3uLEfxBXz9RsX1rOMEQP0bg4IbN6Ew/SM0RFCimUT+8m2F2xPJYP+WCybcCdFw/0bhVSusBYT8=",
          "dtype": "f8"
         },
         "yaxis": "y"
        },
        {
         "hovertemplate": "tool=verificarlo<br>iterations=%{x}<br>std=%{y}<extra></extra>",
         "legendgroup": "MCA",
         "line": {
          "color": "#f10202"
         },
         "marker": {
          "color": "#f10202",
          "opacity": 0.85,
          "size": 6,
          "symbol": "triangle-up"
         },
         "mode": "markers",
         "name": "MCA RR",
         "orientation": "v",
         "showlegend": true,
         "type": "scatter",
         "x": {
          "bdata": "ZAAAAHAAAAB+AAAAjQAAAJ8AAACyAAAAyAAAAOEAAAD9AAAAHAEAAD8BAABnAQAAkwEAAMUBAAD9AQAAPAIAAIICAADSAgAAKwMAAI8DAAD/AwAAfQQAAAsFAACqBQAAXQYAACYHAAAICAAABgkAACMKAABjCwAAygwAAF4OAAAkEAAAIRIAAF4UAADhFgAAsxkAAN4cAABuIAAAbiQAAOwoAAD4LQAAozMAAAE6AAApQQAAMkkAADlSAABcXAAAwGcAAIx0AADsggAAEZMAADSlAACUuQAAdtAAACzqAAANBwEAficBAO9LAQDedAEA2qIBAILWAQCIEAIAt1ECAO+aAgAv7QIAk0kDAFyxAwDyJQQA6agEAAY8BQBI4QUA7JoGAHRrBwCzVQgA1lwJAG2ECgB30AsAdUUNAHHoDgAavxAAzs8SALYhFQDcvBcASKoaACD0HQDKpSEAFMwlAF91KgDTsS8Al5M1AA4vPAAdm0MAf/FLABpPVQBj1F8A0qVrAFzseAAG1ocAgJaYAA==",
          "dtype": "i4"
         },
         "xaxis": "x",
         "y": {
          "bdata": "Zvr+3X0rjj5m+v7dfSvOPtvUmguc9KM+zTt/Zp6gtj5aEf4flJnKPp7qwn7cMas+/YBDIHDevj5GoERMyrq4PtvUmguc9KM+dCtfRFaDyD48BPptPXDQPkMMxIYvSLE+ohRpXJ1Yzj5orJ5NhfDWPmb6/t19K44+HwDMotb8wT50K19EVoPIPnQrX0RWg8g+29SaC5z0oz4SioEOw/HYPqebB2Z2VMA+citfRFaD2D5yK19EVoPYPq6WkhQmjbc+LIqo9f5b5T6eifuqWBzQPiZMn4jmveQ+HgDMotb84T5AeieKCHbhPj4sDHC9ILo+sKIyi8Dd0z76hfLzbAzwPnxdAMC0kvA+VfJRi8zi9D570Kq6qRgFPx4AzKLW/PE+R4B4Vqfr+z7sHFI4hSjsPnSS9hwPtPM+6w32B/gP8D5JP2gR6u7NPigx9rq4QxU/Ghs/Ig5myj7D51pwuwYDP37EUCbjYws/WVSOF4ScCz8qqRMXW9z7Pi9ZLM66NhQ/FewQT2yjAj/Oc+lecrkXP44k3yr/fAY/4PsaJvrpBT+mYq/FrawBP3Bi9H7AlCE/KqkTF1vc+z713PBwBCoTPyLpVRQTkxk/K0Ksqkm5DD+LhLGNox4iP6BGl8xa3yA/IrNELAcSIT9NjlvCtUUGP6z0ex7kRB0/+2tW0qcrCT9ZaUVm+0EMP+SK2cy/xB0/7e8FybQkLT/+A5tlRljzPhnLkolktSI/mxJVt1PTMj+lhGEXLtk4P2M/peJxny8/N44KIAiyIT/3tnKpCHorP/xlFHysSj8/v5WHjQppIz8vHGfKBMAnP2DGBfxXdSU/8bHz9KyOKz/gKQ442QwuPxMt2YNqhjI/IcGNnt8lMD/uIxM2QXw6P2OfvbsJ+0A/e/jKDLCXOD9n+HCn9FJOP6YC7d27B0U/cy7Z/VpIKT9vsAHefn8/Pz96O1fLrU0/zbwHgiDHJT/gWB4FathHP7TYtsi9VFM/yMBW61FBOT+HcwpgibpRP6ybMfrYxVE/nQ6bXB37YT/fLabwTGtlPxWJIERm71M/A1SBPfavaz8=",
          "dtype": "f8"
         },
         "yaxis": "y"
        },
        {
         "hovertemplate": "tool=verrou_sr<br>iterations=%{x}<br>std=%{y}<extra></extra>",
         "legendgroup": "VERROU",
         "line": {
          "color": "#ff7f0e"
         },
         "marker": {
          "color": "#ff7f0e",
          "opacity": 0.85,
          "size": 6,
          "symbol": "triangle-up"
         },
         "mode": "markers",
         "name": "Verrou SR",
         "orientation": "v",
         "showlegend": true,
         "type": "scatter",
         "x": {
          "bdata": "ZAAAAHAAAAB+AAAAjQAAAJ8AAACyAAAAyAAAAOEAAAD9AAAAHAEAAD8BAABnAQAAkwEAAMUBAAD9AQAAPAIAAIICAADSAgAAKwMAAI8DAAD/AwAAfQQAAAsFAACqBQAAXQYAACYHAAAICAAABgkAACMKAABjCwAAygwAAF4OAAAkEAAAIRIAAF4UAADhFgAAsxkAAN4cAABuIAAAbiQAAOwoAAD4LQAAozMAAAE6AAApQQAAMkkAADlSAABcXAAAwGcAAIx0AADsggAAEZMAADSlAACUuQAAdtAAACzqAAANBwEAficBAO9LAQDedAEA2qIBAILWAQCIEAIAt1ECAO+aAgAv7QIAk0kDAFyxAwDyJQQA6agEAAY8BQBI4QUA7JoGAHRrBwCzVQgA1lwJAG2ECgB30AsAdUUNAHHoDgAavxAAzs8SALYhFQDcvBcASKoaACD0HQDKpSEAFMwlAF91KgDTsS8Al5M1AA4vPAAdm0MAf/FLABpPVQBj1F8A0qVrAFzseAAG1ocAgJaYAA==",
          "dtype": "i4"
         },
         "xaxis": "x",
         "y": {
          "bdata": "29SaC5z0oz5DDMSGL0ixPkagREzKurg+PAT6bT1wsD48BPptPXCwPlBRdTDixss+PAT6bT1wsD5DDMSGL0ixPkMMxIYvSLE+RqBETMq6uD62jeO+THS9Pn+IIZRsW9A+uWc97ocM0T67vX0nr1zjPmisnk2F8MY+vEOrE8or1j5QUXUw4sbLPgqFN/spO8Y+nalqnWV12D5t8qOZv4HePlcFCWNjHNw+aKyeTYXw1j64WmKFqvDZPmiHdYBrxNw+8sxtyb424D5zK19EVoPYPiZvQf3NlOw+dy8OjS9z5j6H60gvRxXgPram7g7MNu4+vvkFnwGa8z4LhTf7KTvWPmHfCJ1S//Q+Mph/ybNo7T4OF05p0CffPqIUaVydWN4+9XEurPWo8D6IuRhUfsLgPn0VTK/COQE/w2hXxCRx8T7F3MdNebL3Pl9Squ7GFgM/PnDMltHy6j6JQv3b50T+PiZv8i4mPQ4/JXNTVAPC9D6O2xZIf0rmPvTQoy/A0QY/p9YnmvTHET9ph3WAa8T8Pr8dp/f2aAU/V0FkkIYxAz9n18q3KEUXP93BRA1Ixfo+8+MJ65k65T5JQ2tDKHUVPw+fXy0MEgg/cNIO6Aq3FT/9/FekKdX0Pn0VTK/CORE/I95IpuacLj+/76oyankXPzm7r3UmoRs/z/CHddgTHD/KdhYqsAAPPwxGW9k3zB4/YhtCjcsDKD/R1jdGxeg2PxCA+loRHxc/accHF6f0IT+N+vtxFo0cP1eORNtJ4yk/HcVLXOj1Ij/QSNvscwEqP3T81DrH6iM/mX4oKPy1ID/ZQg9I5ro/P/Aev5H1ASY/6OiI9GkUNz+7vX4o8aouP0uwRuHG3y4/mEZ9nhqVPD/71dtcje8oPxdPqu7GFiM/AfuYfcMKID81Da+oKnwuP/DolQM9aUA/A9b/YvowUT/NKxeZmd1BP7PstGYRQDU/scWPClYsTD83/qkxOZktP0xHaBAayCY/B3+62ftAPT8rpt3N+VtBP5NbtnZ/6lM/vDzsMr9wQD9UVt1LdnxBP12hhfqWg0w/CAwvfbmrTj8=",
          "dtype": "f8"
         },
         "yaxis": "y"
        },
        {
         "hovertemplate": "tool=cadna<br>iterations=%{x}<br>std=%{y}<extra></extra>",
         "legendgroup": "CADNA",
         "line": {
          "color": "#1fb438"
         },
         "marker": {
          "color": "#1fb438",
          "opacity": 0.85,
          "size": 6,
          "symbol": "x"
         },
         "mode": "markers",
         "name": "CESTAC",
         "orientation": "v",
         "showlegend": true,
         "type": "scatter",
         "x": {
          "bdata": "ZAAAAHAAAAB+AAAAjQAAAJ8AAACyAAAAyAAAAOEAAAD9AAAAHAEAAD8BAABnAQAAkwEAAMUBAAD9AQAAPAIAAIICAADSAgAAKwMAAI8DAAD/AwAAfQQAAAsFAACqBQAAXQYAACYHAAAICAAABgkAACMKAABjCwAAygwAAF4OAAAkEAAAIRIAAF4UAADhFgAAsxkAAN4cAABuIAAAbiQAAOwoAAD4LQAAozMAAAE6AAApQQAAMkkAADlSAABcXAAAwGcAAIx0AADsggAAEZMAADSlAACUuQAAdtAAACzqAAANBwEAficBAO9LAQDedAEA2qIBAILWAQCIEAIAt1ECAO+aAgAv7QIAk0kDAFyxAwDyJQQA6agEAAY8BQBI4QUA7JoGAHRrBwCzVQgA1lwJAG2ECgB30AsAdUUNAHHoDgAavxAAzs8SALYhFQDcvBcASKoaACD0HQDKpSEAFMwlAF91KgDTsS8Al5M1AA4vPAAdm0MAf/FLABpPVQBj1F8A0qVrAFzseAAG1ocAgJaYAA==",
          "dtype": "i4"
         },
         "xaxis": "x",
         "y": {
          "bdata": "q9B1gdbqyz5OhzHXHXTRPly5K4NL2dQ+oiQPH2WK0j7JoXIKBxLTPupOx6xmnNM+wSt636kP0j4Y+byrl6/XPn7vCkocW8k+QfOl3T6Otz7fJi4ctdKyPh6+p9U/8LM+yg88w+l7sD68xN0AcnHAPjLzBkq2R8E+axtCvcVmyj6pzd+NWL/QPu5caCGJtd0+yUH0K2SP3j7oYkR0YhvhPg0DE4KNYuk+aTBNewB15z6gwc0M9njsPvXsUY2wx+g+iv54VIW66D6S2B5NsE/lPo+lOhEYg+8+NrFVjbDH+D4ZnUQOn1T9PmVxxjuZg/o+S3jHyoDn+z5K7KbUZrsCP5HJEQ1MJAQ/HBH5yBLfAz/kKPdCkw8KPyRYXUjdxAo/tH2jx9EhED8ELX2AOrERP+5yx/a+dBM/+byViZOcFT9d2C2OoTYaP6Jh7myTSx0/KV+IsWnlHj/qOaQ8s80hP1fkQaKIAyU/Y5csyhWVJj/e03AdfUcpP6KLIAV/lCw/1SSz8UY+MD+28w8BEBcyP6Y3Rwqd2DQ/VOwnV9fmNj/IlSF/s2g6P1L1dUQ9gT0/n7AODglsQD+pKq1Wx5JCPwOA3mqMtkQ/yavpEFSERz+R8GKOjB1KP31QrVS/dU0/wKUAayKTUD8/dQKGebRSP+MzLDLP5FQ/7DfwHAWHVz9IYNS6/lxaP/b48eN/v10/tikUgh+mYD+PeLF0KsdiP3MyfLV9CGU/F/nQ+jemZz9Sax65kpxqP2yE8GRw5G0/cyCA3TvKcD9rwMQQ1thyP/o2CLEQLHU/dvcUxFrGdz+Vyo0fTrd6PwEM7QcABn4/X56Lb+rbgD/QH7DyN++CPzYuVSHWRIU/fHNuyKzohz/2u8YNINuKP33UGXSYKI4/tT2dPeLwkD+uO7FraAeTP4uvN2zrYJU/m72mTtEEmD+CTaDFIfuaPyZy2GRcT54/5kcBJDUGoT/qxxgcuB6jP7h48aFnerU/cH3CqNEguD+oMQgWMhu7P8rZa+KMcr4/R0EknhUawT/PASUAAzbDP8Inz93FlMU/TwmafNw9yD8=",
          "dtype": "f8"
         },
         "yaxis": "y"
        },
        {
         "hovertemplate": "tool=baseline_float<br>iterations=%{x}<br>std=%{y}<extra></extra>",
         "legendgroup": "IEEE",
         "line": {
          "color": "#a80ca8"
         },
         "marker": {
          "color": "#a80ca8",
          "opacity": 0.85,
          "size": 6,
          "symbol": "hexagram"
         },
         "mode": "markers",
         "name": "IEEE binary32",
         "orientation": "v",
         "showlegend": true,
         "type": "scatter",
         "visible": true,
         "x": {
          "bdata": "ZAAAAHAAAAB+AAAAjQAAAJ8AAACyAAAAyAAAAOEAAAD9AAAAHAEAAD8BAABnAQAAkwEAAMUBAAD9AQAAPAIAAIICAADSAgAAKwMAAI8DAAD/AwAAfQQAAAsFAACqBQAAXQYAACYHAAAICAAABgkAACMKAABjCwAAygwAAF4OAAAkEAAAIRIAAF4UAADhFgAAsxkAAN4cAABuIAAAbiQAAOwoAAD4LQAAozMAAAE6AAApQQAAMkkAADlSAABcXAAAwGcAAIx0AADsggAAEZMAADSlAACUuQAAdtAAACzqAAANBwEAficBAO9LAQDedAEA2qIBAILWAQCIEAIAt1ECAO+aAgAv7QIAk0kDAFyxAwDyJQQA6agEAAY8BQBI4QUA7JoGAHRrBwCzVQgA1lwJAG2ECgB30AsAdUUNAHHoDgAavxAAzs8SALYhFQDcvBcASKoaACD0HQDKpSEAFMwlAF91KgDTsS8Al5M1AA4vPAAdm0MAf/FLABpPVQBj1F8A0qVrAFzseAAG1ocAgJaYAA==",
          "dtype": "i4"
         },
         "xaxis": "x",
         "y": {
          "bdata": "AAAAAAAAAAAAAAAAAAAAAAAAAAAAAAAAAAAAAAAAAAAAAAAAAAAAAAAAAAAAAAAAAAAAAAAAAAAAAAAAAAAAAAAAAAAAAAAAAAAAAAAAAAAAAAAAAAAAAAAAAAAAAAAAAAAAAAAAAAAAAAAAAAAAAAAAAAAAAAAAAAAAAAAAAAAAAAAAAAAAAAAAAAAAAAAAAAAAAAAAAAAAAAAAAAAAAAAAAAAAAAAAAAAAAAAAAAAAAAAAAAAAAAAAAAAAAAAAAAAAAAAAAAAAAAAAAAAAAAAAAAAAAAAAAAAAAAAAAAAAAAAAAAAAAAAAAAAAAAAAAAAAAAAAAAAAAAAAAAAAAAAAAAAAAAAAAAAAAAAAAAAAAAAAAAAAAAAAAAAAAAAAAAAAAAAAAAAAAAAAAAAAAAAAAAAAAAAAAAAAAAAAAAAAAAAAAAAAAAAAAAAAAAAAAAAAAAAAAAAAAAAAAAAAAAAAAAAAAAAAAAAAAAAAAAAAAAAAAAAAAAAAAAAAAAAAAAAAAAAAAAAAAAAAAAAAAAAAAAAAAAAAAAAAAAAAAAAAAAAAAAAAAAAAAAAAAAAAAAAAAAAAAAAAAAAAAAAAAAAAAAAAAAAAAAAAAAAAAAAAAAAAAAAAAAAAAAAAAAAAAAAAAAAAAAAAAAAAAAAAAAAAAAAAAAAAAAAAAAAAAAAAAAAAAAAAAAAAAAAAAAAAAAAAAAAAAAAAAAAAAAAAAAAAAAAAAAAAAAAAAAAAAAAAAAAAAAAAAAAAAAAAAAAAAAAAAAAAAAAAAAAAAAAAAAAAAAAAAAAAAAAAAAAAAAAAAAAAAAAAAAAAAAAAAAAAAAAAAAAAAAAAAAAAAAAAAAAAAAAAAAAAAAAAAAAAAAAAAAAAAAAAAAAAAAAAAAAAAAAAAAAAAAAAAAAAAAAAAAAAAAAAAAAAAAAAAAAAAAAAAAAAAAAAAAAAAAAAAAAAAAAAAAAAAAAAAAAAAAAAAAAAAAAAAAAAAAAAAAAAAAAAAAAAAAAAAAAAAAAAAAAAAAAAAAAAAAAAAAAAAAAAAAAAAAAAAAAAAAAAAAAAAAA=",
          "dtype": "f8"
         },
         "yaxis": "y"
        },
        {
         "hovertemplate": "tool=prism_sr<br>iterations=%{x}<br>std=%{y}<extra></extra>",
         "legendgroup": "PRISM",
         "line": {
          "color": "#1f77b4"
         },
         "marker": {
          "color": "#1f77b4",
          "opacity": 0.85,
          "size": 6,
          "symbol": "triangle-up"
         },
         "mode": "markers",
         "name": "PRISM SR",
         "orientation": "v",
         "showlegend": true,
         "type": "scatter",
         "x": {
          "bdata": "ZAAAAHAAAAB+AAAAjQAAAJ8AAACyAAAAyAAAAOEAAAD9AAAAHAEAAD8BAABnAQAAkwEAAMUBAAD9AQAAPAIAAIICAADSAgAAKwMAAI8DAAD/AwAAfQQAAAsFAACqBQAAXQYAACYHAAAICAAABgkAACMKAABjCwAAygwAAF4OAAAkEAAAIRIAAF4UAADhFgAAsxkAAN4cAABuIAAAbiQAAOwoAAD4LQAAozMAAAE6AAApQQAAMkkAADlSAABcXAAAwGcAAIx0AADsggAAEZMAADSlAACUuQAAdtAAACzqAAANBwEAficBAO9LAQDedAEA2qIBAILWAQCIEAIAt1ECAO+aAgAv7QIAk0kDAFyxAwDyJQQA6agEAAY8BQBI4QUA7JoGAHRrBwCzVQgA1lwJAG2ECgB30AsAdUUNAHHoDgAavxAAzs8SALYhFQDcvBcASKoaACD0HQDKpSEAFMwlAF91KgDTsS8Al5M1AA4vPAAdm0MAf/FLABpPVQBj1F8A0qVrAFzseAAG1ocAgJaYAA==",
          "dtype": "i4"
         },
         "xaxis": "x",
         "y": {
          "bdata": "nurCftwxqz6e6sJ+3DG7PhsbPyIOZro+JkyfiOa9xD5m+v7dfSuuPkMMxIYvSME+fly/qi7bsj65CDkSDiPDPsaxDR7VZM0+fly/qi7bsj65CDkSDiPDPgj0y9CgzN0+PAT6bT1wwD675aatw07RPom5GFR+wsA+Gxs/Ig5muj5+xFAm42PLPmAX3IKLCs8+foghlGxb0D7xBMZXzUXNPmUSJkpH7Mk+sKIyi8Ddwz4Iy+4ra63UPnL3UTngR+g+fF0AwLSS0D5dSmHZQdnkPqLSOc8p/+A+So3q7qDL5z6DEWcCP5HoPtzW6qN0EvQ+Mph/ybNo7T5bJRKbW57zPsHw+L8aduQ+to3jvkx03T4NnB7PCRH0PlYFCWNjHOw+Bp08gCovAj9/vfOZwUTwPhvd+6xelvo+P+7vf5iC/z5yXuKhrhr5PuXa4INwe+M+5npHALyM6j6cEt7YqVoBP8KqvhcwRAk/zXLAjtegAD94VL9bxVf3PtzSr5/V5/Y+Tz8ez2JHFj+ZBSHOIFD7PijpPBelpfY+ZWqyV7GCED9xUXjt5sAQP+Xa4INwe/M+/KmWp5jiBz8BQZ+w5tEHP6kftqlRAyE/h1zI4LowEj9WsGNn04gQP+lMH5YRQx0/UCI9p7ceGT+T75o2NLwgPyj0n0We/Cs/KwltLgJjFj+tdOv5mPAZP3eesu1RtQA/+Nu3ckRMGD/1yetGYoYlP8AMaDAemyE/qBNXaESeEz/Kc1eGvSouPwZ35o9ckRI/4NUbQXfVGj/kAOULuGwaP3APry3v6Ss/qaY7E5fcLz+Jn2sE089CP7oW0MQYHB4/W4vXytIbMj+PdC179WsoP+Y7/NwLtDY/EysN9XRDIj8Vl/W81q0gP1n82G1j7SM/8XU2FEXbLj8flz8Kw3lEP1Z2fFuwNCA/7EMt5h0hQz8R2FtoulxQP8xbolK1sj8/LcaVsfwTKj/NWXLz2VdDPx2Fwukr1kA/W042xzxDSD8VaIblmYNQPwaaBfRO3k4/ULESok5wRD+d06zx2HFVPw/tTo+4fU0/gJC3sgfbVj8=",
          "dtype": "f8"
         },
         "yaxis": "y"
        },
        {
         "hovertemplate": "tool=verrou_cestac<br>iterations=%{x}<br>std=%{y}<extra></extra>",
         "legendgroup": "VERROU",
         "line": {
          "color": "#ff7f0e"
         },
         "marker": {
          "color": "#ff7f0e",
          "opacity": 0.85,
          "size": 6,
          "symbol": "x"
         },
         "mode": "markers",
         "name": "Verrou CESTAC",
         "orientation": "v",
         "showlegend": true,
         "type": "scatter",
         "x": {
          "bdata": "ZAAAAHAAAAB+AAAAjQAAAJ8AAACyAAAAyAAAAOEAAAD9AAAAHAEAAD8BAABnAQAAkwEAAMUBAAD9AQAAPAIAAIICAADSAgAAKwMAAI8DAAD/AwAAfQQAAAsFAACqBQAAXQYAACYHAAAICAAABgkAACMKAABjCwAAygwAAF4OAAAkEAAAIRIAAF4UAADhFgAAsxkAAN4cAABuIAAAbiQAAOwoAAD4LQAAozMAAAE6AAApQQAAMkkAADlSAABcXAAAwGcAAIx0AADsggAAEZMAADSlAACUuQAAdtAAACzqAAANBwEAficBAO9LAQDedAEA2qIBAILWAQCIEAIAt1ECAO+aAgAv7QIAk0kDAFyxAwDyJQQA6agEAAY8BQBI4QUA7JoGAHRrBwCzVQgA1lwJAG2ECgB30AsAdUUNAHHoDgAavxAAzs8SALYhFQDcvBcASKoaACD0HQDKpSEAFMwlAF91KgDTsS8Al5M1AA4vPAAdm0MAf/FLABpPVQBj1F8A0qVrAFzseAAG1ocAgJaYAA==",
          "dtype": "i4"
         },
         "xaxis": "x",
         "y": {
          "bdata": "sKIyi8Ddwz62jeO+THS9Pp7qwn7cMas+tY3jvkx0zT6e6sJ+3DG7PgU1eUBPXsk+2WzfzHb4wD6GuPpq+r7FPkk/aBHq7r0+nurCftwxqz62pgrCpdzGPgadPIAqL9I+QHonigh20T7sHFI4hSjMPjwE+m09cMA+f4ghlGxb0D5QUXUw4sbLPmisnk2F8MY+LRvyTSnT2z6hYCRT0UfaPp2J+6pYHMA+Zvr+3X0r3j6t5PSPVnDbPpC2atVKtOQ+pBCVMV4p8z4OF05p0CffPloR/h+Umeo+2WzfzHb44D5pVu+ltN/yPg4XTmnQJ+8+4AwX5hyY8T6TX2dEoI3yPr2i6QkU1AM/ddncweY7+j6Y10My2ojcPnakczkiJ/k+4j94rlnl9j51FdcrUz7+PnGi43vmJQE/dRXXK1M+/j7qupiCcfAKP311FsMMJQY/mbxCvUXXBz8p9eTXc9UNP1ZOGfDitxI/zcPcVmigCT8uza91JqELP01hfnS/vgE/cl7ioa4a+T5qz8MO5XMRP/dRTfPCqBI/m4XNoYZ/Bj+HkRBsQ3kXP7D1x4vSFhY/tjf3XUwZFz8euS4tsrYUP+3fElmiBg4/RFRlzvFGGz+afEWsvSv3Pr5zSOwzsRE/02PU46BTKj+0UcQo8+InP+LJ/pP8nyA/a10pKZXNHT/46S+zuNgRP6GOTpp0vhg/USKCrotAKT/VmClfivglP4tg6LUrICY/OHeZqAcmIT8yXUMICC4fP9tEy+ELDi4/nAABtrvmKz8xYEmW7BggP/XvziU+QTw/96H0IAXqOD+qLAn/kYUiPw9KnK31tDU/r5DJNI9MLD9lZL6dEY9PP/1BuCISiyY/Dd5zsfStLj9W+mAt7ZQ7P0DhkIK1NVE/lV1YlnSvPT9aemOqPKZOP7B8STShsEQ/criDbqq3Sj8ad47nSC1LP7xYM0+8K0o/rkXQ62ZcVj9ekMNjWdFEP96puOAQMWA/wpBKKJjrWj8IlODEca9hP0R3Nzp8JlU/iW8fSocrZT/yhoLoI8JnP0eiE1b/1GI/TTgwLG2iQT8=",
          "dtype": "f8"
         },
         "yaxis": "y"
        }
       ],
       "layout": {
        "font": {
         "size": 20
        },
        "legend": {
         "font": {
          "size": 20
         },
         "itemsizing": "constant",
         "itemwidth": 30,
         "orientation": "h",
         "title": {
          "text": "Method"
         },
         "tracegroupgap": 0,
         "x": 0.5,
         "xanchor": "center",
         "y": 1.02,
         "yanchor": "bottom"
        },
        "margin": {
         "b": 10,
         "l": 20,
         "r": 20,
         "t": 20
        },
        "template": {
         "data": {
          "bar": [
           {
            "error_x": {
             "color": "#2a3f5f"
            },
            "error_y": {
             "color": "#2a3f5f"
            },
            "marker": {
             "line": {
              "color": "#E5ECF6",
              "width": 0.5
             },
             "pattern": {
              "fillmode": "overlay",
              "size": 10,
              "solidity": 0.2
             }
            },
            "type": "bar"
           }
          ],
          "barpolar": [
           {
            "marker": {
             "line": {
              "color": "#E5ECF6",
              "width": 0.5
             },
             "pattern": {
              "fillmode": "overlay",
              "size": 10,
              "solidity": 0.2
             }
            },
            "type": "barpolar"
           }
          ],
          "carpet": [
           {
            "aaxis": {
             "endlinecolor": "#2a3f5f",
             "gridcolor": "white",
             "linecolor": "white",
             "minorgridcolor": "white",
             "startlinecolor": "#2a3f5f"
            },
            "baxis": {
             "endlinecolor": "#2a3f5f",
             "gridcolor": "white",
             "linecolor": "white",
             "minorgridcolor": "white",
             "startlinecolor": "#2a3f5f"
            },
            "type": "carpet"
           }
          ],
          "choropleth": [
           {
            "colorbar": {
             "outlinewidth": 0,
             "ticks": ""
            },
            "type": "choropleth"
           }
          ],
          "contour": [
           {
            "colorbar": {
             "outlinewidth": 0,
             "ticks": ""
            },
            "colorscale": [
             [
              0,
              "#0d0887"
             ],
             [
              0.1111111111111111,
              "#46039f"
             ],
             [
              0.2222222222222222,
              "#7201a8"
             ],
             [
              0.3333333333333333,
              "#9c179e"
             ],
             [
              0.4444444444444444,
              "#bd3786"
             ],
             [
              0.5555555555555556,
              "#d8576b"
             ],
             [
              0.6666666666666666,
              "#ed7953"
             ],
             [
              0.7777777777777778,
              "#fb9f3a"
             ],
             [
              0.8888888888888888,
              "#fdca26"
             ],
             [
              1,
              "#f0f921"
             ]
            ],
            "type": "contour"
           }
          ],
          "contourcarpet": [
           {
            "colorbar": {
             "outlinewidth": 0,
             "ticks": ""
            },
            "type": "contourcarpet"
           }
          ],
          "heatmap": [
           {
            "colorbar": {
             "outlinewidth": 0,
             "ticks": ""
            },
            "colorscale": [
             [
              0,
              "#0d0887"
             ],
             [
              0.1111111111111111,
              "#46039f"
             ],
             [
              0.2222222222222222,
              "#7201a8"
             ],
             [
              0.3333333333333333,
              "#9c179e"
             ],
             [
              0.4444444444444444,
              "#bd3786"
             ],
             [
              0.5555555555555556,
              "#d8576b"
             ],
             [
              0.6666666666666666,
              "#ed7953"
             ],
             [
              0.7777777777777778,
              "#fb9f3a"
             ],
             [
              0.8888888888888888,
              "#fdca26"
             ],
             [
              1,
              "#f0f921"
             ]
            ],
            "type": "heatmap"
           }
          ],
          "histogram": [
           {
            "marker": {
             "pattern": {
              "fillmode": "overlay",
              "size": 10,
              "solidity": 0.2
             }
            },
            "type": "histogram"
           }
          ],
          "histogram2d": [
           {
            "colorbar": {
             "outlinewidth": 0,
             "ticks": ""
            },
            "colorscale": [
             [
              0,
              "#0d0887"
             ],
             [
              0.1111111111111111,
              "#46039f"
             ],
             [
              0.2222222222222222,
              "#7201a8"
             ],
             [
              0.3333333333333333,
              "#9c179e"
             ],
             [
              0.4444444444444444,
              "#bd3786"
             ],
             [
              0.5555555555555556,
              "#d8576b"
             ],
             [
              0.6666666666666666,
              "#ed7953"
             ],
             [
              0.7777777777777778,
              "#fb9f3a"
             ],
             [
              0.8888888888888888,
              "#fdca26"
             ],
             [
              1,
              "#f0f921"
             ]
            ],
            "type": "histogram2d"
           }
          ],
          "histogram2dcontour": [
           {
            "colorbar": {
             "outlinewidth": 0,
             "ticks": ""
            },
            "colorscale": [
             [
              0,
              "#0d0887"
             ],
             [
              0.1111111111111111,
              "#46039f"
             ],
             [
              0.2222222222222222,
              "#7201a8"
             ],
             [
              0.3333333333333333,
              "#9c179e"
             ],
             [
              0.4444444444444444,
              "#bd3786"
             ],
             [
              0.5555555555555556,
              "#d8576b"
             ],
             [
              0.6666666666666666,
              "#ed7953"
             ],
             [
              0.7777777777777778,
              "#fb9f3a"
             ],
             [
              0.8888888888888888,
              "#fdca26"
             ],
             [
              1,
              "#f0f921"
             ]
            ],
            "type": "histogram2dcontour"
           }
          ],
          "mesh3d": [
           {
            "colorbar": {
             "outlinewidth": 0,
             "ticks": ""
            },
            "type": "mesh3d"
           }
          ],
          "parcoords": [
           {
            "line": {
             "colorbar": {
              "outlinewidth": 0,
              "ticks": ""
             }
            },
            "type": "parcoords"
           }
          ],
          "pie": [
           {
            "automargin": true,
            "type": "pie"
           }
          ],
          "scatter": [
           {
            "fillpattern": {
             "fillmode": "overlay",
             "size": 10,
             "solidity": 0.2
            },
            "type": "scatter"
           }
          ],
          "scatter3d": [
           {
            "line": {
             "colorbar": {
              "outlinewidth": 0,
              "ticks": ""
             }
            },
            "marker": {
             "colorbar": {
              "outlinewidth": 0,
              "ticks": ""
             }
            },
            "type": "scatter3d"
           }
          ],
          "scattercarpet": [
           {
            "marker": {
             "colorbar": {
              "outlinewidth": 0,
              "ticks": ""
             }
            },
            "type": "scattercarpet"
           }
          ],
          "scattergeo": [
           {
            "marker": {
             "colorbar": {
              "outlinewidth": 0,
              "ticks": ""
             }
            },
            "type": "scattergeo"
           }
          ],
          "scattergl": [
           {
            "marker": {
             "colorbar": {
              "outlinewidth": 0,
              "ticks": ""
             }
            },
            "type": "scattergl"
           }
          ],
          "scattermap": [
           {
            "marker": {
             "colorbar": {
              "outlinewidth": 0,
              "ticks": ""
             }
            },
            "type": "scattermap"
           }
          ],
          "scattermapbox": [
           {
            "marker": {
             "colorbar": {
              "outlinewidth": 0,
              "ticks": ""
             }
            },
            "type": "scattermapbox"
           }
          ],
          "scatterpolar": [
           {
            "marker": {
             "colorbar": {
              "outlinewidth": 0,
              "ticks": ""
             }
            },
            "type": "scatterpolar"
           }
          ],
          "scatterpolargl": [
           {
            "marker": {
             "colorbar": {
              "outlinewidth": 0,
              "ticks": ""
             }
            },
            "type": "scatterpolargl"
           }
          ],
          "scatterternary": [
           {
            "marker": {
             "colorbar": {
              "outlinewidth": 0,
              "ticks": ""
             }
            },
            "type": "scatterternary"
           }
          ],
          "surface": [
           {
            "colorbar": {
             "outlinewidth": 0,
             "ticks": ""
            },
            "colorscale": [
             [
              0,
              "#0d0887"
             ],
             [
              0.1111111111111111,
              "#46039f"
             ],
             [
              0.2222222222222222,
              "#7201a8"
             ],
             [
              0.3333333333333333,
              "#9c179e"
             ],
             [
              0.4444444444444444,
              "#bd3786"
             ],
             [
              0.5555555555555556,
              "#d8576b"
             ],
             [
              0.6666666666666666,
              "#ed7953"
             ],
             [
              0.7777777777777778,
              "#fb9f3a"
             ],
             [
              0.8888888888888888,
              "#fdca26"
             ],
             [
              1,
              "#f0f921"
             ]
            ],
            "type": "surface"
           }
          ],
          "table": [
           {
            "cells": {
             "fill": {
              "color": "#EBF0F8"
             },
             "line": {
              "color": "white"
             }
            },
            "header": {
             "fill": {
              "color": "#C8D4E3"
             },
             "line": {
              "color": "white"
             }
            },
            "type": "table"
           }
          ]
         },
         "layout": {
          "annotationdefaults": {
           "arrowcolor": "#2a3f5f",
           "arrowhead": 0,
           "arrowwidth": 1
          },
          "autotypenumbers": "strict",
          "coloraxis": {
           "colorbar": {
            "outlinewidth": 0,
            "ticks": ""
           }
          },
          "colorscale": {
           "diverging": [
            [
             0,
             "#8e0152"
            ],
            [
             0.1,
             "#c51b7d"
            ],
            [
             0.2,
             "#de77ae"
            ],
            [
             0.3,
             "#f1b6da"
            ],
            [
             0.4,
             "#fde0ef"
            ],
            [
             0.5,
             "#f7f7f7"
            ],
            [
             0.6,
             "#e6f5d0"
            ],
            [
             0.7,
             "#b8e186"
            ],
            [
             0.8,
             "#7fbc41"
            ],
            [
             0.9,
             "#4d9221"
            ],
            [
             1,
             "#276419"
            ]
           ],
           "sequential": [
            [
             0,
             "#0d0887"
            ],
            [
             0.1111111111111111,
             "#46039f"
            ],
            [
             0.2222222222222222,
             "#7201a8"
            ],
            [
             0.3333333333333333,
             "#9c179e"
            ],
            [
             0.4444444444444444,
             "#bd3786"
            ],
            [
             0.5555555555555556,
             "#d8576b"
            ],
            [
             0.6666666666666666,
             "#ed7953"
            ],
            [
             0.7777777777777778,
             "#fb9f3a"
            ],
            [
             0.8888888888888888,
             "#fdca26"
            ],
            [
             1,
             "#f0f921"
            ]
           ],
           "sequentialminus": [
            [
             0,
             "#0d0887"
            ],
            [
             0.1111111111111111,
             "#46039f"
            ],
            [
             0.2222222222222222,
             "#7201a8"
            ],
            [
             0.3333333333333333,
             "#9c179e"
            ],
            [
             0.4444444444444444,
             "#bd3786"
            ],
            [
             0.5555555555555556,
             "#d8576b"
            ],
            [
             0.6666666666666666,
             "#ed7953"
            ],
            [
             0.7777777777777778,
             "#fb9f3a"
            ],
            [
             0.8888888888888888,
             "#fdca26"
            ],
            [
             1,
             "#f0f921"
            ]
           ]
          },
          "colorway": [
           "#636efa",
           "#EF553B",
           "#00cc96",
           "#ab63fa",
           "#FFA15A",
           "#19d3f3",
           "#FF6692",
           "#B6E880",
           "#FF97FF",
           "#FECB52"
          ],
          "font": {
           "color": "#2a3f5f"
          },
          "geo": {
           "bgcolor": "white",
           "lakecolor": "white",
           "landcolor": "#E5ECF6",
           "showlakes": true,
           "showland": true,
           "subunitcolor": "white"
          },
          "hoverlabel": {
           "align": "left"
          },
          "hovermode": "closest",
          "mapbox": {
           "style": "light"
          },
          "paper_bgcolor": "white",
          "plot_bgcolor": "#E5ECF6",
          "polar": {
           "angularaxis": {
            "gridcolor": "white",
            "linecolor": "white",
            "ticks": ""
           },
           "bgcolor": "#E5ECF6",
           "radialaxis": {
            "gridcolor": "white",
            "linecolor": "white",
            "ticks": ""
           }
          },
          "scene": {
           "xaxis": {
            "backgroundcolor": "#E5ECF6",
            "gridcolor": "white",
            "gridwidth": 2,
            "linecolor": "white",
            "showbackground": true,
            "ticks": "",
            "zerolinecolor": "white"
           },
           "yaxis": {
            "backgroundcolor": "#E5ECF6",
            "gridcolor": "white",
            "gridwidth": 2,
            "linecolor": "white",
            "showbackground": true,
            "ticks": "",
            "zerolinecolor": "white"
           },
           "zaxis": {
            "backgroundcolor": "#E5ECF6",
            "gridcolor": "white",
            "gridwidth": 2,
            "linecolor": "white",
            "showbackground": true,
            "ticks": "",
            "zerolinecolor": "white"
           }
          },
          "shapedefaults": {
           "line": {
            "color": "#2a3f5f"
           }
          },
          "ternary": {
           "aaxis": {
            "gridcolor": "white",
            "linecolor": "white",
            "ticks": ""
           },
           "baxis": {
            "gridcolor": "white",
            "linecolor": "white",
            "ticks": ""
           },
           "bgcolor": "#E5ECF6",
           "caxis": {
            "gridcolor": "white",
            "linecolor": "white",
            "ticks": ""
           }
          },
          "title": {
           "x": 0.05
          },
          "xaxis": {
           "automargin": true,
           "gridcolor": "white",
           "linecolor": "white",
           "ticks": "",
           "title": {
            "standoff": 15
           },
           "zerolinecolor": "white",
           "zerolinewidth": 2
          },
          "yaxis": {
           "automargin": true,
           "gridcolor": "white",
           "linecolor": "white",
           "ticks": "",
           "title": {
            "standoff": 15
           },
           "zerolinecolor": "white",
           "zerolinewidth": 2
          }
         }
        },
        "xaxis": {
         "anchor": "y",
         "domain": [
          0,
          1
         ],
         "exponentformat": "power",
         "title": {
          "standoff": 0,
          "text": "Iteration"
         },
         "type": "log"
        },
        "yaxis": {
         "anchor": "x",
         "domain": [
          0,
          1
         ],
         "exponentformat": "power",
         "title": {
          "text": "Standard Deviation"
         },
         "type": "log"
        }
       }
      }
     },
     "metadata": {},
     "output_type": "display_data"
    }
   ],
   "source": [
    "df = pd.read_csv(\"harmonic-numerics.csv\")\n",
    "df.sort_values(by=[\"iterations\"], inplace=True)\n",
    "df_perf = df[df[\"mode\"] == \"perf\"]\n",
    "fig = px.scatter(\n",
    "    df_perf,\n",
    "    x=\"iterations\",\n",
    "    y=\"std\",\n",
    "    color=\"tool\",\n",
    "    #           facet_col=\"mode\",\n",
    "    log_x=True,\n",
    "    log_y=True,\n",
    ")\n",
    "\n",
    "\n",
    "for tool in df[\"tool\"].unique():\n",
    "    marker = marker_map.get(tool, \"diamond\")\n",
    "    fig.update_traces(marker_symbol=marker, selector=dict(name=tool))\n",
    "\n",
    "fig.for_each_trace(lambda t: t.update(legendgroup=(legendgroup_map[t.name])))\n",
    "\n",
    "for tool in df[\"tool\"].unique():\n",
    "    new_name = legend_map.get(tool, tool)\n",
    "    fig.for_each_trace(lambda t: t.update(name=new_name) if t.name == tool else ())\n",
    "\n",
    "for trace in fig.data:\n",
    "    trace.update(marker=dict(color=color_map[trace.legendgroup]))\n",
    "    trace.update(line=dict(color=color_map[trace.legendgroup]))\n",
    "\n",
    "fig.update_traces(marker=dict(size=6))\n",
    "fig.update_traces(marker=dict(opacity=0.85))\n",
    "\n",
    "ytitle = \"Standard Deviation\"\n",
    "xtitle = \"Iteration\"\n",
    "fig.update_yaxes(type=\"log\", exponentformat=\"power\")\n",
    "fig.update_yaxes(title=ytitle)\n",
    "fig.update_xaxes(type=\"log\", exponentformat=\"power\", title=xtitle)\n",
    "\n",
    "# hide FLOAT and DOUBLE\n",
    "fig.update_traces(visible=True, selector=dict(name=\"IEEE binary32\"))\n",
    "fig.update_traces(visible=True, selector=dict(name=\"IEEE binary64\"))\n",
    "\n",
    "fig.update_layout(legend_title_text=\"Method\")\n",
    "fig.update_layout(font=dict(size=20))\n",
    "\n",
    "fig.update_layout(\n",
    "    legend=dict(orientation=\"h\", yanchor=\"bottom\", y=1.02, xanchor=\"center\", x=0.5)\n",
    ")\n",
    "\n",
    "fig.update_layout(\n",
    "    legend=dict(\n",
    "        orientation=\"h\",\n",
    "        yanchor=\"bottom\",\n",
    "        y=1.02,\n",
    "        xanchor=\"center\",\n",
    "        x=0.5,\n",
    "        itemwidth=30,  # Increase this value to increase space between labels\n",
    "        itemsizing=\"constant\",\n",
    "        font=dict(size=20),  # Reduce font size of legend\n",
    "    )\n",
    ")\n",
    "\n",
    "fig.update_layout(margin=dict(l=20, r=20, t=20, b=10))\n",
    "fig.update_layout(\n",
    "    xaxis=dict(title=dict(standoff=0))  # Adjust this value to move the x-axis title up\n",
    ")\n",
    "\n",
    "display(Image(fig.to_image(width=1000, height=800)))\n",
    "fig.show()"
   ]
  }
 ],
 "metadata": {
  "kernelspec": {
   "display_name": ".venv",
   "language": "python",
   "name": "python3"
  },
  "language_info": {
   "codemirror_mode": {
    "name": "ipython",
    "version": 3
   },
   "file_extension": ".py",
   "mimetype": "text/x-python",
   "name": "python",
   "nbconvert_exporter": "python",
   "pygments_lexer": "ipython3",
   "version": "3.12.3"
  }
 },
 "nbformat": 4,
 "nbformat_minor": 5
}
